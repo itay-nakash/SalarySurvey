{
 "cells": [
  {
   "cell_type": "code",
   "execution_count": 1,
   "metadata": {},
   "outputs": [],
   "source": [
    "import pandas as pd\n",
    "import numpy as np\n",
    "\n",
    "from numpy import average\n",
    "\n",
    "\n",
    "#import the csv to pandas\n",
    "file_path='/home/itay/salarySurvey/data/combined_survey_filtered_wout_outliers.xlsx'\n",
    "df =pd.read_excel(file_path)\n",
    "\n"
   ]
  },
  {
   "cell_type": "code",
   "execution_count": 2,
   "metadata": {},
   "outputs": [],
   "source": [
    "# enter the coulmns names as varibels:\n",
    "# this may varay according to the different qustions you will ask in your survey (and therefore, different columns)\n",
    "\n",
    "salary='שכר שעתי במשרת הסטודנט הראשונה (ש\"ח לשעה)'\n",
    "grade='ממוצע (נכון לתקופת חיפוש העבודה)'\n",
    "bargin='האם התמקחת אחרי קבלת ההצעה?'\n",
    "gender='מין'\n",
    "year='שנת הצעת העבודה'\n",
    "company='חברה (נא לכתוב באנגלית את שם החברה)'\n",
    "courses='קורסי מפתח שעשית לפני הצעת העבודה'\n",
    "exp='האם היה לך ניסיון לפני קבלת המשרה?'\n",
    "sem='באיזה סמסטר היית כשקיבלת את ההצעה?'\n",
    "\n",
    "ice_cream='טעם גלידה אהוב'\n",
    "\n",
    "# choosing the rounding density in this analyze \n",
    "rounding_density=4"
   ]
  },
  {
   "cell_type": "code",
   "execution_count": 3,
   "metadata": {},
   "outputs": [
    {
     "name": "stdout",
     "output_type": "stream",
     "text": [
      "avrg salary is 94.15186246418338, the len of the df is :349\n"
     ]
    }
   ],
   "source": [
    "av_df=df[salary].astype(float).sum()/len(df)\n",
    "av_df\n",
    "print(f\"avrg salary is {av_df}, the len of the df is :{len(df)}\")"
   ]
  },
  {
   "cell_type": "code",
   "execution_count": 4,
   "metadata": {},
   "outputs": [],
   "source": [
    "# basic functions for different usages:\n",
    "\n",
    "from scipy.stats import ttest_ind\n",
    "\n",
    "\n",
    "#calculate the average value of columnName column in df:\n",
    "def calculate_average(df,column_name):\n",
    "    num_of_rows=len(df)\n",
    "    sum_of_rows=df[column_name].astype(float).sum()\n",
    "    return sum_of_rows/num_of_rows # return the average value\n",
    "\n",
    "def calculate_precentage_of_binary_answer(df,column_name,binary_field_answer):\n",
    "    return len(df[df[column_name]==binary_field_answer])/ len(df)\n",
    "\n",
    "def create_sorted_average_dict(dict,field):\n",
    "    average_dict={}\n",
    "    sorted_dict={}\n",
    "    #calculate the average:\n",
    "    for name in dict:\n",
    "        average_dict[name]=calculate_average(dict[name],field)\n",
    "\n",
    "    #sort:\n",
    "    sorted_salary_list=sorted(average_dict.items(), key=lambda x: x[1])\n",
    "\n",
    "    for tup in sorted_salary_list:\n",
    "        average_rounded=round(tup[1],rounding_density)\n",
    "        new_key= tup[0]+\" \"+str(average_rounded)\n",
    "        sorted_dict[new_key]=tup[1] \n",
    "    return sorted_dict\n",
    "\n",
    "# recive a dict of catagories and df for the catagory, and list of catagories in the dict, and print the result of T-test bewtween each pair \n",
    "def create_ttest_for_pairs(dict,list):\n",
    "    pairs=set()\n",
    "    for c_var in list:\n",
    "        for c_var2 in list:\n",
    "            # I want to print each pair just once, so before printing I'm checking the pair wasn't already printed:         \n",
    "            if (c_var,c_var2) not in pairs and (c_var2,c_var) not in pairs and c_var != c_var2:\n",
    "                print(f\"ttest values for {str(c_var)} and {str(c_var2)} is {print_ttest_result_rounded(ttest_ind(dict[c_var], dict[c_var2]))}\")\n",
    "                pairs.add((c_var,c_var2))\n",
    "\n",
    "def print_ttest_result_rounded(ttest_result):\n",
    "    return f\"Ttest_result(statistic: {round(ttest_result.statistic,rounding_density)}, pvalue: {round(ttest_result.pvalue,rounding_density)})\""
   ]
  },
  {
   "cell_type": "code",
   "execution_count": 5,
   "metadata": {},
   "outputs": [
    {
     "name": "stdout",
     "output_type": "stream",
     "text": [
      "95.03625954198473\n",
      "84.42404580152672\n",
      "92.46296296296296\n",
      "83.09876543209876\n",
      "num of mens:262\n",
      "num of females:81\n",
      "Ttest_indResult(statistic=1.0880802954064281, pvalue=0.2773280911762262)\n"
     ]
    }
   ],
   "source": [
    "#calculate average salary and grades according to gender:\n",
    "\n",
    "male_df= df.loc[df[gender]=='זכר']\n",
    "female_df= df.loc[df['מין']=='נקבה']\n",
    "\n",
    "average_salary_male = calculate_average(male_df,salary)\n",
    "average_grade_male = calculate_average(male_df,grade)\n",
    "\n",
    "average_salary_female = calculate_average(female_df,salary)\n",
    "average_grade_female = calculate_average(female_df,grade)\n",
    "\n",
    "print(average_salary_male)\n",
    "print(average_grade_male)\n",
    "print(average_salary_female)\n",
    "print(average_grade_female)\n",
    "\n",
    "print('num of mens:' +str(len(male_df)))\n",
    "print('num of females:' +str(len(female_df)))\n",
    "\n",
    "res = ttest_ind(male_df[salary], female_df[salary])\n",
    "\n",
    "print(res)\n"
   ]
  },
  {
   "cell_type": "code",
   "execution_count": 6,
   "metadata": {},
   "outputs": [
    {
     "name": "stdout",
     "output_type": "stream",
     "text": [
      "bargin man avreage salary: 94.12264150943396   Amount:53\n",
      "didn't bargin man avreage salary: 95.61463414634146   Amount:205\n",
      "bargin woman avreage salary: 85.71923076923076   Amount:26\n",
      "didn't bargin woman avreage salary: 95.39245283018869   Amount:53\n",
      "ttest values for bargin_m and n_bargin_m is Ttest_result(statistic: -0.5011, pvalue: 0.6167)\n",
      "ttest values for bargin_m and bargin_f is Ttest_result(statistic: 1.9122, pvalue: 0.0596)\n",
      "ttest values for bargin_m and n_bargin_f is Ttest_result(statistic: -0.3896, pvalue: 0.6976)\n",
      "ttest values for n_bargin_m and bargin_f is Ttest_result(statistic: 2.4772, pvalue: 0.014)\n",
      "ttest values for n_bargin_m and n_bargin_f is Ttest_result(statistic: 0.0779, pvalue: 0.938)\n",
      "ttest values for bargin_f and n_bargin_f is Ttest_result(statistic: -2.6417, pvalue: 0.01)\n"
     ]
    }
   ],
   "source": [
    "#bargin presentage:\n",
    "\n",
    "from unicodedata import name\n",
    "\n",
    "\n",
    "precents_of_male_bargin=calculate_precentage_of_binary_answer(male_df,bargin,'כן')\n",
    "precents_of_female_bargin=calculate_precentage_of_binary_answer(female_df,bargin,'כן')\n",
    "\n",
    "bargin_m=male_df[male_df[bargin]=='כן']\n",
    "n_bargin_m=male_df[male_df[bargin]=='לא']\n",
    "bargin_f=female_df[female_df[bargin]=='כן']\n",
    "n_bargin_f=female_df[female_df[bargin]=='לא']\n",
    "\n",
    "\n",
    "print(\"bargin man avreage salary: \"+str(calculate_average( bargin_m,salary))+ '   Amount:'+str(len(bargin_m)))\n",
    "print(\"didn't bargin man avreage salary: \"+str(calculate_average( n_bargin_m,salary))+ '   Amount:'+str(len(n_bargin_m)))\n",
    "print(\"bargin woman avreage salary: \"+str(calculate_average( bargin_f,salary))+ '   Amount:'+str(len(bargin_f)))\n",
    "print(\"didn't bargin woman avreage salary: \"+ str(calculate_average( n_bargin_f,salary))+ '   Amount:'+str(len(n_bargin_f)))\n",
    "\n",
    "\n",
    "# checking for t-test values for the resutls:\n",
    "\n",
    "bargin_keys=['bargin_m','n_bargin_m','bargin_f','n_bargin_f']\n",
    "bargin_dict={}\n",
    "bargin_dict['bargin_m']=male_df[male_df[bargin]=='כן'][salary]\n",
    "bargin_dict['n_bargin_m']=male_df[male_df[bargin]=='לא'][salary]\n",
    "bargin_dict['bargin_f']=female_df[female_df[bargin]=='כן'][salary]\n",
    "bargin_dict['n_bargin_f']=female_df[female_df[bargin]=='לא'][salary]\n",
    "\n",
    "create_ttest_for_pairs(bargin_dict,bargin_keys)\n"
   ]
  },
  {
   "cell_type": "code",
   "execution_count": 7,
   "metadata": {},
   "outputs": [
    {
     "data": {
      "image/png": "[encoded data removed]",
      "text/plain": [
       "<Figure size 432x288 with 1 Axes>"
      ]
     },
     "metadata": {
      "needs_background": "light"
     },
     "output_type": "display_data"
    }
   ],
   "source": [
    "# Create a boxplot for gender:\n",
    "\n",
    "import matplotlib.pyplot as plt\n",
    "man_salarys=male_df[[salary]].astype(float)\n",
    "fman_salarys=female_df[[salary]].astype(float)\n",
    "\n",
    "# Set the figure size\n",
    "plt.rcParams[\"figure.figsize\"] = [7.50, 3.50]\n",
    "plt.rcParams[\"figure.autolayout\"] = True\n",
    "\n",
    "# Pandas dataframe\n",
    "combined_dfs = pd.DataFrame({\"men\\'s salary\": male_df[salary].astype(float), \"women\\'s salary\": female_df[salary].astype(float)})\n",
    "\n",
    "# Plot the dataframe\n",
    "ax = combined_dfs[['men\\'s salary', 'women\\'s salary']].plot(kind='box',grid=True, showmeans=True,title='Salary By Gender')\n",
    "\n",
    "# Display the plot\n",
    "plt.show()"
   ]
  },
  {
   "cell_type": "code",
   "execution_count": 8,
   "metadata": {},
   "outputs": [
    {
     "data": {
      "image/png": "[encoded data removed]",
      "text/plain": [
       "<Figure size 432x288 with 1 Axes>"
      ]
     },
     "metadata": {
      "needs_background": "light"
     },
     "output_type": "display_data"
    },
    {
     "data": {
      "text/plain": [
       "(0.5006559845489419, 7.612977142887622e-23)"
      ]
     },
     "execution_count": 8,
     "metadata": {},
     "output_type": "execute_result"
    }
   ],
   "source": [
    "#scatter point for grade vs salary:\n",
    "\n",
    "#get outliers cleaned for the scatter point:\n",
    "scatter_df=df\n",
    "scatter_point_threshold =140\n",
    "scatter_df[scatter_df[salary]>scatter_point_threshold]\n",
    "scatter_df = scatter_df.drop(scatter_df[scatter_df[salary]>160].index)\n",
    "\n",
    "#clean people who didn't fill salary or grade:\n",
    "\n",
    "scatter_df=scatter_df[scatter_df[grade].notna()]\n",
    "scatter_df=scatter_df[scatter_df[salary].notna()]\n",
    "scatter_df\n",
    "\n",
    "\n",
    "#plot scatter points:\n",
    "x=scatter_df[grade].astype(float)\n",
    "y=scatter_df[salary].astype(float)\n",
    "plt.scatter(x,y)\n",
    "plt.title(\"Salary By Average Grade\")\n",
    "plt.xlabel(\"Average grade\")\n",
    "plt.ylabel(\"Salary\")\n",
    "plt.show()\n",
    "\n",
    "\n",
    "\n",
    "#check correlation between salary and grades using pearsonr test:\n",
    "\n",
    "from scipy.stats import pearsonr\n",
    "grades=scatter_df[grade].astype(float).dropna()\n",
    "salaris=scatter_df[salary].astype(float).dropna()\n",
    "pearsonr(grades, salaris )\n"
   ]
  },
  {
   "cell_type": "code",
   "execution_count": 9,
   "metadata": {},
   "outputs": [
    {
     "name": "stdout",
     "output_type": "stream",
     "text": [
      "{'Intel': 81, 'Microsoft': 20, 'Amazon': 22, 'Google': 2, 'Facebook': 4, 'Apple': 12, 'IBM': 11, 'Rafael': 40, 'Elbit': 15, 'Plus500': 2, 'Nvidia': 13, 'Mobileye': 9}\n",
      "['Intel', 'Microsoft', 'Amazon', 'Apple', 'IBM', 'Rafael', 'Elbit', 'Nvidia', 'Mobileye']\n",
      "in company Intel we have 81 replies, the average salary is 88.76172839506172\n",
      "in company Microsoft we have 20 replies, the average salary is 111.0\n",
      "in company Amazon we have 22 replies, the average salary is 106.0\n",
      "in company Apple we have 12 replies, the average salary is 107.5\n",
      "in company IBM we have 11 replies, the average salary is 105.9090909090909\n",
      "in company Rafael we have 40 replies, the average salary is 71.275\n",
      "in company Elbit we have 15 replies, the average salary is 91.46666666666667\n",
      "in company Nvidia we have 13 replies, the average salary is 110.0\n",
      "in company Mobileye we have 9 replies, the average salary is 107.77777777777777\n",
      "ttest values for Intel and Microsoft is Ttest_result(statistic: -8.1066, pvalue: 0.0)\n",
      "ttest values for Intel and Amazon is Ttest_result(statistic: -7.4643, pvalue: 0.0)\n",
      "ttest values for Intel and Apple is Ttest_result(statistic: -5.05, pvalue: 0.0)\n",
      "ttest values for Intel and IBM is Ttest_result(statistic: -5.164, pvalue: 0.0)\n",
      "ttest values for Intel and Rafael is Ttest_result(statistic: 9.6517, pvalue: 0.0)\n",
      "ttest values for Intel and Elbit is Ttest_result(statistic: -0.9158, pvalue: 0.3621)\n",
      "ttest values for Intel and Nvidia is Ttest_result(statistic: -7.4894, pvalue: 0.0)\n",
      "ttest values for Intel and Mobileye is Ttest_result(statistic: -5.135, pvalue: 0.0)\n",
      "ttest values for Microsoft and Amazon is Ttest_result(statistic: 1.3181, pvalue: 0.195)\n",
      "ttest values for Microsoft and Apple is Ttest_result(statistic: 0.5302, pvalue: 0.5999)\n",
      "ttest values for Microsoft and IBM is Ttest_result(statistic: 0.9186, pvalue: 0.3659)\n",
      "ttest values for Microsoft and Rafael is Ttest_result(statistic: 13.0463, pvalue: 0.0)\n",
      "ttest values for Microsoft and Elbit is Ttest_result(statistic: 3.9016, pvalue: 0.0004)\n",
      "ttest values for Microsoft and Nvidia is Ttest_result(statistic: 0.2211, pvalue: 0.8265)\n",
      "ttest values for Microsoft and Mobileye is Ttest_result(statistic: 0.518, pvalue: 0.6087)\n",
      "ttest values for Amazon and Apple is Ttest_result(statistic: -0.2791, pvalue: 0.7819)\n",
      "ttest values for Amazon and IBM is Ttest_result(statistic: 0.0226, pvalue: 0.9821)\n",
      "ttest values for Amazon and Rafael is Ttest_result(statistic: 15.0396, pvalue: 0.0)\n",
      "ttest values for Amazon and Elbit is Ttest_result(statistic: 3.845, pvalue: 0.0005)\n",
      "ttest values for Amazon and Nvidia is Ttest_result(statistic: -1.3498, pvalue: 0.1863)\n",
      "ttest values for Amazon and Mobileye is Ttest_result(statistic: -0.3897, pvalue: 0.6996)\n",
      "ttest values for Apple and IBM is Ttest_result(statistic: 0.2021, pvalue: 0.8418)\n",
      "ttest values for Apple and Rafael is Ttest_result(statistic: 8.5346, pvalue: 0.0)\n",
      "ttest values for Apple and Elbit is Ttest_result(statistic: 2.281, pvalue: 0.0313)\n",
      "ttest values for Apple and Nvidia is Ttest_result(statistic: -0.3821, pvalue: 0.7059)\n",
      "ttest values for Apple and Mobileye is Ttest_result(statistic: -0.0314, pvalue: 0.9753)\n",
      "ttest values for IBM and Rafael is Ttest_result(statistic: 10.2454, pvalue: 0.0)\n",
      "ttest values for IBM and Elbit is Ttest_result(statistic: 2.586, pvalue: 0.0162)\n",
      "ttest values for IBM and Nvidia is Ttest_result(statistic: -0.9083, pvalue: 0.3735)\n",
      "ttest values for IBM and Mobileye is Ttest_result(statistic: -0.2739, pvalue: 0.7873)\n",
      "ttest values for Rafael and Elbit is Ttest_result(statistic: -6.4882, pvalue: 0.0)\n",
      "ttest values for Rafael and Nvidia is Ttest_result(statistic: -14.6255, pvalue: 0.0)\n",
      "ttest values for Rafael and Mobileye is Ttest_result(statistic: -9.597, pvalue: 0.0)\n",
      "ttest values for Elbit and Nvidia is Ttest_result(statistic: -4.2597, pvalue: 0.0002)\n",
      "ttest values for Elbit and Mobileye is Ttest_result(statistic: -2.5881, pvalue: 0.0168)\n",
      "ttest values for Nvidia and Mobileye is Ttest_result(statistic: 0.4313, pvalue: 0.6709)\n"
     ]
    }
   ],
   "source": [
    "#Company sector:\n",
    "# \n",
    "# calculate num of exmples from each company:\n",
    "temp_df=df\n",
    "num_of_examples={}\n",
    "companies_names=['Intel','Microsoft','Amazon','Google','Facebook','Apple','IBM','Rafael','Elbit','Plus500','Nvidia','Mobileye']\n",
    "for company_name in companies_names:\n",
    "        num_of_examples[company_name]=len(temp_df[temp_df[company]==company_name])\n",
    "print(num_of_examples)\n",
    "\n",
    "#remove all companies with less than 9 repliers\n",
    "common_companies=[]\n",
    "for company_name in companies_names:\n",
    "        if num_of_examples[company_name] >= 9:\n",
    "                common_companies.append(company_name)\n",
    "print(common_companies)\n",
    "\n",
    "#create common company dict:\n",
    "companies_dict={}\n",
    "\n",
    "for company_name in common_companies:\n",
    "    companies_dict[company_name]=df[df[company]==company_name]\n",
    "\n",
    "\n",
    "#create common company dict - only of salaries:\n",
    "salaries_companies_dict={}\n",
    "for company_name in common_companies:\n",
    "    salaries_companies_dict[company_name]=df[df[company]==company_name][salary]\n",
    "\n",
    "# check mean value and num of repliers:\n",
    "for current_company in salaries_companies_dict:\n",
    "        num_in_comp = len(salaries_companies_dict[current_company])\n",
    "        print(f'in company {current_company} we have {num_in_comp} replies, the average salary is {salaries_companies_dict[current_company].astype(float).sum()/num_in_comp}')\n",
    "\n",
    "\n",
    "\n",
    "#t-test for companies:\n",
    "\n",
    "create_ttest_for_pairs(dict= salaries_companies_dict, list= common_companies)"
   ]
  },
  {
   "cell_type": "code",
   "execution_count": 10,
   "metadata": {},
   "outputs": [
    {
     "data": {
      "image/png": "[encoded data removed]",
      "text/plain": [
       "<Figure size 540x252 with 1 Axes>"
      ]
     },
     "metadata": {
      "needs_background": "light"
     },
     "output_type": "display_data"
    }
   ],
   "source": [
    "# box plot by company:\n",
    "\n",
    "import matplotlib.pyplot as plt\n",
    "\n",
    "for current_company in companies_dict:\n",
    "    current_df=companies_dict[current_company]\n",
    "    companies_dict[current_company]=(current_df[salary]).astype(float)\n",
    "\n",
    "# Set the figure size\n",
    "plt.rcParams[\"figure.figsize\"] = [7.50, 3.50]\n",
    "plt.rcParams[\"figure.autolayout\"] = True\n",
    "\n",
    "# Pandas dataframe\n",
    "combined_dfs=pd.DataFrame(companies_dict)\n",
    "# Plot the dataframe\n",
    "ax = combined_dfs.plot(kind='box',grid=True,showmeans=True,title='Salary By Company')\n",
    "\n",
    "# Display the plot\n",
    "plt.show()"
   ]
  },
  {
   "cell_type": "code",
   "execution_count": 11,
   "metadata": {},
   "outputs": [
    {
     "data": {
      "image/png": "[encoded data removed]",
      "text/plain": [
       "<Figure size 540x252 with 1 Axes>"
      ]
     },
     "metadata": {
      "needs_background": "light"
     },
     "output_type": "display_data"
    },
    {
     "name": "stdout",
     "output_type": "stream",
     "text": [
      "num of replies in מת\"מ is 332\n",
      "num of replies in מבני נתונים is 302\n",
      "num of replies in הפעלה is 170\n",
      "num of replies in אלגו is 176\n",
      "ttest values for מת\"מ and מבני נתונים is Ttest_result(statistic: -0.5034, pvalue: 0.6149)\n",
      "ttest values for מת\"מ and הפעלה is Ttest_result(statistic: -0.7057, pvalue: 0.4807)\n",
      "ttest values for מת\"מ and אלגו is Ttest_result(statistic: -0.4207, pvalue: 0.6741)\n",
      "ttest values for מבני נתונים and הפעלה is Ttest_result(statistic: -0.2825, pvalue: 0.7777)\n",
      "ttest values for מבני נתונים and אלגו is Ttest_result(statistic: 0.0101, pvalue: 0.9919)\n",
      "ttest values for הפעלה and אלגו is Ttest_result(statistic: 0.2627, pvalue: 0.793)\n",
      "{'מת\"מ 94.747': 94.74698795180723, 'אלגו 95.479': 95.47897727272726, 'מבני נתונים 95.4967': 95.49668874172185, 'הפעלה 96.0018': 96.00176470588235}\n"
     ]
    }
   ],
   "source": [
    "# courses:\n",
    "mtm='מת\"מ'\n",
    "mivni='מבני נתונים'\n",
    "operation_s='הפעלה'\n",
    "algo='אלגו'\n",
    "\n",
    "df_by_courses={}\n",
    "courses_names=[mtm,mivni,operation_s,algo]\n",
    "\n",
    "for course in courses_names:\n",
    "    df_by_courses[course] = df.loc[df[courses].str.contains(course,na=False)]\n",
    "\n",
    "courses_average_dict = create_sorted_average_dict(dict=df_by_courses,field= salary)\n",
    "\n",
    "courses_dict={}\n",
    "\n",
    "for course in courses_names:\n",
    "    courses_dict[course]=(df.loc[df[courses].str.contains(course,na=False)][salary]).astype(float)\n",
    "\n",
    "# Set the figure size\n",
    "plt.rcParams[\"figure.figsize\"] = [7.50, 3.50]\n",
    "plt.rcParams[\"figure.autolayout\"] = True\n",
    "\n",
    "# Pandas dataframe\n",
    "#combined_dfs = pd.DataFrame({\"Intel\": companies_dict[\"Intel\"].astype(float), \"Mobilay\": companies_dict[\"Mobileye\"].astype(float)})\n",
    "combined_dfs=pd.DataFrame(courses_dict)\n",
    "# Plot the dataframe\n",
    "ax = combined_dfs.plot(kind='box',grid=True, showmeans=True,title='Salary By Courses')\n",
    "\n",
    "# Display the plot\n",
    "plt.show()\n",
    "\n",
    "# check mean value and num of repliers:\n",
    "for current_c in courses_dict:\n",
    "        print(f'num of replies in {current_c} is {len(courses_dict[current_c])}')\n",
    "\n",
    "# check for ttest values:\n",
    "\n",
    "create_ttest_for_pairs(courses_dict,courses_names)\n",
    "\n",
    "courses_average_dict = create_sorted_average_dict(dict=df_by_courses,field= salary)\n",
    "print(courses_average_dict)"
   ]
  },
  {
   "cell_type": "code",
   "execution_count": 12,
   "metadata": {},
   "outputs": [
    {
     "name": "stdout",
     "output_type": "stream",
     "text": [
      "{'מת\"מ 93.9598': 93.95977443609023, 'מבני נתונים 94.819': 94.81902834008096, 'אלגו 95.5715': 95.57152777777777, 'הפעלה 95.9877': 95.98768115942029}\n"
     ]
    },
    {
     "data": {
      "image/png": "[encoded data removed]",
      "text/plain": [
       "<Figure size 540x252 with 1 Axes>"
      ]
     },
     "metadata": {
      "needs_background": "light"
     },
     "output_type": "display_data"
    }
   ],
   "source": [
    "#check courses among ones without exp:\n",
    "\n",
    "no_exp='ללא ניסיון כלל'\n",
    "no_exp_df=df[df[exp]==no_exp]\n",
    "\n",
    "no_exp_courses_dict={}\n",
    "\n",
    "for key in df_by_courses:\n",
    "    current_course_df=df_by_courses[key]\n",
    "    no_exp_courses_dict[key] = current_course_df[current_course_df[exp]==no_exp]\n",
    "\n",
    "\n",
    "courses_noexp_average_dict = create_sorted_average_dict(dict=no_exp_courses_dict,field= salary)\n",
    "print(courses_noexp_average_dict)\n",
    "\n",
    "\n",
    "\n",
    "for course in courses_names:\n",
    "    courses_dict[course]=(no_exp_df.loc[no_exp_df[courses].str.contains(course,na=False)][salary]).astype(float)\n",
    "\n",
    "# Set the figure size\n",
    "plt.rcParams[\"figure.figsize\"] = [7.50, 3.50]\n",
    "plt.rcParams[\"figure.autolayout\"] = True\n",
    "\n",
    "# Pandas dataframe\n",
    "#combined_dfs = pd.DataFrame({\"Intel\": companies_dict[\"Intel\"].astype(float), \"Mobilay\": companies_dict[\"Mobileye\"].astype(float)})\n",
    "combined_dfs=pd.DataFrame(courses_dict)\n",
    "# Plot the dataframe\n",
    "ax = combined_dfs.plot(kind='box',grid=True, showmeans=True,title='Salary By Courses (only people without experience)')\n",
    "\n",
    "# Display the plot\n",
    "plt.show()"
   ]
  },
  {
   "cell_type": "code",
   "execution_count": 13,
   "metadata": {},
   "outputs": [],
   "source": [
    "#function that used to check and plot averge salary according to courses people took only in spesific semster,\n",
    "#use to check assumption that wasnt true\n",
    "def checkBySemster(semester_num):\n",
    "    #sem5 no exp\n",
    "    semster=semester_num\n",
    "    sem_df=no_exp_df[no_exp_df[sem]==semster]\n",
    "\n",
    "    sem5_courses_dict={}\n",
    "\n",
    "    for key in df_by_courses:\n",
    "        current_course_df=df_by_courses[key]\n",
    "        sem5_courses_dict[key] = current_course_df[current_course_df[exp]==semster]\n",
    "\n",
    "\n",
    "    sem_average_dict = create_sorted_average_dict(dict=sem5_courses_dict,field= salary)\n",
    "    print(sem_average_dict)\n",
    "\n",
    "    for course in courses_names:\n",
    "        courses_dict[course]=(sem_df.loc[sem_df[courses].str.contains(course,na=False)][salary]).astype(float)\n",
    "\n",
    "    # Set the figure size\n",
    "    plt.rcParams[\"figure.figsize\"] = [7.50, 3.50]\n",
    "    plt.rcParams[\"figure.autolayout\"] = True\n",
    "\n",
    "    # Pandas dataframe\n",
    "    #combined_dfs = pd.DataFrame({\"Intel\": companies_dict[\"Intel\"].astype(float), \"Mobilay\": companies_dict[\"Mobileye\"].astype(float)})\n",
    "    combined_dfs=pd.DataFrame(courses_dict)\n",
    "    # Plot the dataframe\n",
    "    ax = combined_dfs.plot(kind='box',grid=True, showmeans=True,title='Salary By Courses (only people from semster '+str(semester_num)+' )')\n",
    "\n",
    "    # Display the plot\n",
    "    plt.show()"
   ]
  },
  {
   "cell_type": "code",
   "execution_count": 14,
   "metadata": {},
   "outputs": [
    {
     "data": {
      "image/png": "[encoded data removed]",
      "text/plain": [
       "<Figure size 540x252 with 1 Axes>"
      ]
     },
     "metadata": {
      "needs_background": "light"
     },
     "output_type": "display_data"
    },
    {
     "name": "stdout",
     "output_type": "stream",
     "text": [
      "len of 2019 is 26 and mean is 91.95384615384616\n",
      "len of 2020 is 49 and mean is 87.13673469387754\n",
      "len of 2021 is 105 and mean is 91.72380952380952\n",
      "len of 2022 is 167 and mean is 98.54790419161677\n",
      "ttest values for 2019 and 2020 is Ttest_result(statistic: 1.012, pvalue: 0.3149)\n",
      "ttest values for 2019 and 2021 is Ttest_result(statistic: 0.0546, pvalue: 0.9565)\n",
      "ttest values for 2019 and 2022 is Ttest_result(statistic: -1.5412, pvalue: 0.1249)\n",
      "ttest values for 2020 and 2021 is Ttest_result(statistic: -1.617, pvalue: 0.108)\n",
      "ttest values for 2020 and 2022 is Ttest_result(statistic: -3.8326, pvalue: 0.0002)\n",
      "ttest values for 2021 and 2022 is Ttest_result(statistic: -2.9774, pvalue: 0.0032)\n"
     ]
    }
   ],
   "source": [
    "# average salary according to year:\n",
    "dict_df_years={}\n",
    "years=[2019,2020,2021,2022]\n",
    "\n",
    "for c_year in years:\n",
    "        dict_df_years[c_year]=(df[df[year]==c_year][salary]).astype(float)\n",
    "\n",
    "# Set the figure size\n",
    "plt.rcParams[\"figure.figsize\"] = [7.50, 3.50]\n",
    "plt.rcParams[\"figure.autolayout\"] = True\n",
    "\n",
    "# Pandas dataframe\n",
    "combined_dfs=pd.DataFrame(dict_df_years)\n",
    "# Plot the dataframe\n",
    "ax = combined_dfs.plot(kind='box', showmeans=True,grid=True,title='Salary By Year')\n",
    "\n",
    "# Display the plot\n",
    "plt.show()\n",
    "\n",
    "for c_year in years:\n",
    "    print(f\"len of {c_year} is {len(dict_df_years[c_year])} and mean is {dict_df_years[c_year].mean()}\")\n",
    "\n",
    "create_ttest_for_pairs(dict_df_years,years)"
   ]
  },
  {
   "cell_type": "code",
   "execution_count": 15,
   "metadata": {},
   "outputs": [
    {
     "data": {
      "image/png": "[encoded data removed]",
      "text/plain": [
       "<Figure size 540x252 with 1 Axes>"
      ]
     },
     "metadata": {
      "needs_background": "light"
     },
     "output_type": "display_data"
    },
    {
     "name": "stdout",
     "output_type": "stream",
     "text": [
      "in semester 2 we have 10 replies, the average salary is 90.8\n",
      "in semester 3 we have 56 replies, the average salary is 92.26785714285714\n",
      "in semester 4 we have 126 replies, the average salary is 98.2952380952381\n",
      "in semester 5 we have 76 replies, the average salary is 91.23684210526316\n",
      "in semester 6 we have 56 replies, the average salary is 94.87142857142858\n",
      "in semester 7 we have 16 replies, the average salary is 90.75\n",
      "in semester 8 we have 7 replies, the average salary is 86.42857142857143\n",
      "ttest values for 2 and 3 is Ttest_result(statistic: -0.1838, pvalue: 0.8548)\n",
      "ttest values for 2 and 4 is Ttest_result(statistic: -1.2353, pvalue: 0.2189)\n",
      "ttest values for 2 and 5 is Ttest_result(statistic: -0.0759, pvalue: 0.9396)\n",
      "ttest values for 2 and 6 is Ttest_result(statistic: -0.5365, pvalue: 0.5935)\n",
      "ttest values for 2 and 7 is Ttest_result(statistic: 0.0068, pvalue: 0.9946)\n",
      "ttest values for 2 and 8 is Ttest_result(statistic: 0.4247, pvalue: 0.6771)\n",
      "ttest values for 3 and 4 is Ttest_result(statistic: -1.9163, pvalue: 0.0569)\n",
      "ttest values for 3 and 5 is Ttest_result(statistic: 0.305, pvalue: 0.7609)\n",
      "ttest values for 3 and 6 is Ttest_result(statistic: -0.6184, pvalue: 0.5376)\n",
      "ttest values for 3 and 7 is Ttest_result(statistic: 0.2532, pvalue: 0.8008)\n",
      "ttest values for 3 and 8 is Ttest_result(statistic: 0.6582, pvalue: 0.5129)\n",
      "ttest values for 4 and 5 is Ttest_result(statistic: 2.8305, pvalue: 0.0051)\n",
      "ttest values for 4 and 6 is Ttest_result(statistic: 1.1162, pvalue: 0.2658)\n",
      "ttest values for 4 and 7 is Ttest_result(statistic: 1.6345, pvalue: 0.1044)\n",
      "ttest values for 4 and 8 is Ttest_result(statistic: 1.7287, pvalue: 0.0862)\n",
      "ttest values for 5 and 6 is Ttest_result(statistic: -1.1152, pvalue: 0.2668)\n",
      "ttest values for 5 and 7 is Ttest_result(statistic: 0.1153, pvalue: 0.9085)\n",
      "ttest values for 5 and 8 is Ttest_result(statistic: 0.7787, pvalue: 0.4384)\n",
      "ttest values for 6 and 7 is Ttest_result(statistic: 0.728, pvalue: 0.469)\n",
      "ttest values for 6 and 8 is Ttest_result(statistic: 1.0104, pvalue: 0.3163)\n",
      "ttest values for 7 and 8 is Ttest_result(statistic: 0.7736, pvalue: 0.4478)\n"
     ]
    }
   ],
   "source": [
    "# check salary by semester only in 2022:\n",
    "dict_df_semester={}\n",
    "semesters=[]\n",
    "semesters.extend(range(2,9))\n",
    "\n",
    "# fill dict with all the different semesters\n",
    "for c_sem in semesters:\n",
    "        dict_df_semester[c_sem]=(df[df[sem]==c_sem][salary]).astype(float)\n",
    "\n",
    "\n",
    "\n",
    "# box plot:\n",
    "\n",
    "# Set the figure size\n",
    "plt.rcParams[\"figure.figsize\"] = [7.50, 3.50]\n",
    "plt.rcParams[\"figure.autolayout\"] = True\n",
    "\n",
    "# Pandas dataframe\n",
    "combined_dfs=pd.DataFrame(dict_df_semester)\n",
    "# Plot the dataframe\n",
    "ax = combined_dfs.plot(kind='box', showmeans=True,grid=True,title='Salary By Semester')\n",
    "\n",
    "# Display the plot\n",
    "plt.show()\n",
    "\n",
    "\n",
    "# check mean value and num of repliers:\n",
    "for c_sem in semesters:\n",
    "        num_in_sem = len(dict_df_semester[c_sem])\n",
    "        print(f'in semester {c_sem} we have {num_in_sem} replies, the average salary is {dict_df_semester[c_sem].astype(float).sum()/num_in_sem}')\n",
    "\n",
    "\n",
    "# check ttest:\n",
    "\n",
    "create_ttest_for_pairs(dict_df_semester,semesters)"
   ]
  },
  {
   "cell_type": "code",
   "execution_count": 16,
   "metadata": {},
   "outputs": [
    {
     "name": "stdout",
     "output_type": "stream",
     "text": [
      "The average salary in 2022 is 98.54790419161677, and N of 2022 is : 167\n",
      "The average salary in 2022 without prior exp is 98.63953488372093, and N of 2022 is : 129\n"
     ]
    }
   ],
   "source": [
    "#General info for the doc:\n",
    "\n",
    "print(f\"The average salary in 2022 is {dict_df_years[2022].mean()}, and N of 2022 is : {len(dict_df_years[2022])}\")\n",
    "df22=df[df[year]==2022]\n",
    "df2022_n_prior_exp=df22[df22[exp]==no_exp]\n",
    "print(f\"The average salary in 2022 without prior exp is {df2022_n_prior_exp[salary].mean()}, and N of 2022 is : {len(df2022_n_prior_exp)}\")"
   ]
  },
  {
   "cell_type": "code",
   "execution_count": 17,
   "metadata": {},
   "outputs": [
    {
     "data": {
      "image/png": "[encoded data removed]",
      "text/plain": [
       "<Figure size 540x252 with 1 Axes>"
      ]
     },
     "metadata": {
      "needs_background": "light"
     },
     "output_type": "display_data"
    },
    {
     "name": "stdout",
     "output_type": "stream",
     "text": [
      "in flavor בייגלה מלוח - קרמל we have 38 replies, the average salary is 95.39473684210526\n",
      "in flavor פיסטוק we have 44 replies, the average salary is 101.3409090909091\n",
      "in flavor וניל עוגיות we have 23 replies, the average salary is 90.65217391304348\n",
      "in flavor בצק עוגיות we have 25 replies, the average salary is 100.34\n",
      "in flavor שוקולד בראוניס we have 28 replies, the average salary is 105.14285714285714\n",
      "ttest values for בייגלה מלוח - קרמל and פיסטוק is Ttest_result(statistic: -1.5363, pvalue: 0.1284)\n",
      "ttest values for בייגלה מלוח - קרמל and וניל עוגיות is Ttest_result(statistic: 1.1246, pvalue: 0.2653)\n",
      "ttest values for בייגלה מלוח - קרמל and בצק עוגיות is Ttest_result(statistic: -1.0672, pvalue: 0.2901)\n",
      "ttest values for בייגלה מלוח - קרמל and שוקולד בראוניס is Ttest_result(statistic: -2.0388, pvalue: 0.0456)\n",
      "ttest values for פיסטוק and וניל עוגיות is Ttest_result(statistic: 2.2944, pvalue: 0.025)\n",
      "ttest values for פיסטוק and בצק עוגיות is Ttest_result(statistic: 0.2028, pvalue: 0.8399)\n",
      "ttest values for פיסטוק and שוקולד בראוניס is Ttest_result(statistic: -0.7615, pvalue: 0.4489)\n",
      "ttest values for וניל עוגיות and בצק עוגיות is Ttest_result(statistic: -1.7638, pvalue: 0.0844)\n",
      "ttest values for וניל עוגיות and שוקולד בראוניס is Ttest_result(statistic: -2.52, pvalue: 0.015)\n",
      "ttest values for בצק עוגיות and שוקולד בראוניס is Ttest_result(statistic: -0.7856, pvalue: 0.4357)\n"
     ]
    }
   ],
   "source": [
    "#Ice cream sector:\n",
    "\n",
    "ice_cream_df_dict={}\n",
    "ice_ceam_names=['בייגלה מלוח - קרמל','פיסטוק','וניל עוגיות','בצק עוגיות','שוקולד בראוניס']\n",
    "\n",
    "for ice_cream_name in ice_ceam_names:\n",
    "    ice_cream_df_dict[ice_cream_name]=df[df[ice_cream]==ice_cream_name]   \n",
    "\n",
    "for flavor in ice_cream_df_dict:\n",
    "    c_df=ice_cream_df_dict[flavor]\n",
    "    ice_cream_df_dict[flavor]=(c_df[salary]).astype(float)\n",
    "\n",
    "# Set the figure size\n",
    "plt.rcParams[\"figure.figsize\"] = [7.50, 3.50]\n",
    "plt.rcParams[\"figure.autolayout\"] = True\n",
    "\n",
    "# Pandas dataframe\n",
    "combined_dfs=pd.DataFrame(ice_cream_df_dict)\n",
    "# Plot the dataframe\n",
    "ax = combined_dfs.plot(kind='box',grid=True, showmeans=True,title='Salary By Favorite IceCream')\n",
    "\n",
    "# Display the plot\n",
    "plt.show() \n",
    "\n",
    "\n",
    "# check mean value and num of repliers:\n",
    "for c_ice in ice_ceam_names:\n",
    "        num_in_ice_crem = len(ice_cream_df_dict[c_ice])\n",
    "        print(f'in flavor {c_ice} we have {num_in_ice_crem} replies, the average salary is {ice_cream_df_dict[c_ice].astype(float).sum()/num_in_ice_crem}')\n",
    "\n",
    "\n",
    "# check ttest:\n",
    "\n",
    "create_ttest_for_pairs(ice_cream_df_dict,ice_ceam_names)"
   ]
  }
 ],
 "metadata": {
  "kernelspec": {
   "display_name": "Python 3.7.13 ('ml')",
   "language": "python",
   "name": "python3"
  },
  "language_info": {
   "codemirror_mode": {
    "name": "ipython",
    "version": 3
   },
   "file_extension": ".py",
   "mimetype": "text/x-python",
   "name": "python",
   "nbconvert_exporter": "python",
   "pygments_lexer": "ipython3",
   "version": "3.7.13"
  },
  "orig_nbformat": 4,
  "vscode": {
   "interpreter": {
    "hash": "d406985a3116061fb1a038b1a39c04dacc79322f4d6b686ec924c4b564262bd8"
   }
  }
 },
 "nbformat": 4,
 "nbformat_minor": 2
}
