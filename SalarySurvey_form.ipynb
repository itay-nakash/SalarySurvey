{
 "cells": [
  {
   "cell_type": "code",
   "execution_count": 1,
   "metadata": {},
   "outputs": [],
   "source": [
    "import pandas as pd\n",
    "import numpy as np\n",
    "\n",
    "from numpy import average\n",
    "\n",
    "\n",
    "#import the csv to pandas\n",
    "file_path='/home/itay/salarySurvey/data/All_the_survey_data_orginized_filtered.xlsx'\n",
    "df =pd.read_excel(file_path)\n",
    "\n"
   ]
  },
  {
   "cell_type": "code",
   "execution_count": 2,
   "metadata": {},
   "outputs": [],
   "source": [
    "# enter the coulmns names as varibels:\n",
    "\n",
    "salary='שכר שעתי במשרת הסטודנט הראשונה (ש\"ח לשעה)'\n",
    "grade='ממוצע (נכון לתקופת חיפוש העבודה)'\n",
    "bargin='האם התמקחת אחרי קבלת ההצעה?'\n",
    "gender='מין'\n",
    "company='חברה (נא לכתוב באנגלית את שם החברה)'\n",
    "courses='קורסי מפתח שעשית לפני הצעת העבודה'\n",
    "\n",
    "ice_cream='טעם גלידה אהוב'\n",
    "\n",
    "rounding_density=2"
   ]
  },
  {
   "cell_type": "code",
   "execution_count": 3,
   "metadata": {},
   "outputs": [],
   "source": [
    "#cleanup to the data, you should add your own cleanup to the data:\n",
    "#df=df.drop(65)\n",
    "#df=df.drop(82)\n",
    "#df=df.drop(104)\n",
    "#df=df.drop(117)\n",
    "#\n",
    "#df[df[salary].str.contains(\"50K\",na=False)]\n",
    "#df=df.drop(102)\n",
    "#\n",
    "#df[df[salary]=='20']\n",
    "#df=df.drop(148)\n",
    "#\n",
    "#df[df[grade].str.contains(\" תואר ראשון\",na=False)]\n",
    "#df=df.drop(115)\n",
    "\n"
   ]
  },
  {
   "cell_type": "code",
   "execution_count": 4,
   "metadata": {},
   "outputs": [
    {
     "data": {
      "text/plain": [
       "93.59248554913295"
      ]
     },
     "execution_count": 4,
     "metadata": {},
     "output_type": "execute_result"
    }
   ],
   "source": [
    "av_df=df[salary].astype(float).sum()/len(df)\n",
    "av_df"
   ]
  },
  {
   "cell_type": "code",
   "execution_count": 5,
   "metadata": {},
   "outputs": [],
   "source": [
    "#calculate the average value of columnName column in df:\n",
    "def calculate_average(df,column_name):\n",
    "    num_of_rows=len(df)\n",
    "    sum_of_rows=df[column_name].astype(float).sum()\n",
    "    return sum_of_rows/num_of_rows # return the average value\n",
    "\n",
    "def calculate_precentage_of_binary_answer(df,column_name,binary_field_answer):\n",
    "    return len(df[df[column_name]==binary_field_answer])/ len(df)\n",
    "\n",
    "def create_sorted_average_dict(dict,field):\n",
    "    average_dict={}\n",
    "    sorted_dict={}\n",
    "    #calculate the average:\n",
    "    for name in dict:\n",
    "        average_dict[name]=calculate_average(dict[name],field)\n",
    "\n",
    "    #sort:\n",
    "    sorted_salary_list=sorted(average_dict.items(), key=lambda x: x[1])\n",
    "\n",
    "    for tup in sorted_salary_list:\n",
    "        average_rounded=round(tup[1],rounding_density)\n",
    "        new_key= tup[0]+\" \"+str(average_rounded)\n",
    "        sorted_dict[new_key]=tup[1] \n",
    "    return sorted_dict"
   ]
  },
  {
   "cell_type": "code",
   "execution_count": 6,
   "metadata": {},
   "outputs": [],
   "source": [
    "#calculate average salary and grades:\n",
    "\n",
    "male_df= df.loc[df[gender]=='זכר']\n",
    "female_df= df.loc[df['מין']=='נקבה']\n",
    "\n",
    "average_salary_male = calculate_average(male_df,salary)\n",
    "average_grade_male = calculate_average(male_df,grade)\n",
    "\n",
    "average_salary_female = calculate_average(female_df,salary)\n",
    "average_grade_female = calculate_average(female_df,grade)\n"
   ]
  },
  {
   "cell_type": "code",
   "execution_count": 7,
   "metadata": {},
   "outputs": [
    {
     "name": "stdout",
     "output_type": "stream",
     "text": [
      "bargin man avreage salary: 93.53399999999999\n",
      "didn't bargin man avreage salary: 94.4525\n",
      "bargin woman avreage salary: 91.04347826086956\n",
      "didn't bargin woman avreage salary: 91.9\n"
     ]
    }
   ],
   "source": [
    "#bargin presentage:\n",
    "\n",
    "precents_of_male_bargin=calculate_precentage_of_binary_answer(male_df,bargin,'כן')\n",
    "precents_of_female_bargin=calculate_precentage_of_binary_answer(female_df,bargin,'כן')\n",
    "\n",
    "bargin_m=male_df[male_df[bargin]=='כן']\n",
    "n_bargin_m=male_df[male_df[bargin]=='לא']\n",
    "bargin_f=female_df[female_df[bargin]=='כן']\n",
    "n_bargin_f=female_df[female_df[bargin]=='לא']\n",
    "\n",
    "\n",
    "print(\"bargin man avreage salary: \"+str(calculate_average( bargin_m,salary)))\n",
    "print(\"didn't bargin man avreage salary: \"+str(calculate_average( n_bargin_m,salary)))\n",
    "print(\"bargin woman avreage salary: \"+str(calculate_average( bargin_f,salary)))\n",
    "print(\"didn't bargin woman avreage salary: \"+ str(calculate_average(n_bargin_f,salary)))\n"
   ]
  },
  {
   "cell_type": "code",
   "execution_count": 8,
   "metadata": {},
   "outputs": [
    {
     "data": {
      "image/png": "[encoded data removed]",
      "text/plain": [
       "<Figure size 432x288 with 1 Axes>"
      ]
     },
     "metadata": {
      "needs_background": "light"
     },
     "output_type": "display_data"
    }
   ],
   "source": [
    "import matplotlib.pyplot as plt\n",
    "man_salarys=male_df[[salary]].astype(float)\n",
    "fman_salarys=female_df[[salary]].astype(float)\n",
    "\n",
    "# Set the figure size\n",
    "plt.rcParams[\"figure.figsize\"] = [7.50, 3.50]\n",
    "plt.rcParams[\"figure.autolayout\"] = True\n",
    "\n",
    "# Pandas dataframe\n",
    "combined_dfs = pd.DataFrame({\"Mens Salary\": male_df[salary].astype(float), \"Woamns salary\": female_df[salary].astype(float)})\n",
    "\n",
    "# Plot the dataframe\n",
    "ax = combined_dfs[['Mens Salary', 'Woamns salary']].plot(kind='box',grid=True,title='Salary compared by gender')\n",
    "\n",
    "# Display the plot\n",
    "plt.show()"
   ]
  },
  {
   "cell_type": "code",
   "execution_count": 9,
   "metadata": {},
   "outputs": [],
   "source": [
    "#get outliers cleaned for the scatter point:\n",
    "scatter_df=df\n",
    "scatter_df[scatter_df[salary]>160]\n",
    "scatter_df=scatter_df.drop(343)\n",
    "scatter_df=scatter_df.drop(344)\n",
    "scatter_df=scatter_df.drop(345)\n",
    "scatter_df[scatter_df[salary]<59]\n",
    "scatter_df=scatter_df.drop(0)\n",
    "scatter_df=scatter_df.drop(1)"
   ]
  },
  {
   "cell_type": "code",
   "execution_count": 10,
   "metadata": {},
   "outputs": [
    {
     "data": {
      "image/png": "[encoded data removed]",
      "text/plain": [
       "<Figure size 432x288 with 1 Axes>"
      ]
     },
     "metadata": {
      "needs_background": "light"
     },
     "output_type": "display_data"
    }
   ],
   "source": [
    "#prepare the scatter points:\n",
    "x=scatter_df[grade].astype(float)\n",
    "y=scatter_df[salary].astype(float)\n",
    "plt.scatter(x,y)\n",
    "plt.title(\"Average grade - Salary plot\")\n",
    "plt.xlabel(\"Average grade\")\n",
    "plt.ylabel(\"Salary\")\n",
    "plt.show()"
   ]
  },
  {
   "cell_type": "code",
   "execution_count": 11,
   "metadata": {},
   "outputs": [
    {
     "name": "stdout",
     "output_type": "stream",
     "text": [
      "{'Intel': 77, 'Microsoft': 20, 'Amazon': 22, 'Google': 2, 'Facebook': 5, 'Apple': 13, 'IBM': 10, 'Rafael': 35, 'Elbit': 14, 'Plus500': 2, 'Nvidia': 12, 'Mobileye': 7}\n"
     ]
    }
   ],
   "source": [
    "#calculate num of exmples from each company:\n",
    "temp_df=df\n",
    "num_of_examples={}\n",
    "companies_names=['Intel','Microsoft','Amazon','Google','Facebook','Apple','IBM','Rafael','Elbit','Plus500','Nvidia','Mobileye']\n",
    "for company_name in companies_names:\n",
    "        num_of_examples[company_name]=len(temp_df[temp_df[company]==company_name])\n",
    "print(num_of_examples)\n"
   ]
  },
  {
   "cell_type": "code",
   "execution_count": 12,
   "metadata": {},
   "outputs": [],
   "source": [
    "#get the calculate companies average:\n",
    "\n",
    "from cmath import nan\n",
    "\n",
    "\n",
    "companies_dict={}\n",
    "companies_names=['Intel','Microsoft','Amazon','Facebook','Apple','IBM','Rafael','Elbit','Nvidia','Mobileye']\n",
    "\n",
    "for company_name in companies_names:\n",
    "    companies_dict[company_name]=df[df[company]==company_name]"
   ]
  },
  {
   "cell_type": "code",
   "execution_count": 13,
   "metadata": {},
   "outputs": [],
   "source": [
    "\n",
    "sorted_salaries_companies=create_sorted_average_dict(companies_dict,salary)\n"
   ]
  },
  {
   "cell_type": "code",
   "execution_count": 14,
   "metadata": {},
   "outputs": [
    {
     "data": {
      "image/png": "[encoded data removed]",
      "text/plain": [
       "<Figure size 1080x360 with 1 Axes>"
      ]
     },
     "metadata": {
      "needs_background": "light"
     },
     "output_type": "display_data"
    }
   ],
   "source": [
    "fig=plt.figure(figsize=(15,5))\n",
    "plt.bar(sorted_salaries_companies.keys(), sorted_salaries_companies.values(), color ='maroon',\n",
    "        width = 0.4)\n",
    " \n",
    "plt.xlabel(\"Companies\")\n",
    "plt.ylabel(\"Average Salary\")\n",
    "plt.title(\"Companies average Salaries\")\n",
    "plt.show()\n"
   ]
  },
  {
   "cell_type": "code",
   "execution_count": 15,
   "metadata": {},
   "outputs": [
    {
     "data": {
      "image/png": "[encoded data removed]",
      "text/plain": [
       "<Figure size 540x252 with 1 Axes>"
      ]
     },
     "metadata": {
      "needs_background": "light"
     },
     "output_type": "display_data"
    }
   ],
   "source": [
    "# box plot by company:\n",
    "\n",
    "import matplotlib.pyplot as plt\n",
    "\n",
    "for current_company in companies_dict:\n",
    "    current_df=companies_dict[current_company]\n",
    "    companies_dict[current_company]=(current_df[salary]).astype(float)\n",
    "\n",
    "# Set the figure size\n",
    "plt.rcParams[\"figure.figsize\"] = [7.50, 3.50]\n",
    "plt.rcParams[\"figure.autolayout\"] = True\n",
    "\n",
    "# Pandas dataframe\n",
    "#combined_dfs = pd.DataFrame({\"Intel\": companies_dict[\"Intel\"].astype(float), \"Mobilay\": companies_dict[\"Mobileye\"].astype(float)})\n",
    "combined_dfs=pd.DataFrame(companies_dict)\n",
    "# Plot the dataframe\n",
    "ax = combined_dfs.plot(kind='box',grid=True,title='Salary compared by company')\n",
    "\n",
    "# Display the plot\n",
    "plt.show()"
   ]
  },
  {
   "cell_type": "code",
   "execution_count": 16,
   "metadata": {},
   "outputs": [],
   "source": [
    "ice_cream_df_dict={}\n",
    "ice_ceam_names=['למרק - חולמ הלגייב','פיסטוק','וניל עוגיות','בצק עוגיות','שוקולד בראוניס']\n",
    "\n",
    "for ice_cream_name in ice_ceam_names:\n",
    "    ice_cream_df_dict[ice_cream_name]=df[df[ice_cream]==ice_cream_name]    "
   ]
  },
  {
   "cell_type": "code",
   "execution_count": 17,
   "metadata": {},
   "outputs": [
    {
     "data": {
      "image/png": "[encoded data removed]",
      "text/plain": [
       "<Figure size 540x252 with 1 Axes>"
      ]
     },
     "metadata": {
      "needs_background": "light"
     },
     "output_type": "display_data"
    }
   ],
   "source": [
    "import matplotlib.pyplot as plt\n",
    "\n",
    "\n",
    "for flavor in ice_cream_df_dict:\n",
    "    c_df=ice_cream_df_dict[flavor]\n",
    "    ice_cream_df_dict[flavor]=(c_df[salary]).astype(float)\n",
    "\n",
    "# Set the figure size\n",
    "plt.rcParams[\"figure.figsize\"] = [7.50, 3.50]\n",
    "plt.rcParams[\"figure.autolayout\"] = True\n",
    "\n",
    "# Pandas dataframe\n",
    "#combined_dfs = pd.DataFrame({\"Intel\": companies_dict[\"Intel\"].astype(float), \"Mobilay\": companies_dict[\"Mobileye\"].astype(float)})\n",
    "combined_dfs=pd.DataFrame(ice_cream_df_dict)\n",
    "# Plot the dataframe\n",
    "ax = combined_dfs.plot(kind='box',grid=True,title='Salary compared by favorite ice cream flavor')\n",
    "\n",
    "# Display the plot\n",
    "plt.show()"
   ]
  },
  {
   "cell_type": "code",
   "execution_count": 18,
   "metadata": {},
   "outputs": [
    {
     "ename": "NameError",
     "evalue": "name 'ice_cream_df' is not defined",
     "output_type": "error",
     "traceback": [
      "\u001b[0;31m---------------------------------------------------------------------------\u001b[0m",
      "\u001b[0;31mNameError\u001b[0m                                 Traceback (most recent call last)",
      "\u001b[0;32m/tmp/ipykernel_31619/305281114.py\u001b[0m in \u001b[0;36m<module>\u001b[0;34m\u001b[0m\n\u001b[0;32m----> 1\u001b[0;31m \u001b[0msorted_salaries_companies\u001b[0m\u001b[0;34m=\u001b[0m\u001b[0mcreate_sorted_average_dict\u001b[0m\u001b[0;34m(\u001b[0m\u001b[0mice_cream_df\u001b[0m\u001b[0;34m,\u001b[0m\u001b[0msalary\u001b[0m\u001b[0;34m)\u001b[0m\u001b[0;34m\u001b[0m\u001b[0;34m\u001b[0m\u001b[0m\n\u001b[0m",
      "\u001b[0;31mNameError\u001b[0m: name 'ice_cream_df' is not defined"
     ]
    }
   ],
   "source": [
    "sorted_salaries_companies=create_sorted_average_dict(ice_cream_df,salary)\n"
   ]
  },
  {
   "cell_type": "code",
   "execution_count": null,
   "metadata": {},
   "outputs": [
    {
     "name": "stdout",
     "output_type": "stream",
     "text": [
      "{'למרק - חולמ הלגייבnan': nan, 'פיסטוק73.76': 73.76190476190476, 'וניל עוגיות77.85': 77.84782608695652, 'שוקולד בראוניס78.79': 78.79310344827586, 'בצק עוגיות83.37': 83.37307692307692}\n"
     ]
    }
   ],
   "source": [
    "print(sorted_salaries_companies)"
   ]
  },
  {
   "cell_type": "code",
   "execution_count": 19,
   "metadata": {},
   "outputs": [
    {
     "name": "stderr",
     "output_type": "stream",
     "text": [
      "/home/itay/miniconda3/envs/ml/lib/python3.7/site-packages/ipykernel_launcher.py:11: UserWarning: This pattern has match groups. To actually get the groups, use str.extract.\n",
      "  # This is added back by InteractiveShellApp.init_path()\n"
     ]
    }
   ],
   "source": [
    "mtm='מת\"מ'\n",
    "mivni='מבני נתונים'\n",
    "operation_s='הפעלה'\n",
    "algo='אלגו'\n",
    "additonal_courses='קורס בחירה הקשור לתחום (מבוא ללומדות / הגנה ברשתות ..)'\n",
    "\n",
    "df_by_courses={}\n",
    "courses_names=[mtm,mivni,operation_s,algo,additonal_courses]\n",
    "\n",
    "for course in courses_names:\n",
    "    df_by_courses[course] = df.loc[df[courses].str.contains(course,na=False)]"
   ]
  },
  {
   "cell_type": "code",
   "execution_count": 20,
   "metadata": {},
   "outputs": [
    {
     "data": {
      "text/plain": [
       "{'מת\"מ':                   Timestamp מסלול לימודים  באיזה סמסטר היית כשקיבלת את ההצעה?  \\\n",
       " 0   2022-08-16 12:37:33.926         מדמ\"ח                                 4.0   \n",
       " 1   2022-08-16 12:39:01.917         מדמ\"ח                                 3.0   \n",
       " 2   2022-08-16 12:41:55.154  הנדסת מחשבים                                 6.0   \n",
       " 4   2022-08-16 12:42:08.834  הנדסת מחשבים                                 3.0   \n",
       " 5   2022-08-16 12:42:41.477         מדמ\"ח                                 5.0   \n",
       " ..                      ...           ...                                 ...   \n",
       " 340 2021-09-22 15:59:15.636         מדמ\"ח                                 4.0   \n",
       " 341 2021-09-22 16:15:01.805         מדמ\"ח                                 3.0   \n",
       " 343 2021-09-22 22:23:48.842         מדמ\"ח                                 5.0   \n",
       " 344 2021-09-23 00:12:33.891         מדמ\"ח                                 4.0   \n",
       " 345 2021-09-23 09:55:16.798         מדמ\"ח                                 5.0   \n",
       " \n",
       "      ממוצע (נכון לתקופת חיפוש העבודה) האם ביקשו גיליון ציונים?  \\\n",
       " 0                                70.0                       כן   \n",
       " 1                                70.0                       כן   \n",
       " 2                                72.0                       לא   \n",
       " 4                                72.0                       כן   \n",
       " 5                                72.0                       כן   \n",
       " ..                                ...                      ...   \n",
       " 340                              95.6                       כן   \n",
       " 341                              96.0                       לא   \n",
       " 343                              96.0                       כן   \n",
       " 344                              96.5                       כן   \n",
       " 345                              98.5                       כן   \n",
       " \n",
       "                      קורסי מפתח שעשית לפני הצעת העבודה  \\\n",
       " 0                             מת\"מ, מבני נתונים, הפעלה   \n",
       " 1                                                 מת\"מ   \n",
       " 2    מת\"מ, מבני נתונים, הפעלה, אלגו, קורס בחירה הקש...   \n",
       " 4                                    מת\"מ, מבני נתונים   \n",
       " 5                       מת\"מ, מבני נתונים, הפעלה, אלגו   \n",
       " ..                                                 ...   \n",
       " 340                     מת\"מ, מבני נתונים, הפעלה, אלגו   \n",
       " 341                                               מת\"מ   \n",
       " 343                                  מת\"מ, מבני נתונים   \n",
       " 344                           מת\"מ, מבני נתונים, הפעלה   \n",
       " 345                            מת\"מ, מבני נתונים, אלגו   \n",
       " \n",
       "     האם היה לך ניסיון לפני קבלת המשרה?  \\\n",
       " 0                       ללא ניסיון כלל   \n",
       " 1                       ללא ניסיון כלל   \n",
       " 2                       ללא ניסיון כלל   \n",
       " 4            פרויקטים אישיים משמעותיים   \n",
       " 5            פרויקטים אישיים משמעותיים   \n",
       " ..                                 ...   \n",
       " 340                     ללא ניסיון כלל   \n",
       " 341                     ללא ניסיון כלל   \n",
       " 343                     ללא ניסיון כלל   \n",
       " 344                     ללא ניסיון כלל   \n",
       " 345                     ללא ניסיון כלל   \n",
       " \n",
       "      שכר שעתי במשרת הסטודנט הראשונה (ש\"ח לשעה) האם התמקחת אחרי קבלת ההצעה?  \\\n",
       " 0                                         40.0                          לא   \n",
       " 1                                         40.0                          לא   \n",
       " 2                                         60.0                          לא   \n",
       " 4                                         60.0                          לא   \n",
       " 5                                         60.0                          כן   \n",
       " ..                                         ...                         ...   \n",
       " 340                                      138.0                          כן   \n",
       " 341                                      140.0                          כן   \n",
       " 343                                      170.0                          לא   \n",
       " 344                                      170.0                          לא   \n",
       " 345                                      180.0                          לא   \n",
       " \n",
       "     חברה (נא לכתוב באנגלית את שם החברה)            תחום המשרה   מין  \\\n",
       " 0                                 Apple              Embedded  נקבה   \n",
       " 1                                 Intel               Backend   זכר   \n",
       " 2                                   NaN               Backend   NaN   \n",
       " 4                                   NaN              Embedded   זכר   \n",
       " 5                                   NaN  Software Development   זכר   \n",
       " ..                                  ...                   ...   ...   \n",
       " 340                           Microsoft  Software Development   זכר   \n",
       " 341                               Intel  Software Development   זכר   \n",
       " 343                              Rafael  Software Development  נקבה   \n",
       " 344                               Intel    Validation/Testing   זכר   \n",
       " 345                               Apple  Software Development   זכר   \n",
       " \n",
       "      טעם גלידה אהוב  שנת הצעת העבודה  \n",
       " 0            פיסטוק           2022.0  \n",
       " 1    שוקולד בראוניס           2022.0  \n",
       " 2            פיסטוק           2022.0  \n",
       " 4       וניל עוגיות           2022.0  \n",
       " 5       וניל עוגיות           2022.0  \n",
       " ..              ...              ...  \n",
       " 340             NaN           2020.0  \n",
       " 341             NaN           2020.0  \n",
       " 343             NaN           2019.0  \n",
       " 344             NaN           2021.0  \n",
       " 345             NaN           2020.0  \n",
       " \n",
       " [319 rows x 14 columns],\n",
       " 'מבני נתונים':                   Timestamp מסלול לימודים  באיזה סמסטר היית כשקיבלת את ההצעה?  \\\n",
       " 0   2022-08-16 12:37:33.926         מדמ\"ח                                 4.0   \n",
       " 2   2022-08-16 12:41:55.154  הנדסת מחשבים                                 6.0   \n",
       " 4   2022-08-16 12:42:08.834  הנדסת מחשבים                                 3.0   \n",
       " 5   2022-08-16 12:42:41.477         מדמ\"ח                                 5.0   \n",
       " 7   2022-08-16 12:42:58.508         מדמ\"ח                                 3.0   \n",
       " ..                      ...           ...                                 ...   \n",
       " 340 2021-09-22 15:59:15.636         מדמ\"ח                                 4.0   \n",
       " 342 2021-09-22 18:21:37.305         מדמ\"ח                                 6.0   \n",
       " 343 2021-09-22 22:23:48.842         מדמ\"ח                                 5.0   \n",
       " 344 2021-09-23 00:12:33.891         מדמ\"ח                                 4.0   \n",
       " 345 2021-09-23 09:55:16.798         מדמ\"ח                                 5.0   \n",
       " \n",
       "      ממוצע (נכון לתקופת חיפוש העבודה) האם ביקשו גיליון ציונים?  \\\n",
       " 0                                70.0                       כן   \n",
       " 2                                72.0                       לא   \n",
       " 4                                72.0                       כן   \n",
       " 5                                72.0                       כן   \n",
       " 7                                73.0                       כן   \n",
       " ..                                ...                      ...   \n",
       " 340                              95.6                       כן   \n",
       " 342                              96.0                       כן   \n",
       " 343                              96.0                       כן   \n",
       " 344                              96.5                       כן   \n",
       " 345                              98.5                       כן   \n",
       " \n",
       "                      קורסי מפתח שעשית לפני הצעת העבודה  \\\n",
       " 0                             מת\"מ, מבני נתונים, הפעלה   \n",
       " 2    מת\"מ, מבני נתונים, הפעלה, אלגו, קורס בחירה הקש...   \n",
       " 4                                    מת\"מ, מבני נתונים   \n",
       " 5                       מת\"מ, מבני נתונים, הפעלה, אלגו   \n",
       " 7                                    מת\"מ, מבני נתונים   \n",
       " ..                                                 ...   \n",
       " 340                     מת\"מ, מבני נתונים, הפעלה, אלגו   \n",
       " 342                           מבני נתונים, הפעלה, אלגו   \n",
       " 343                                  מת\"מ, מבני נתונים   \n",
       " 344                           מת\"מ, מבני נתונים, הפעלה   \n",
       " 345                            מת\"מ, מבני נתונים, אלגו   \n",
       " \n",
       "     האם היה לך ניסיון לפני קבלת המשרה?  \\\n",
       " 0                       ללא ניסיון כלל   \n",
       " 2                       ללא ניסיון כלל   \n",
       " 4            פרויקטים אישיים משמעותיים   \n",
       " 5            פרויקטים אישיים משמעותיים   \n",
       " 7            פרויקטים אישיים משמעותיים   \n",
       " ..                                 ...   \n",
       " 340                     ללא ניסיון כלל   \n",
       " 342                     ללא ניסיון כלל   \n",
       " 343                     ללא ניסיון כלל   \n",
       " 344                     ללא ניסיון כלל   \n",
       " 345                     ללא ניסיון כלל   \n",
       " \n",
       "      שכר שעתי במשרת הסטודנט הראשונה (ש\"ח לשעה) האם התמקחת אחרי קבלת ההצעה?  \\\n",
       " 0                                         40.0                          לא   \n",
       " 2                                         60.0                          לא   \n",
       " 4                                         60.0                          לא   \n",
       " 5                                         60.0                          כן   \n",
       " 7                                         62.0                          כן   \n",
       " ..                                         ...                         ...   \n",
       " 340                                      138.0                          כן   \n",
       " 342                                      148.0                          לא   \n",
       " 343                                      170.0                          לא   \n",
       " 344                                      170.0                          לא   \n",
       " 345                                      180.0                          לא   \n",
       " \n",
       "     חברה (נא לכתוב באנגלית את שם החברה)            תחום המשרה   מין  \\\n",
       " 0                                 Apple              Embedded  נקבה   \n",
       " 2                                   NaN               Backend   NaN   \n",
       " 4                                   NaN              Embedded   זכר   \n",
       " 5                                   NaN  Software Development   זכר   \n",
       " 7                                   NaN              Embedded   זכר   \n",
       " ..                                  ...                   ...   ...   \n",
       " 340                           Microsoft  Software Development   זכר   \n",
       " 342                               Intel  Software Development   זכר   \n",
       " 343                              Rafael  Software Development  נקבה   \n",
       " 344                               Intel    Validation/Testing   זכר   \n",
       " 345                               Apple  Software Development   זכר   \n",
       " \n",
       "     טעם גלידה אהוב  שנת הצעת העבודה  \n",
       " 0           פיסטוק           2022.0  \n",
       " 2           פיסטוק           2022.0  \n",
       " 4      וניל עוגיות           2022.0  \n",
       " 5      וניל עוגיות           2022.0  \n",
       " 7              NaN           2022.0  \n",
       " ..             ...              ...  \n",
       " 340            NaN           2020.0  \n",
       " 342            NaN           2021.0  \n",
       " 343            NaN           2019.0  \n",
       " 344            NaN           2021.0  \n",
       " 345            NaN           2020.0  \n",
       " \n",
       " [291 rows x 14 columns],\n",
       " 'הפעלה':                   Timestamp מסלול לימודים  באיזה סמסטר היית כשקיבלת את ההצעה?  \\\n",
       " 0   2022-08-16 12:37:33.926         מדמ\"ח                                 4.0   \n",
       " 2   2022-08-16 12:41:55.154  הנדסת מחשבים                                 6.0   \n",
       " 5   2022-08-16 12:42:41.477         מדמ\"ח                                 5.0   \n",
       " 11  2022-08-16 12:46:55.928         מדמ\"ח                                 7.0   \n",
       " 13  2022-08-16 12:48:33.481         מדמ\"ח                                 4.0   \n",
       " ..                      ...           ...                                 ...   \n",
       " 336 2021-09-22 13:21:58.824         מדמ\"ח                                 6.0   \n",
       " 339 2021-09-22 14:55:09.900         מדמ\"ח                                 4.0   \n",
       " 340 2021-09-22 15:59:15.636         מדמ\"ח                                 4.0   \n",
       " 342 2021-09-22 18:21:37.305         מדמ\"ח                                 6.0   \n",
       " 344 2021-09-23 00:12:33.891         מדמ\"ח                                 4.0   \n",
       " \n",
       "      ממוצע (נכון לתקופת חיפוש העבודה) האם ביקשו גיליון ציונים?  \\\n",
       " 0                                70.0                       כן   \n",
       " 2                                72.0                       לא   \n",
       " 5                                72.0                       כן   \n",
       " 11                               74.0                       לא   \n",
       " 13                               75.0                       כן   \n",
       " ..                                ...                      ...   \n",
       " 336                              95.0                       כן   \n",
       " 339                              95.6                       לא   \n",
       " 340                              95.6                       כן   \n",
       " 342                              96.0                       כן   \n",
       " 344                              96.5                       כן   \n",
       " \n",
       "                      קורסי מפתח שעשית לפני הצעת העבודה  \\\n",
       " 0                             מת\"מ, מבני נתונים, הפעלה   \n",
       " 2    מת\"מ, מבני נתונים, הפעלה, אלגו, קורס בחירה הקש...   \n",
       " 5                       מת\"מ, מבני נתונים, הפעלה, אלגו   \n",
       " 11   מת\"מ, מבני נתונים, הפעלה, אלגו, קורס בחירה הקש...   \n",
       " 13                            מת\"מ, מבני נתונים, הפעלה   \n",
       " ..                                                 ...   \n",
       " 336  מת\"מ, מבני נתונים, הפעלה, אלגו, קורס בחירה הקש...   \n",
       " 339                           מת\"מ, מבני נתונים, הפעלה   \n",
       " 340                     מת\"מ, מבני נתונים, הפעלה, אלגו   \n",
       " 342                           מבני נתונים, הפעלה, אלגו   \n",
       " 344                           מת\"מ, מבני נתונים, הפעלה   \n",
       " \n",
       "     האם היה לך ניסיון לפני קבלת המשרה?  \\\n",
       " 0                       ללא ניסיון כלל   \n",
       " 2                       ללא ניסיון כלל   \n",
       " 5            פרויקטים אישיים משמעותיים   \n",
       " 11           פרויקטים אישיים משמעותיים   \n",
       " 13                      ללא ניסיון כלל   \n",
       " ..                                 ...   \n",
       " 336                     ללא ניסיון כלל   \n",
       " 339                     ללא ניסיון כלל   \n",
       " 340                     ללא ניסיון כלל   \n",
       " 342                     ללא ניסיון כלל   \n",
       " 344                     ללא ניסיון כלל   \n",
       " \n",
       "      שכר שעתי במשרת הסטודנט הראשונה (ש\"ח לשעה) האם התמקחת אחרי קבלת ההצעה?  \\\n",
       " 0                                         40.0                          לא   \n",
       " 2                                         60.0                          לא   \n",
       " 5                                         60.0                          כן   \n",
       " 11                                        65.0                          לא   \n",
       " 13                                        65.0                          לא   \n",
       " ..                                         ...                         ...   \n",
       " 336                                      132.0                          כן   \n",
       " 339                                      135.0                          לא   \n",
       " 340                                      138.0                          כן   \n",
       " 342                                      148.0                          לא   \n",
       " 344                                      170.0                          לא   \n",
       " \n",
       "     חברה (נא לכתוב באנגלית את שם החברה)            תחום המשרה   מין  \\\n",
       " 0                                 Apple              Embedded  נקבה   \n",
       " 2                                   NaN               Backend   NaN   \n",
       " 5                                   NaN  Software Development   זכר   \n",
       " 11                                Elbit  Software Development  נקבה   \n",
       " 13                        Not relevant   Software Development   זכר   \n",
       " ..                                  ...                   ...   ...   \n",
       " 336                                 NaN  Software Development   זכר   \n",
       " 339                            Facebook               Backend   זכר   \n",
       " 340                           Microsoft  Software Development   זכר   \n",
       " 342                               Intel  Software Development   זכר   \n",
       " 344                               Intel    Validation/Testing   זכר   \n",
       " \n",
       "      טעם גלידה אהוב  שנת הצעת העבודה  \n",
       " 0            פיסטוק           2022.0  \n",
       " 2            פיסטוק           2022.0  \n",
       " 5       וניל עוגיות           2022.0  \n",
       " 11           פיסטוק           2022.0  \n",
       " 13   שוקולד בראוניס           2022.0  \n",
       " ..              ...              ...  \n",
       " 336             NaN           2021.0  \n",
       " 339             NaN           2021.0  \n",
       " 340             NaN           2020.0  \n",
       " 342             NaN           2021.0  \n",
       " 344             NaN           2021.0  \n",
       " \n",
       " [166 rows x 14 columns],\n",
       " 'אלגו':                   Timestamp מסלול לימודים  באיזה סמסטר היית כשקיבלת את ההצעה?  \\\n",
       " 2   2022-08-16 12:41:55.154  הנדסת מחשבים                                 6.0   \n",
       " 5   2022-08-16 12:42:41.477         מדמ\"ח                                 5.0   \n",
       " 11  2022-08-16 12:46:55.928         מדמ\"ח                                 7.0   \n",
       " 14  2022-08-16 12:48:40.906         מדמ\"ח                                 6.0   \n",
       " 15  2022-08-16 12:49:21.893  הנדסת מחשבים                                 5.0   \n",
       " ..                      ...           ...                                 ...   \n",
       " 333 2021-09-22 12:16:12.712         מדמ\"ח                                 4.0   \n",
       " 336 2021-09-22 13:21:58.824         מדמ\"ח                                 6.0   \n",
       " 340 2021-09-22 15:59:15.636         מדמ\"ח                                 4.0   \n",
       " 342 2021-09-22 18:21:37.305         מדמ\"ח                                 6.0   \n",
       " 345 2021-09-23 09:55:16.798         מדמ\"ח                                 5.0   \n",
       " \n",
       "      ממוצע (נכון לתקופת חיפוש העבודה) האם ביקשו גיליון ציונים?  \\\n",
       " 2                                72.0                       לא   \n",
       " 5                                72.0                       כן   \n",
       " 11                               74.0                       לא   \n",
       " 14                               75.0                       כן   \n",
       " 15                               75.0                       כן   \n",
       " ..                                ...                      ...   \n",
       " 333                              95.0                       כן   \n",
       " 336                              95.0                       כן   \n",
       " 340                              95.6                       כן   \n",
       " 342                              96.0                       כן   \n",
       " 345                              98.5                       כן   \n",
       " \n",
       "                      קורסי מפתח שעשית לפני הצעת העבודה  \\\n",
       " 2    מת\"מ, מבני נתונים, הפעלה, אלגו, קורס בחירה הקש...   \n",
       " 5                       מת\"מ, מבני נתונים, הפעלה, אלגו   \n",
       " 11   מת\"מ, מבני נתונים, הפעלה, אלגו, קורס בחירה הקש...   \n",
       " 14                      מת\"מ, מבני נתונים, הפעלה, אלגו   \n",
       " 15                      מת\"מ, מבני נתונים, הפעלה, אלגו   \n",
       " ..                                                 ...   \n",
       " 333                            מת\"מ, מבני נתונים, אלגו   \n",
       " 336  מת\"מ, מבני נתונים, הפעלה, אלגו, קורס בחירה הקש...   \n",
       " 340                     מת\"מ, מבני נתונים, הפעלה, אלגו   \n",
       " 342                           מבני נתונים, הפעלה, אלגו   \n",
       " 345                            מת\"מ, מבני נתונים, אלגו   \n",
       " \n",
       "     האם היה לך ניסיון לפני קבלת המשרה?  \\\n",
       " 2                       ללא ניסיון כלל   \n",
       " 5            פרויקטים אישיים משמעותיים   \n",
       " 11           פרויקטים אישיים משמעותיים   \n",
       " 14                      ללא ניסיון כלל   \n",
       " 15                      ללא ניסיון כלל   \n",
       " ..                                 ...   \n",
       " 333                     ללא ניסיון כלל   \n",
       " 336                     ללא ניסיון כלל   \n",
       " 340                     ללא ניסיון כלל   \n",
       " 342                     ללא ניסיון כלל   \n",
       " 345                     ללא ניסיון כלל   \n",
       " \n",
       "      שכר שעתי במשרת הסטודנט הראשונה (ש\"ח לשעה) האם התמקחת אחרי קבלת ההצעה?  \\\n",
       " 2                                         60.0                          לא   \n",
       " 5                                         60.0                          כן   \n",
       " 11                                        65.0                          לא   \n",
       " 14                                        65.0                          כן   \n",
       " 15                                        65.0                          לא   \n",
       " ..                                         ...                         ...   \n",
       " 333                                      130.0                          כן   \n",
       " 336                                      132.0                          כן   \n",
       " 340                                      138.0                          כן   \n",
       " 342                                      148.0                          לא   \n",
       " 345                                      180.0                          לא   \n",
       " \n",
       "     חברה (נא לכתוב באנגלית את שם החברה)            תחום המשרה   מין  \\\n",
       " 2                                   NaN               Backend   NaN   \n",
       " 5                                   NaN  Software Development   זכר   \n",
       " 11                                Elbit  Software Development  נקבה   \n",
       " 14                                Elbit  Software Development  נקבה   \n",
       " 15                             Mobileye  Software Development   זכר   \n",
       " ..                                  ...                   ...   ...   \n",
       " 333                                 NaN    Validation/Testing  נקבה   \n",
       " 336                                 NaN  Software Development   זכר   \n",
       " 340                           Microsoft  Software Development   זכר   \n",
       " 342                               Intel  Software Development   זכר   \n",
       " 345                               Apple  Software Development   זכר   \n",
       " \n",
       "     טעם גלידה אהוב  שנת הצעת העבודה  \n",
       " 2           פיסטוק           2022.0  \n",
       " 5      וניל עוגיות           2022.0  \n",
       " 11          פיסטוק           2022.0  \n",
       " 14          פיסטוק           2022.0  \n",
       " 15          פיסטוק           2022.0  \n",
       " ..             ...              ...  \n",
       " 333            NaN           2021.0  \n",
       " 336            NaN           2021.0  \n",
       " 340            NaN           2020.0  \n",
       " 342            NaN           2021.0  \n",
       " 345            NaN           2020.0  \n",
       " \n",
       " [172 rows x 14 columns],\n",
       " 'קורס בחירה הקשור לתחום (מבוא ללומדות / הגנה ברשתות ..)': Empty DataFrame\n",
       " Columns: [Timestamp, מסלול לימודים, באיזה סמסטר היית כשקיבלת את ההצעה?, ממוצע (נכון לתקופת חיפוש העבודה), האם ביקשו גיליון ציונים?, קורסי מפתח שעשית לפני הצעת העבודה, האם היה לך ניסיון לפני קבלת המשרה?, שכר שעתי במשרת הסטודנט הראשונה (ש\"ח לשעה), האם התמקחת אחרי קבלת ההצעה?, חברה (נא לכתוב באנגלית את שם החברה), תחום המשרה, מין, טעם גלידה אהוב, שנת הצעת העבודה]\n",
       " Index: []}"
      ]
     },
     "execution_count": 20,
     "metadata": {},
     "output_type": "execute_result"
    }
   ],
   "source": [
    "create_sorted_average_dict(dict=df_by_courses,field= salary)"
   ]
  },
  {
   "cell_type": "code",
   "execution_count": null,
   "metadata": {},
   "outputs": [
    {
     "data": {
      "image/png": "[encoded data removed]",
      "text/plain": [
       "<Figure size 1080x360 with 1 Axes>"
      ]
     },
     "metadata": {
      "needs_background": "light"
     },
     "output_type": "display_data"
    }
   ],
   "source": [
    "#bar plot:\n",
    "\n",
    "data = sorted_salaries_companies\n",
    "names = list(data.keys())\n",
    "values = list(data.values())\n",
    "fig=plt.figure(figsize=(15,5))\n",
    "\n",
    "\n",
    "\n",
    "plt.xlabel(\"Favorite ice Cream flavor\")\n",
    "plt.ylabel(\"Average Salary\")\n",
    "plt.title(\"Average salaries according to favorite ice-cream flavor\")\n",
    "plt.bar(range(len(data)), values, tick_label=names)\n",
    "plt.show()"
   ]
  }
 ],
 "metadata": {
  "kernelspec": {
   "display_name": "Python 3.7.13 ('ml')",
   "language": "python",
   "name": "python3"
  },
  "language_info": {
   "codemirror_mode": {
    "name": "ipython",
    "version": 3
   },
   "file_extension": ".py",
   "mimetype": "text/x-python",
   "name": "python",
   "nbconvert_exporter": "python",
   "pygments_lexer": "ipython3",
   "version": "3.7.13"
  },
  "orig_nbformat": 4,
  "vscode": {
   "interpreter": {
    "hash": "d406985a3116061fb1a038b1a39c04dacc79322f4d6b686ec924c4b564262bd8"
   }
  }
 },
 "nbformat": 4,
 "nbformat_minor": 2
}
