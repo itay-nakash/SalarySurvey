{
 "cells": [
  {
   "cell_type": "code",
   "execution_count": 1,
   "metadata": {},
   "outputs": [],
   "source": [
    "import pandas as pd\n",
    "import numpy as np\n",
    "\n",
    "from numpy import average\n",
    "\n",
    "\n",
    "#import the csv to pandas\n",
    "file_path='/home/itay/salarySurvey/data/combined_survey_filtered_wout_outliers.xlsx'\n",
    "df =pd.read_excel(file_path)\n",
    "\n"
   ]
  },
  {
   "cell_type": "code",
   "execution_count": 2,
   "metadata": {},
   "outputs": [],
   "source": [
    "# enter the coulmns names as varibels:\n",
    "# this may varay according to the different qustions you will ask in your survey (and therefore, different columns)\n",
    "\n",
    "salary='שכר שעתי במשרת הסטודנט הראשונה (ש\"ח לשעה)'\n",
    "grade='ממוצע (נכון לתקופת חיפוש העבודה)'\n",
    "bargin='האם התמקחת אחרי קבלת ההצעה?'\n",
    "gender='מין'\n",
    "year='שנת הצעת העבודה'\n",
    "company='חברה (נא לכתוב באנגלית את שם החברה)'\n",
    "courses='קורסי מפתח שעשית לפני הצעת העבודה'\n",
    "exp='האם היה לך ניסיון לפני קבלת המשרה?'\n",
    "sem='באיזה סמסטר היית כשקיבלת את ההצעה?'\n",
    "\n",
    "ice_cream='טעם גלידה אהוב'\n",
    "\n",
    "# choosing the rounding density in this analyze \n",
    "rounding_density=3"
   ]
  },
  {
   "cell_type": "code",
   "execution_count": 3,
   "metadata": {},
   "outputs": [
    {
     "name": "stdout",
     "output_type": "stream",
     "text": [
      "avrg salary is 94.15186246418338, the len of the df is :349\n"
     ]
    }
   ],
   "source": [
    "av_df=df[salary].astype(float).sum()/len(df)\n",
    "av_df\n",
    "print(f\"avrg salary is {av_df}, the len of the df is :{len(df)}\")"
   ]
  },
  {
   "cell_type": "code",
   "execution_count": 4,
   "metadata": {},
   "outputs": [],
   "source": [
    "# basic functions for different usages:\n",
    "\n",
    "from scipy.stats import ttest_ind\n",
    "\n",
    "\n",
    "#calculate the average value of columnName column in df:\n",
    "def calculate_average(df,column_name):\n",
    "    num_of_rows=len(df)\n",
    "    sum_of_rows=df[column_name].astype(float).sum()\n",
    "    return sum_of_rows/num_of_rows # return the average value\n",
    "\n",
    "def calculate_precentage_of_binary_answer(df,column_name,binary_field_answer):\n",
    "    return len(df[df[column_name]==binary_field_answer])/ len(df)\n",
    "\n",
    "def create_sorted_average_dict(dict,field):\n",
    "    average_dict={}\n",
    "    sorted_dict={}\n",
    "    #calculate the average:\n",
    "    for name in dict:\n",
    "        average_dict[name]=calculate_average(dict[name],field)\n",
    "\n",
    "    #sort:\n",
    "    sorted_salary_list=sorted(average_dict.items(), key=lambda x: x[1])\n",
    "\n",
    "    for tup in sorted_salary_list:\n",
    "        average_rounded=round(tup[1],rounding_density)\n",
    "        new_key= tup[0]+\" \"+str(average_rounded)\n",
    "        sorted_dict[new_key]=tup[1] \n",
    "    return sorted_dict\n",
    "\n",
    "# recive a dict of catagories and df for the catagory, and list of catagories in the dict, and print the result of T-test bewtween each pair \n",
    "# good only for dict based on numeric keys (need to implement '<')\n",
    "def create_ttest_for_pairs(dict,list):\n",
    "    for c_var in list:\n",
    "        for c_var2 in list:\n",
    "            # I want to print each pair just once, so print it only if the left bigger than the right one:            \n",
    "            if c_var<c_var2:\n",
    "                print(f\"ttest values for {str(c_var)} and {str(c_var2)} is {ttest_ind(dict[c_var], dict[c_var2])}\")\n",
    "\n",
    "def create_ttest_for_pairs_without_numeric(dict,list):\n",
    "    pairs={('a','b')}\n",
    "    for c_var in list:\n",
    "        for c_var2 in list:\n",
    "            # I want to print each pair just once, so before printing I'm checking the pair wasn't already printed:         \n",
    "            if (c_var,c_var2) not in pairs and (c_var2,c_var) not in pairs and c_var != c_var2:\n",
    "                print(f\"ttest values for {str(c_var)} and {str(c_var2)} is {print_ttest_result_rounded(ttest_ind(dict[c_var], dict[c_var2]))}\")\n",
    "                pairs.add((c_var,c_var2))\n",
    "\n",
    "def print_ttest_result_rounded(ttest_result):\n",
    "    return f\"Ttest_result(statistic: {round(ttest_result.statistic,rounding_density)}, pvalue: {round(ttest_result.pvalue,rounding_density)})\""
   ]
  },
  {
   "cell_type": "code",
   "execution_count": 5,
   "metadata": {},
   "outputs": [
    {
     "name": "stdout",
     "output_type": "stream",
     "text": [
      "95.03625954198473\n",
      "84.42404580152672\n",
      "92.46296296296296\n",
      "83.09876543209876\n",
      "num of mens:262\n",
      "num of females:81\n",
      "Ttest_indResult(statistic=1.0880802954064281, pvalue=0.2773280911762262)\n"
     ]
    }
   ],
   "source": [
    "#calculate average salary and grades according to gender:\n",
    "\n",
    "male_df= df.loc[df[gender]=='זכר']\n",
    "female_df= df.loc[df['מין']=='נקבה']\n",
    "\n",
    "average_salary_male = calculate_average(male_df,salary)\n",
    "average_grade_male = calculate_average(male_df,grade)\n",
    "\n",
    "average_salary_female = calculate_average(female_df,salary)\n",
    "average_grade_female = calculate_average(female_df,grade)\n",
    "\n",
    "print(average_salary_male)\n",
    "print(average_grade_male)\n",
    "print(average_salary_female)\n",
    "print(average_grade_female)\n",
    "\n",
    "print('num of mens:' +str(len(male_df)))\n",
    "print('num of females:' +str(len(female_df)))\n",
    "\n",
    "res = ttest_ind(male_df[salary], female_df[salary])\n",
    "\n",
    "print(res)\n"
   ]
  },
  {
   "cell_type": "code",
   "execution_count": 6,
   "metadata": {},
   "outputs": [
    {
     "name": "stdout",
     "output_type": "stream",
     "text": [
      "bargin man avreage salary: 94.12264150943396   Amount:53\n",
      "didn't bargin man avreage salary: 95.61463414634146   Amount:205\n",
      "bargin woman avreage salary: 85.71923076923076   Amount:26\n",
      "didn't bargin woman avreage salary: 95.39245283018869   Amount:53\n",
      "ttest values for bargin_m and n_bargin_m is Ttest_result(statistic: -0.501, pvalue: 0.617)\n",
      "ttest values for bargin_m and bargin_f is Ttest_result(statistic: 1.912, pvalue: 0.06)\n",
      "ttest values for bargin_m and n_bargin_f is Ttest_result(statistic: -0.39, pvalue: 0.698)\n",
      "ttest values for n_bargin_m and bargin_f is Ttest_result(statistic: 2.477, pvalue: 0.014)\n",
      "ttest values for n_bargin_m and n_bargin_f is Ttest_result(statistic: 0.078, pvalue: 0.938)\n",
      "ttest values for bargin_f and n_bargin_f is Ttest_result(statistic: -2.642, pvalue: 0.01)\n"
     ]
    }
   ],
   "source": [
    "#bargin presentage:\n",
    "\n",
    "from unicodedata import name\n",
    "\n",
    "\n",
    "precents_of_male_bargin=calculate_precentage_of_binary_answer(male_df,bargin,'כן')\n",
    "precents_of_female_bargin=calculate_precentage_of_binary_answer(female_df,bargin,'כן')\n",
    "\n",
    "bargin_m=male_df[male_df[bargin]=='כן']\n",
    "n_bargin_m=male_df[male_df[bargin]=='לא']\n",
    "bargin_f=female_df[female_df[bargin]=='כן']\n",
    "n_bargin_f=female_df[female_df[bargin]=='לא']\n",
    "\n",
    "\n",
    "print(\"bargin man avreage salary: \"+str(calculate_average( bargin_m,salary))+ '   Amount:'+str(len(bargin_m)))\n",
    "print(\"didn't bargin man avreage salary: \"+str(calculate_average( n_bargin_m,salary))+ '   Amount:'+str(len(n_bargin_m)))\n",
    "print(\"bargin woman avreage salary: \"+str(calculate_average( bargin_f,salary))+ '   Amount:'+str(len(bargin_f)))\n",
    "print(\"didn't bargin woman avreage salary: \"+ str(calculate_average( n_bargin_f,salary))+ '   Amount:'+str(len(n_bargin_f)))\n",
    "\n",
    "\n",
    "# checking for t-test values for the resutls:\n",
    "\n",
    "bargin_keys=['bargin_m','n_bargin_m','bargin_f','n_bargin_f']\n",
    "bargin_dict={}\n",
    "bargin_dict['bargin_m']=male_df[male_df[bargin]=='כן'][salary]\n",
    "bargin_dict['n_bargin_m']=male_df[male_df[bargin]=='לא'][salary]\n",
    "bargin_dict['bargin_f']=female_df[female_df[bargin]=='כן'][salary]\n",
    "bargin_dict['n_bargin_f']=female_df[female_df[bargin]=='לא'][salary]\n",
    "\n",
    "create_ttest_for_pairs_without_numeric(bargin_dict,bargin_keys)\n"
   ]
  },
  {
   "cell_type": "code",
   "execution_count": 7,
   "metadata": {},
   "outputs": [
    {
     "data": {
      "image/png": "[encoded data removed]",
      "text/plain": [
       "<Figure size 432x288 with 1 Axes>"
      ]
     },
     "metadata": {
      "needs_background": "light"
     },
     "output_type": "display_data"
    }
   ],
   "source": [
    "# Create a boxplot:\n",
    "\n",
    "import matplotlib.pyplot as plt\n",
    "man_salarys=male_df[[salary]].astype(float)\n",
    "fman_salarys=female_df[[salary]].astype(float)\n",
    "\n",
    "# Set the figure size\n",
    "plt.rcParams[\"figure.figsize\"] = [7.50, 3.50]\n",
    "plt.rcParams[\"figure.autolayout\"] = True\n",
    "\n",
    "# Pandas dataframe\n",
    "combined_dfs = pd.DataFrame({\"men\\'s salary\": male_df[salary].astype(float), \"women\\'s salary\": female_df[salary].astype(float)})\n",
    "\n",
    "# Plot the dataframe\n",
    "ax = combined_dfs[['men\\'s salary', 'women\\'s salary']].plot(kind='box',grid=True, showmeans=True,title='Salary By Gender')\n",
    "\n",
    "# Display the plot\n",
    "plt.show()"
   ]
  },
  {
   "cell_type": "code",
   "execution_count": 8,
   "metadata": {},
   "outputs": [],
   "source": [
    "#get outliers cleaned for the scatter point:\n",
    "scatter_df=df\n",
    "scatter_df[scatter_df[salary]>160]\n",
    "scatter_df = scatter_df.drop(scatter_df[scatter_df[salary]>160].index)"
   ]
  },
  {
   "cell_type": "code",
   "execution_count": 9,
   "metadata": {},
   "outputs": [
    {
     "data": {
      "text/html": [
       "<div>\n",
       "<style scoped>\n",
       "    .dataframe tbody tr th:only-of-type {\n",
       "        vertical-align: middle;\n",
       "    }\n",
       "\n",
       "    .dataframe tbody tr th {\n",
       "        vertical-align: top;\n",
       "    }\n",
       "\n",
       "    .dataframe thead th {\n",
       "        text-align: right;\n",
       "    }\n",
       "</style>\n",
       "<table border=\"1\" class=\"dataframe\">\n",
       "  <thead>\n",
       "    <tr style=\"text-align: right;\">\n",
       "      <th></th>\n",
       "      <th>Timestamp</th>\n",
       "      <th>מסלול לימודים</th>\n",
       "      <th>באיזה סמסטר היית כשקיבלת את ההצעה?</th>\n",
       "      <th>ממוצע (נכון לתקופת חיפוש העבודה)</th>\n",
       "      <th>האם ביקשו גיליון ציונים?</th>\n",
       "      <th>קורסי מפתח שעשית לפני הצעת העבודה</th>\n",
       "      <th>האם היה לך ניסיון לפני קבלת המשרה?</th>\n",
       "      <th>שכר שעתי במשרת הסטודנט הראשונה (ש\"ח לשעה)</th>\n",
       "      <th>האם התמקחת אחרי קבלת ההצעה?</th>\n",
       "      <th>חברה (נא לכתוב באנגלית את שם החברה)</th>\n",
       "      <th>תחום המשרה</th>\n",
       "      <th>מין</th>\n",
       "      <th>טעם גלידה אהוב</th>\n",
       "      <th>שנת הצעת העבודה</th>\n",
       "    </tr>\n",
       "  </thead>\n",
       "  <tbody>\n",
       "    <tr>\n",
       "      <th>0</th>\n",
       "      <td>2021-09-23 20:57:12.906</td>\n",
       "      <td>מדמ\"ח פיסיקה</td>\n",
       "      <td>5.0</td>\n",
       "      <td>70.0</td>\n",
       "      <td>לא</td>\n",
       "      <td>מת\"מ, מבני נתונים, הפעלה, אלגו</td>\n",
       "      <td>ניסיון רלוונטי מהצבא</td>\n",
       "      <td>70.0</td>\n",
       "      <td>לא</td>\n",
       "      <td>Rafael</td>\n",
       "      <td>Embedded</td>\n",
       "      <td>נקבה</td>\n",
       "      <td>NaN</td>\n",
       "      <td>2019.0</td>\n",
       "    </tr>\n",
       "    <tr>\n",
       "      <th>1</th>\n",
       "      <td>2021-09-21 14:49:16.843</td>\n",
       "      <td>מדמ\"ח</td>\n",
       "      <td>8.0</td>\n",
       "      <td>70.0</td>\n",
       "      <td>לא</td>\n",
       "      <td>מת\"מ, מבני נתונים, הפעלה, אלגו</td>\n",
       "      <td>ללא ניסיון כלל</td>\n",
       "      <td>95.0</td>\n",
       "      <td>לא</td>\n",
       "      <td>Odysii</td>\n",
       "      <td>Software Development</td>\n",
       "      <td>זכר</td>\n",
       "      <td>NaN</td>\n",
       "      <td>2021.0</td>\n",
       "    </tr>\n",
       "    <tr>\n",
       "      <th>2</th>\n",
       "      <td>2022-08-16 16:52:11.865</td>\n",
       "      <td>מדמ\"ח</td>\n",
       "      <td>3.0</td>\n",
       "      <td>72.0</td>\n",
       "      <td>כן</td>\n",
       "      <td>מת\"מ, מבני נתונים</td>\n",
       "      <td>ללא ניסיון כלל</td>\n",
       "      <td>65.0</td>\n",
       "      <td>לא</td>\n",
       "      <td>Rafael</td>\n",
       "      <td>Software Development</td>\n",
       "      <td>זכר</td>\n",
       "      <td>בייגלה מלוח - קרמל</td>\n",
       "      <td>2022.0</td>\n",
       "    </tr>\n",
       "    <tr>\n",
       "      <th>3</th>\n",
       "      <td>2021-09-25 17:15:43.317</td>\n",
       "      <td>מתמטיקה -מדמ\"ח</td>\n",
       "      <td>5.0</td>\n",
       "      <td>72.0</td>\n",
       "      <td>כן</td>\n",
       "      <td>מת\"מ, מבני נתונים, הפעלה</td>\n",
       "      <td>ללא ניסיון כלל</td>\n",
       "      <td>75.0</td>\n",
       "      <td>כן</td>\n",
       "      <td>לא רוצה לשתף</td>\n",
       "      <td>QA automation</td>\n",
       "      <td>נקבה</td>\n",
       "      <td>NaN</td>\n",
       "      <td>2019.0</td>\n",
       "    </tr>\n",
       "    <tr>\n",
       "      <th>4</th>\n",
       "      <td>2022-08-16 13:22:58.222</td>\n",
       "      <td>מדמ\"ח</td>\n",
       "      <td>4.0</td>\n",
       "      <td>72.0</td>\n",
       "      <td>לא</td>\n",
       "      <td>מת\"מ, מבני נתונים</td>\n",
       "      <td>ניסיון רלוונטי מהצבא</td>\n",
       "      <td>90.0</td>\n",
       "      <td>לא</td>\n",
       "      <td>Nimble</td>\n",
       "      <td>Software Development</td>\n",
       "      <td>נקבה</td>\n",
       "      <td>פיסטוק</td>\n",
       "      <td>2022.0</td>\n",
       "    </tr>\n",
       "    <tr>\n",
       "      <th>...</th>\n",
       "      <td>...</td>\n",
       "      <td>...</td>\n",
       "      <td>...</td>\n",
       "      <td>...</td>\n",
       "      <td>...</td>\n",
       "      <td>...</td>\n",
       "      <td>...</td>\n",
       "      <td>...</td>\n",
       "      <td>...</td>\n",
       "      <td>...</td>\n",
       "      <td>...</td>\n",
       "      <td>...</td>\n",
       "      <td>...</td>\n",
       "      <td>...</td>\n",
       "    </tr>\n",
       "    <tr>\n",
       "      <th>336</th>\n",
       "      <td>2022-08-16 17:28:55.389</td>\n",
       "      <td>מדמ\"ח - מתמטיקה</td>\n",
       "      <td>4.0</td>\n",
       "      <td>96.0</td>\n",
       "      <td>כן</td>\n",
       "      <td>מבני נתונים, אלגו</td>\n",
       "      <td>ללא ניסיון כלל</td>\n",
       "      <td>100.0</td>\n",
       "      <td>לא</td>\n",
       "      <td>StarkWare</td>\n",
       "      <td>Software Development</td>\n",
       "      <td>זכר</td>\n",
       "      <td>פיסטוק</td>\n",
       "      <td>2022.0</td>\n",
       "    </tr>\n",
       "    <tr>\n",
       "      <th>337</th>\n",
       "      <td>2021-09-21 11:25:35.325</td>\n",
       "      <td>הנדסת מחשבים</td>\n",
       "      <td>4.0</td>\n",
       "      <td>96.0</td>\n",
       "      <td>כן</td>\n",
       "      <td>מת\"מ, מבני נתונים, הפעלה, אלגו</td>\n",
       "      <td>ללא ניסיון כלל</td>\n",
       "      <td>100.0</td>\n",
       "      <td>לא</td>\n",
       "      <td>Intel</td>\n",
       "      <td>Software Development</td>\n",
       "      <td>זכר</td>\n",
       "      <td>NaN</td>\n",
       "      <td>2019.0</td>\n",
       "    </tr>\n",
       "    <tr>\n",
       "      <th>338</th>\n",
       "      <td>2022-08-16 14:07:35.665</td>\n",
       "      <td>מדמ\"ח</td>\n",
       "      <td>3.0</td>\n",
       "      <td>96.0</td>\n",
       "      <td>כן</td>\n",
       "      <td>מת\"מ</td>\n",
       "      <td>ניסיון רלוונטי מהצבא</td>\n",
       "      <td>120.0</td>\n",
       "      <td>לא</td>\n",
       "      <td>Microsoft</td>\n",
       "      <td>Software Development</td>\n",
       "      <td>זכר</td>\n",
       "      <td>פיסטוק</td>\n",
       "      <td>2022.0</td>\n",
       "    </tr>\n",
       "    <tr>\n",
       "      <th>339</th>\n",
       "      <td>2021-09-21 13:09:33.243</td>\n",
       "      <td>מדמ\"ח</td>\n",
       "      <td>5.0</td>\n",
       "      <td>97.0</td>\n",
       "      <td>כן</td>\n",
       "      <td>מת\"מ, מבני נתונים, הפעלה, אלגו</td>\n",
       "      <td>ללא ניסיון כלל</td>\n",
       "      <td>110.0</td>\n",
       "      <td>לא</td>\n",
       "      <td>Microsoft</td>\n",
       "      <td>Software Development</td>\n",
       "      <td>זכר</td>\n",
       "      <td>NaN</td>\n",
       "      <td>2020.0</td>\n",
       "    </tr>\n",
       "    <tr>\n",
       "      <th>340</th>\n",
       "      <td>2022-08-17 00:54:42.117</td>\n",
       "      <td>מדמ\"ח</td>\n",
       "      <td>3.0</td>\n",
       "      <td>98.5</td>\n",
       "      <td>כן</td>\n",
       "      <td>מת\"מ</td>\n",
       "      <td>ללא ניסיון כלל</td>\n",
       "      <td>110.0</td>\n",
       "      <td>לא</td>\n",
       "      <td>NaN</td>\n",
       "      <td>NaN</td>\n",
       "      <td>זכר</td>\n",
       "      <td>בייגלה מלוח - קרמל</td>\n",
       "      <td>2022.0</td>\n",
       "    </tr>\n",
       "  </tbody>\n",
       "</table>\n",
       "<p>338 rows × 14 columns</p>\n",
       "</div>"
      ],
      "text/plain": [
       "                  Timestamp    מסלול לימודים  \\\n",
       "0   2021-09-23 20:57:12.906     מדמ\"ח פיסיקה   \n",
       "1   2021-09-21 14:49:16.843            מדמ\"ח   \n",
       "2   2022-08-16 16:52:11.865            מדמ\"ח   \n",
       "3   2021-09-25 17:15:43.317   מתמטיקה -מדמ\"ח   \n",
       "4   2022-08-16 13:22:58.222            מדמ\"ח   \n",
       "..                      ...              ...   \n",
       "336 2022-08-16 17:28:55.389  מדמ\"ח - מתמטיקה   \n",
       "337 2021-09-21 11:25:35.325     הנדסת מחשבים   \n",
       "338 2022-08-16 14:07:35.665            מדמ\"ח   \n",
       "339 2021-09-21 13:09:33.243            מדמ\"ח   \n",
       "340 2022-08-17 00:54:42.117            מדמ\"ח   \n",
       "\n",
       "     באיזה סמסטר היית כשקיבלת את ההצעה?  ממוצע (נכון לתקופת חיפוש העבודה)  \\\n",
       "0                                   5.0                              70.0   \n",
       "1                                   8.0                              70.0   \n",
       "2                                   3.0                              72.0   \n",
       "3                                   5.0                              72.0   \n",
       "4                                   4.0                              72.0   \n",
       "..                                  ...                               ...   \n",
       "336                                 4.0                              96.0   \n",
       "337                                 4.0                              96.0   \n",
       "338                                 3.0                              96.0   \n",
       "339                                 5.0                              97.0   \n",
       "340                                 3.0                              98.5   \n",
       "\n",
       "    האם ביקשו גיליון ציונים? קורסי מפתח שעשית לפני הצעת העבודה  \\\n",
       "0                         לא    מת\"מ, מבני נתונים, הפעלה, אלגו   \n",
       "1                         לא    מת\"מ, מבני נתונים, הפעלה, אלגו   \n",
       "2                         כן                 מת\"מ, מבני נתונים   \n",
       "3                         כן          מת\"מ, מבני נתונים, הפעלה   \n",
       "4                         לא                 מת\"מ, מבני נתונים   \n",
       "..                       ...                               ...   \n",
       "336                       כן                 מבני נתונים, אלגו   \n",
       "337                       כן    מת\"מ, מבני נתונים, הפעלה, אלגו   \n",
       "338                       כן                              מת\"מ   \n",
       "339                       כן    מת\"מ, מבני נתונים, הפעלה, אלגו   \n",
       "340                       כן                              מת\"מ   \n",
       "\n",
       "    האם היה לך ניסיון לפני קבלת המשרה?  \\\n",
       "0                 ניסיון רלוונטי מהצבא   \n",
       "1                       ללא ניסיון כלל   \n",
       "2                       ללא ניסיון כלל   \n",
       "3                       ללא ניסיון כלל   \n",
       "4                 ניסיון רלוונטי מהצבא   \n",
       "..                                 ...   \n",
       "336                     ללא ניסיון כלל   \n",
       "337                     ללא ניסיון כלל   \n",
       "338               ניסיון רלוונטי מהצבא   \n",
       "339                     ללא ניסיון כלל   \n",
       "340                     ללא ניסיון כלל   \n",
       "\n",
       "     שכר שעתי במשרת הסטודנט הראשונה (ש\"ח לשעה) האם התמקחת אחרי קבלת ההצעה?  \\\n",
       "0                                         70.0                          לא   \n",
       "1                                         95.0                          לא   \n",
       "2                                         65.0                          לא   \n",
       "3                                         75.0                          כן   \n",
       "4                                         90.0                          לא   \n",
       "..                                         ...                         ...   \n",
       "336                                      100.0                          לא   \n",
       "337                                      100.0                          לא   \n",
       "338                                      120.0                          לא   \n",
       "339                                      110.0                          לא   \n",
       "340                                      110.0                          לא   \n",
       "\n",
       "    חברה (נא לכתוב באנגלית את שם החברה)            תחום המשרה   מין  \\\n",
       "0                                Rafael              Embedded  נקבה   \n",
       "1                                Odysii  Software Development   זכר   \n",
       "2                                Rafael  Software Development   זכר   \n",
       "3                          לא רוצה לשתף         QA automation  נקבה   \n",
       "4                                Nimble  Software Development  נקבה   \n",
       "..                                  ...                   ...   ...   \n",
       "336                           StarkWare  Software Development   זכר   \n",
       "337                               Intel  Software Development   זכר   \n",
       "338                           Microsoft  Software Development   זכר   \n",
       "339                           Microsoft  Software Development   זכר   \n",
       "340                                 NaN                   NaN   זכר   \n",
       "\n",
       "         טעם גלידה אהוב  שנת הצעת העבודה  \n",
       "0                   NaN           2019.0  \n",
       "1                   NaN           2021.0  \n",
       "2    בייגלה מלוח - קרמל           2022.0  \n",
       "3                   NaN           2019.0  \n",
       "4                פיסטוק           2022.0  \n",
       "..                  ...              ...  \n",
       "336              פיסטוק           2022.0  \n",
       "337                 NaN           2019.0  \n",
       "338              פיסטוק           2022.0  \n",
       "339                 NaN           2020.0  \n",
       "340  בייגלה מלוח - קרמל           2022.0  \n",
       "\n",
       "[338 rows x 14 columns]"
      ]
     },
     "execution_count": 9,
     "metadata": {},
     "output_type": "execute_result"
    }
   ],
   "source": [
    "#clean people who didn't fill salary or grade:\n",
    "\n",
    "scatter_df=scatter_df[scatter_df[grade].notna()]\n",
    "scatter_df=scatter_df[scatter_df[salary].notna()]\n",
    "scatter_df"
   ]
  },
  {
   "cell_type": "code",
   "execution_count": 10,
   "metadata": {},
   "outputs": [
    {
     "data": {
      "text/html": [
       "<div>\n",
       "<style scoped>\n",
       "    .dataframe tbody tr th:only-of-type {\n",
       "        vertical-align: middle;\n",
       "    }\n",
       "\n",
       "    .dataframe tbody tr th {\n",
       "        vertical-align: top;\n",
       "    }\n",
       "\n",
       "    .dataframe thead th {\n",
       "        text-align: right;\n",
       "    }\n",
       "</style>\n",
       "<table border=\"1\" class=\"dataframe\">\n",
       "  <thead>\n",
       "    <tr style=\"text-align: right;\">\n",
       "      <th></th>\n",
       "      <th>Timestamp</th>\n",
       "      <th>מסלול לימודים</th>\n",
       "      <th>באיזה סמסטר היית כשקיבלת את ההצעה?</th>\n",
       "      <th>ממוצע (נכון לתקופת חיפוש העבודה)</th>\n",
       "      <th>האם ביקשו גיליון ציונים?</th>\n",
       "      <th>קורסי מפתח שעשית לפני הצעת העבודה</th>\n",
       "      <th>האם היה לך ניסיון לפני קבלת המשרה?</th>\n",
       "      <th>שכר שעתי במשרת הסטודנט הראשונה (ש\"ח לשעה)</th>\n",
       "      <th>האם התמקחת אחרי קבלת ההצעה?</th>\n",
       "      <th>חברה (נא לכתוב באנגלית את שם החברה)</th>\n",
       "      <th>תחום המשרה</th>\n",
       "      <th>מין</th>\n",
       "      <th>טעם גלידה אהוב</th>\n",
       "      <th>שנת הצעת העבודה</th>\n",
       "    </tr>\n",
       "  </thead>\n",
       "  <tbody>\n",
       "  </tbody>\n",
       "</table>\n",
       "</div>"
      ],
      "text/plain": [
       "Empty DataFrame\n",
       "Columns: [Timestamp, מסלול לימודים, באיזה סמסטר היית כשקיבלת את ההצעה?, ממוצע (נכון לתקופת חיפוש העבודה), האם ביקשו גיליון ציונים?, קורסי מפתח שעשית לפני הצעת העבודה, האם היה לך ניסיון לפני קבלת המשרה?, שכר שעתי במשרת הסטודנט הראשונה (ש\"ח לשעה), האם התמקחת אחרי קבלת ההצעה?, חברה (נא לכתוב באנגלית את שם החברה), תחום המשרה, מין, טעם גלידה אהוב, שנת הצעת העבודה]\n",
       "Index: []"
      ]
     },
     "execution_count": 10,
     "metadata": {},
     "output_type": "execute_result"
    }
   ],
   "source": [
    "scatter_df[scatter_df[salary]>160]"
   ]
  },
  {
   "cell_type": "code",
   "execution_count": 11,
   "metadata": {},
   "outputs": [
    {
     "name": "stdout",
     "output_type": "stream",
     "text": [
      "94.03346456692914\n",
      "86.03937007874016\n",
      "92.49375\n",
      "84.1375\n",
      "num of mens:254\n",
      "num of females:80\n",
      "Ttest_indResult(statistic=0.6953396020090512, pvalue=0.4873288958657256)\n"
     ]
    }
   ],
   "source": [
    "#calculate average salary and grades according to gender:\n",
    "df = scatter_df\n",
    "male_df= df.loc[df[gender]=='זכר']\n",
    "female_df= df.loc[df['מין']=='נקבה']\n",
    "\n",
    "average_salary_male = calculate_average(male_df,salary)\n",
    "average_grade_male = calculate_average(male_df,grade)\n",
    "\n",
    "average_salary_female = calculate_average(female_df,salary)\n",
    "average_grade_female = calculate_average(female_df,grade)\n",
    "\n",
    "print(average_salary_male)\n",
    "print(average_grade_male)\n",
    "print(average_salary_female)\n",
    "print(average_grade_female)\n",
    "\n",
    "print('num of mens:' +str(len(male_df)))\n",
    "print('num of females:' +str(len(female_df)))\n",
    "\n",
    "res = ttest_ind(male_df[salary], female_df[salary])\n",
    "\n",
    "print(res)\n"
   ]
  },
  {
   "cell_type": "code",
   "execution_count": 12,
   "metadata": {},
   "outputs": [
    {
     "data": {
      "image/png": "[encoded data removed]",
      "text/plain": [
       "<Figure size 432x288 with 1 Axes>"
      ]
     },
     "metadata": {
      "needs_background": "light"
     },
     "output_type": "display_data"
    }
   ],
   "source": [
    "#plot scatter points:\n",
    "x=scatter_df[grade].astype(float)\n",
    "y=scatter_df[salary].astype(float)\n",
    "plt.scatter(x,y)\n",
    "plt.title(\"Salary By Average Grade\")\n",
    "plt.xlabel(\"Average grade\")\n",
    "plt.ylabel(\"Salary\")\n",
    "plt.show()"
   ]
  },
  {
   "cell_type": "code",
   "execution_count": 13,
   "metadata": {},
   "outputs": [
    {
     "data": {
      "text/plain": [
       "(0.5006559845489419, 7.612977142887622e-23)"
      ]
     },
     "execution_count": 13,
     "metadata": {},
     "output_type": "execute_result"
    }
   ],
   "source": [
    "#check correlation between salary and grades using pearsonr test:\n",
    "\n",
    "from scipy.stats import pearsonr\n",
    "grades=scatter_df[grade].astype(float).dropna()\n",
    "salaris=scatter_df[salary].astype(float).dropna()\n",
    "pearsonr(grades, salaris )"
   ]
  },
  {
   "cell_type": "code",
   "execution_count": 14,
   "metadata": {},
   "outputs": [
    {
     "name": "stdout",
     "output_type": "stream",
     "text": [
      "{'Intel': 80, 'Microsoft': 16, 'Amazon': 22, 'Google': 2, 'Facebook': 2, 'Apple': 11, 'IBM': 11, 'Rafael': 40, 'Elbit': 15, 'Plus500': 2, 'Nvidia': 13, 'Mobileye': 9}\n"
     ]
    }
   ],
   "source": [
    "#calculate num of exmples from each company:\n",
    "temp_df=df\n",
    "num_of_examples={}\n",
    "companies_names=['Intel','Microsoft','Amazon','Google','Facebook','Apple','IBM','Rafael','Elbit','Plus500','Nvidia','Mobileye']\n",
    "for company_name in companies_names:\n",
    "        num_of_examples[company_name]=len(temp_df[temp_df[company]==company_name])\n",
    "print(num_of_examples)\n"
   ]
  },
  {
   "cell_type": "code",
   "execution_count": 15,
   "metadata": {},
   "outputs": [],
   "source": [
    "#get the calculate companies average:\n",
    "\n",
    "from cmath import nan\n",
    "\n",
    "\n",
    "companies_dict={}\n",
    "companies_names=['Intel','Microsoft','Amazon','Apple','IBM','Rafael','Elbit','Nvidia','Mobileye']\n",
    "\n",
    "for company_name in companies_names:\n",
    "    companies_dict[company_name]=df[df[company]==company_name]"
   ]
  },
  {
   "cell_type": "code",
   "execution_count": 16,
   "metadata": {},
   "outputs": [],
   "source": [
    "\n",
    "sorted_salaries_companies=create_sorted_average_dict(companies_dict,salary)\n"
   ]
  },
  {
   "cell_type": "code",
   "execution_count": 17,
   "metadata": {},
   "outputs": [],
   "source": [
    "# bar plot - not neeeded:\n",
    "\n",
    "#fig=plt.figure(figsize=(15,5))\n",
    "#plt.bar(sorted_salaries_companies.keys(), sorted_salaries_companies.values(), color ='maroon',\n",
    "#        width = 0.4)\n",
    "# \n",
    "#plt.xlabel(\"Companies\")\n",
    "#plt.ylabel(\"Average Salary\")\n",
    "#plt.title(\"Companies average Salaries\")\n",
    "#plt.show()\n"
   ]
  },
  {
   "cell_type": "code",
   "execution_count": 18,
   "metadata": {},
   "outputs": [
    {
     "data": {
      "image/png": "[encoded data removed]",
      "text/plain": [
       "<Figure size 540x252 with 1 Axes>"
      ]
     },
     "metadata": {
      "needs_background": "light"
     },
     "output_type": "display_data"
    }
   ],
   "source": [
    "# box plot by company:\n",
    "\n",
    "import matplotlib.pyplot as plt\n",
    "\n",
    "for current_company in companies_dict:\n",
    "    current_df=companies_dict[current_company]\n",
    "    companies_dict[current_company]=(current_df[salary]).astype(float)\n",
    "\n",
    "# Set the figure size\n",
    "plt.rcParams[\"figure.figsize\"] = [7.50, 3.50]\n",
    "plt.rcParams[\"figure.autolayout\"] = True\n",
    "\n",
    "# Pandas dataframe\n",
    "combined_dfs=pd.DataFrame(companies_dict)\n",
    "# Plot the dataframe\n",
    "ax = combined_dfs.plot(kind='box',grid=True,showmeans=True,title='Salary By Company')\n",
    "\n",
    "# Display the plot\n",
    "plt.show()"
   ]
  },
  {
   "cell_type": "code",
   "execution_count": 19,
   "metadata": {},
   "outputs": [],
   "source": [
    "ice_cream_df_dict={}\n",
    "ice_ceam_names=['בייגלה מלוח - קרמל','פיסטוק','וניל עוגיות','בצק עוגיות','שוקולד בראוניס']\n",
    "\n",
    "for ice_cream_name in ice_ceam_names:\n",
    "    ice_cream_df_dict[ice_cream_name]=df[df[ice_cream]==ice_cream_name]    "
   ]
  },
  {
   "cell_type": "code",
   "execution_count": 20,
   "metadata": {},
   "outputs": [
    {
     "data": {
      "image/png": "[encoded data removed]",
      "text/plain": [
       "<Figure size 540x252 with 1 Axes>"
      ]
     },
     "metadata": {
      "needs_background": "light"
     },
     "output_type": "display_data"
    }
   ],
   "source": [
    "import matplotlib.pyplot as plt\n",
    "\n",
    "\n",
    "for flavor in ice_cream_df_dict:\n",
    "    c_df=ice_cream_df_dict[flavor]\n",
    "    ice_cream_df_dict[flavor]=(c_df[salary]).astype(float)\n",
    "\n",
    "# Set the figure size\n",
    "plt.rcParams[\"figure.figsize\"] = [7.50, 3.50]\n",
    "plt.rcParams[\"figure.autolayout\"] = True\n",
    "\n",
    "# Pandas dataframe\n",
    "combined_dfs=pd.DataFrame(ice_cream_df_dict)\n",
    "# Plot the dataframe\n",
    "ax = combined_dfs.plot(kind='box',grid=True, showmeans=True,title='Salary By Favorite Ice Cream Flavor')\n",
    "\n",
    "# Display the plot\n",
    "plt.show()"
   ]
  },
  {
   "cell_type": "code",
   "execution_count": 21,
   "metadata": {},
   "outputs": [],
   "source": [
    "#sorted_salaries_companies=create_sorted_average_dict(ice_cream_df_dict,salary)\n"
   ]
  },
  {
   "cell_type": "code",
   "execution_count": 22,
   "metadata": {},
   "outputs": [
    {
     "name": "stdout",
     "output_type": "stream",
     "text": [
      "{'Rafael 71.275': 71.275, 'Intel 88.746': 88.74625, 'Elbit 91.467': 91.46666666666667, 'Apple 101.818': 101.81818181818181, 'IBM 105.909': 105.9090909090909, 'Amazon 106.0': 106.0, 'Mobileye 107.778': 107.77777777777777, 'Microsoft 108.75': 108.75, 'Nvidia 110.0': 110.0}\n"
     ]
    }
   ],
   "source": [
    "print(sorted_salaries_companies)"
   ]
  },
  {
   "cell_type": "code",
   "execution_count": 23,
   "metadata": {},
   "outputs": [],
   "source": [
    "mtm='מת\"מ'\n",
    "mivni='מבני נתונים'\n",
    "operation_s='הפעלה'\n",
    "algo='אלגו'\n",
    "\n",
    "df_by_courses={}\n",
    "courses_names=[mtm,mivni,operation_s,algo]\n",
    "\n",
    "for course in courses_names:\n",
    "    df_by_courses[course] = df.loc[df[courses].str.contains(course,na=False)]"
   ]
  },
  {
   "cell_type": "code",
   "execution_count": 24,
   "metadata": {},
   "outputs": [
    {
     "data": {
      "image/png": "[encoded data removed]",
      "text/plain": [
       "<Figure size 540x252 with 1 Axes>"
      ]
     },
     "metadata": {
      "needs_background": "light"
     },
     "output_type": "display_data"
    }
   ],
   "source": [
    "courses_average_dict = create_sorted_average_dict(dict=df_by_courses,field= salary)\n",
    "\n",
    "courses_dict={}\n",
    "\n",
    "for course in courses_names:\n",
    "    courses_dict[course]=(df.loc[df[courses].str.contains(course,na=False)][salary]).astype(float)\n",
    "\n",
    "# Set the figure size\n",
    "plt.rcParams[\"figure.figsize\"] = [7.50, 3.50]\n",
    "plt.rcParams[\"figure.autolayout\"] = True\n",
    "\n",
    "# Pandas dataframe\n",
    "#combined_dfs = pd.DataFrame({\"Intel\": companies_dict[\"Intel\"].astype(float), \"Mobilay\": companies_dict[\"Mobileye\"].astype(float)})\n",
    "combined_dfs=pd.DataFrame(courses_dict)\n",
    "# Plot the dataframe\n",
    "ax = combined_dfs.plot(kind='box',grid=True, showmeans=True,title='Salary By Courses')\n",
    "\n",
    "# Display the plot\n",
    "plt.show()"
   ]
  },
  {
   "cell_type": "code",
   "execution_count": 25,
   "metadata": {},
   "outputs": [
    {
     "name": "stdout",
     "output_type": "stream",
     "text": [
      "{'מת\"מ 93.73': 93.72981366459628, 'מבני נתונים 94.401': 94.40068493150685, 'אלגו 94.531': 94.53081395348836, 'הפעלה 95.032': 95.03192771084336}\n"
     ]
    }
   ],
   "source": [
    "courses_average_dict = create_sorted_average_dict(dict=df_by_courses,field= salary)\n",
    "print(courses_average_dict)\n"
   ]
  },
  {
   "cell_type": "code",
   "execution_count": 26,
   "metadata": {},
   "outputs": [],
   "source": [
    "#no_exp='ללא ניסיון כלל'\n",
    "#no_exp_df=df[df[exp]==no_exp]\n",
    "#\n",
    "#no_exp_courses_dict={}\n",
    "#\n",
    "#for key in df_by_courses:\n",
    "#    current_course_df=df_by_courses[key]\n",
    "#    no_exp_courses_dict[key] = current_course_df[current_course_df[exp]==no_exp]\n",
    "#\n",
    "#\n",
    "#courses_noexp_average_dict = create_sorted_average_dict(dict=no_exp_courses_dict,field= salary)\n",
    "#print(courses_noexp_average_dict)\n",
    "#\n",
    "#for course in courses_names:\n",
    "#    courses_dict[course]=(no_exp_df.loc[no_exp_df[courses].str.contains(course,na=False)][salary]).astype(float)\n",
    "#\n",
    "## Set the figure size\n",
    "#plt.rcParams[\"figure.figsize\"] = [7.50, 3.50]\n",
    "#plt.rcParams[\"figure.autolayout\"] = True\n",
    "#\n",
    "## Pandas dataframe\n",
    "##combined_dfs = pd.DataFrame({\"Intel\": companies_dict[\"Intel\"].astype(float), \"Mobilay\": companies_dict[\"Mobileye\"].astype(float)})\n",
    "#combined_dfs=pd.DataFrame(courses_dict)\n",
    "## Plot the dataframe\n",
    "#ax = combined_dfs.plot(kind='box',grid=True, showmeans=True,title='Salary By Courses (only people without experience)')\n",
    "#\n",
    "## Display the plot\n",
    "#plt.show()"
   ]
  },
  {
   "cell_type": "code",
   "execution_count": 27,
   "metadata": {},
   "outputs": [
    {
     "name": "stdout",
     "output_type": "stream",
     "text": [
      "{'מת\"מ 93.044': 93.04362934362933, 'מבני נתונים 93.855': 93.85541666666667, 'אלגו 94.409': 94.40928571428572, 'הפעלה 94.786': 94.78582089552238}\n"
     ]
    },
    {
     "data": {
      "image/png": "[encoded data removed]",
      "text/plain": [
       "<Figure size 540x252 with 1 Axes>"
      ]
     },
     "metadata": {
      "needs_background": "light"
     },
     "output_type": "display_data"
    }
   ],
   "source": [
    "no_exp='ללא ניסיון כלל'\n",
    "no_exp_df=df[df[exp]==no_exp]\n",
    "\n",
    "no_exp_courses_dict={}\n",
    "\n",
    "for key in df_by_courses:\n",
    "    current_course_df=df_by_courses[key]\n",
    "    no_exp_courses_dict[key] = current_course_df[current_course_df[exp]==no_exp]\n",
    "\n",
    "\n",
    "courses_noexp_average_dict = create_sorted_average_dict(dict=no_exp_courses_dict,field= salary)\n",
    "print(courses_noexp_average_dict)\n",
    "\n",
    "for course in courses_names:\n",
    "    courses_dict[course]=(no_exp_df.loc[no_exp_df[courses].str.contains(course,na=False)][salary]).astype(float)\n",
    "\n",
    "# Set the figure size\n",
    "plt.rcParams[\"figure.figsize\"] = [7.50, 3.50]\n",
    "plt.rcParams[\"figure.autolayout\"] = True\n",
    "\n",
    "# Pandas dataframe\n",
    "#combined_dfs = pd.DataFrame({\"Intel\": companies_dict[\"Intel\"].astype(float), \"Mobilay\": companies_dict[\"Mobileye\"].astype(float)})\n",
    "combined_dfs=pd.DataFrame(courses_dict)\n",
    "# Plot the dataframe\n",
    "ax = combined_dfs.plot(kind='box',grid=True, showmeans=True,title='Salary By Courses (only people without experience)')\n",
    "\n",
    "# Display the plot\n",
    "plt.show()"
   ]
  },
  {
   "cell_type": "code",
   "execution_count": 28,
   "metadata": {},
   "outputs": [],
   "source": [
    "def checkBySemster(semester_num):\n",
    "    #sem5 no exp\n",
    "    semster=semester_num\n",
    "    sem_df=no_exp_df[no_exp_df[sem]==semster]\n",
    "\n",
    "    sem5_courses_dict={}\n",
    "\n",
    "    for key in df_by_courses:\n",
    "        current_course_df=df_by_courses[key]\n",
    "        sem5_courses_dict[key] = current_course_df[current_course_df[exp]==semster]\n",
    "\n",
    "\n",
    "    sem_average_dict = create_sorted_average_dict(dict=sem5_courses_dict,field= salary)\n",
    "    print(sem_average_dict)\n",
    "\n",
    "    for course in courses_names:\n",
    "        courses_dict[course]=(sem_df.loc[sem_df[courses].str.contains(course,na=False)][salary]).astype(float)\n",
    "\n",
    "    # Set the figure size\n",
    "    plt.rcParams[\"figure.figsize\"] = [7.50, 3.50]\n",
    "    plt.rcParams[\"figure.autolayout\"] = True\n",
    "\n",
    "    # Pandas dataframe\n",
    "    #combined_dfs = pd.DataFrame({\"Intel\": companies_dict[\"Intel\"].astype(float), \"Mobilay\": companies_dict[\"Mobileye\"].astype(float)})\n",
    "    combined_dfs=pd.DataFrame(courses_dict)\n",
    "    # Plot the dataframe\n",
    "    ax = combined_dfs.plot(kind='box',grid=True, showmeans=True,title='Salary By Courses (only people from semster '+str(semester_num)+' )')\n",
    "\n",
    "    # Display the plot\n",
    "    plt.show()"
   ]
  },
  {
   "cell_type": "code",
   "execution_count": 29,
   "metadata": {},
   "outputs": [
    {
     "name": "stdout",
     "output_type": "stream",
     "text": [
      "{'מת\"מ nan': nan, 'מבני נתונים nan': nan, 'הפעלה nan': nan, 'אלגו nan': nan}\n"
     ]
    },
    {
     "name": "stderr",
     "output_type": "stream",
     "text": [
      "/home/itay/miniconda3/envs/ml/lib/python3.7/site-packages/ipykernel_launcher.py:10: RuntimeWarning: invalid value encountered in double_scalars\n",
      "  # Remove the CWD from sys.path while we load stuff.\n"
     ]
    },
    {
     "data": {
      "image/png": "[encoded data removed]",
      "text/plain": [
       "<Figure size 540x252 with 1 Axes>"
      ]
     },
     "metadata": {
      "needs_background": "light"
     },
     "output_type": "display_data"
    }
   ],
   "source": [
    "#sem5 no exp\n",
    "checkBySemster(3)"
   ]
  },
  {
   "cell_type": "code",
   "execution_count": 30,
   "metadata": {},
   "outputs": [
    {
     "name": "stderr",
     "output_type": "stream",
     "text": [
      "/home/itay/miniconda3/envs/ml/lib/python3.7/site-packages/ipykernel_launcher.py:10: RuntimeWarning: invalid value encountered in double_scalars\n",
      "  # Remove the CWD from sys.path while we load stuff.\n"
     ]
    },
    {
     "name": "stdout",
     "output_type": "stream",
     "text": [
      "{'מת\"מ nan': nan, 'מבני נתונים nan': nan, 'הפעלה nan': nan, 'אלגו nan': nan}\n"
     ]
    },
    {
     "data": {
      "image/png": "[encoded data removed]",
      "text/plain": [
       "<Figure size 540x252 with 1 Axes>"
      ]
     },
     "metadata": {
      "needs_background": "light"
     },
     "output_type": "display_data"
    }
   ],
   "source": [
    "checkBySemster(4)"
   ]
  },
  {
   "cell_type": "code",
   "execution_count": 31,
   "metadata": {},
   "outputs": [
    {
     "name": "stderr",
     "output_type": "stream",
     "text": [
      "/home/itay/miniconda3/envs/ml/lib/python3.7/site-packages/ipykernel_launcher.py:10: RuntimeWarning: invalid value encountered in double_scalars\n",
      "  # Remove the CWD from sys.path while we load stuff.\n"
     ]
    },
    {
     "name": "stdout",
     "output_type": "stream",
     "text": [
      "{'מת\"מ nan': nan, 'מבני נתונים nan': nan, 'הפעלה nan': nan, 'אלגו nan': nan}\n"
     ]
    },
    {
     "data": {
      "image/png": "[encoded data removed]",
      "text/plain": [
       "<Figure size 540x252 with 1 Axes>"
      ]
     },
     "metadata": {
      "needs_background": "light"
     },
     "output_type": "display_data"
    }
   ],
   "source": [
    "checkBySemster(5)"
   ]
  },
  {
   "cell_type": "code",
   "execution_count": 32,
   "metadata": {},
   "outputs": [
    {
     "name": "stdout",
     "output_type": "stream",
     "text": [
      "{'מת\"מ nan': nan, 'מבני נתונים nan': nan, 'הפעלה nan': nan, 'אלגו nan': nan}\n"
     ]
    },
    {
     "name": "stderr",
     "output_type": "stream",
     "text": [
      "/home/itay/miniconda3/envs/ml/lib/python3.7/site-packages/ipykernel_launcher.py:10: RuntimeWarning: invalid value encountered in double_scalars\n",
      "  # Remove the CWD from sys.path while we load stuff.\n"
     ]
    },
    {
     "data": {
      "image/png": "[encoded data removed]",
      "text/plain": [
       "<Figure size 540x252 with 1 Axes>"
      ]
     },
     "metadata": {
      "needs_background": "light"
     },
     "output_type": "display_data"
    }
   ],
   "source": [
    "checkBySemster(6)"
   ]
  },
  {
   "cell_type": "code",
   "execution_count": null,
   "metadata": {},
   "outputs": [],
   "source": []
  },
  {
   "cell_type": "code",
   "execution_count": 33,
   "metadata": {},
   "outputs": [
    {
     "data": {
      "image/png": "[encoded data removed]",
      "text/plain": [
       "<Figure size 540x252 with 1 Axes>"
      ]
     },
     "metadata": {
      "needs_background": "light"
     },
     "output_type": "display_data"
    }
   ],
   "source": [
    "dict_df_years={}\n",
    "years=[2019,2020,2021,2022]\n",
    "\n",
    "for c_year in years:\n",
    "        dict_df_years[c_year]=(df[df[year]==c_year][salary]).astype(float)\n",
    "\n",
    "# Set the figure size\n",
    "plt.rcParams[\"figure.figsize\"] = [7.50, 3.50]\n",
    "plt.rcParams[\"figure.autolayout\"] = True\n",
    "\n",
    "# Pandas dataframe\n",
    "#combined_dfs = pd.DataFrame({\"Intel\": companies_dict[\"Intel\"].astype(float), \"Mobilay\": companies_dict[\"Mobileye\"].astype(float)})\n",
    "combined_dfs=pd.DataFrame(dict_df_years)\n",
    "# Plot the dataframe\n",
    "ax = combined_dfs.plot(kind='box', showmeans=True,grid=True,title='Salary By Year')\n",
    "\n",
    "# Display the plot\n",
    "plt.show()"
   ]
  },
  {
   "cell_type": "code",
   "execution_count": 34,
   "metadata": {},
   "outputs": [
    {
     "name": "stdout",
     "output_type": "stream",
     "text": [
      "len of 2019 is 24 and mean is 85.45\n",
      "len of 2020 is 49 and mean is 87.13673469387754\n",
      "len of 2021 is 102 and mean is 91.62745098039215\n",
      "len of 2022 is 162 and mean is 97.57716049382717\n"
     ]
    }
   ],
   "source": [
    "for c_year in years:\n",
    "    print(f\"len of {c_year} is {len(dict_df_years[c_year])} and mean is {dict_df_years[c_year].mean()}\")"
   ]
  },
  {
   "cell_type": "code",
   "execution_count": 35,
   "metadata": {},
   "outputs": [
    {
     "name": "stdout",
     "output_type": "stream",
     "text": [
      "ttest values for 2019 and 2020 is Ttest_indResult(statistic=-0.4673949584649041, pvalue=0.6416486835876469)\n",
      "ttest values for 2019 and 2021 is Ttest_indResult(statistic=-1.6377511198695034, pvalue=0.1040088400005087)\n",
      "ttest values for 2019 and 2022 is Ttest_indResult(statistic=-3.2511777924486447, pvalue=0.001366893580036142)\n",
      "ttest values for 2020 and 2021 is Ttest_indResult(statistic=-1.5635309805688562, pvalue=0.12004917405785712)\n",
      "ttest values for 2020 and 2022 is Ttest_indResult(statistic=-3.7819071225555145, pvalue=0.0002031432123497768)\n",
      "ttest values for 2021 and 2022 is Ttest_indResult(statistic=-2.705575237069183, pvalue=0.007265987154072128)\n"
     ]
    }
   ],
   "source": [
    "create_ttest_for_pairs(dict_df_years,years)"
   ]
  },
  {
   "cell_type": "code",
   "execution_count": 36,
   "metadata": {},
   "outputs": [
    {
     "name": "stdout",
     "output_type": "stream",
     "text": [
      "The average salary in 2022 is 97.57716049382717, and N of 2022 is : 162\n",
      "The average salary in 2022 without prior exp is 97.436, and N of 2022 is : 125\n"
     ]
    }
   ],
   "source": [
    "#General info for the doc:\n",
    "\n",
    "print(f\"The average salary in 2022 is {dict_df_years[2022].mean()}, and N of 2022 is : {len(dict_df_years[2022])}\")\n",
    "df22=df[df[year]==2022]\n",
    "df2022_n_prior_exp=df22[df22[exp]==no_exp]\n",
    "print(f\"The average salary in 2022 without prior exp is {df2022_n_prior_exp[salary].mean()}, and N of 2022 is : {len(df2022_n_prior_exp)}\")"
   ]
  },
  {
   "cell_type": "code",
   "execution_count": null,
   "metadata": {},
   "outputs": [],
   "source": []
  },
  {
   "cell_type": "code",
   "execution_count": null,
   "metadata": {},
   "outputs": [],
   "source": []
  }
 ],
 "metadata": {
  "kernelspec": {
   "display_name": "Python 3.7.13 ('ml')",
   "language": "python",
   "name": "python3"
  },
  "language_info": {
   "codemirror_mode": {
    "name": "ipython",
    "version": 3
   },
   "file_extension": ".py",
   "mimetype": "text/x-python",
   "name": "python",
   "nbconvert_exporter": "python",
   "pygments_lexer": "ipython3",
   "version": "3.7.13"
  },
  "orig_nbformat": 4,
  "vscode": {
   "interpreter": {
    "hash": "d406985a3116061fb1a038b1a39c04dacc79322f4d6b686ec924c4b564262bd8"
   }
  }
 },
 "nbformat": 4,
 "nbformat_minor": 2
}
