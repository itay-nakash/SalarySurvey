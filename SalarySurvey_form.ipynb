{
 "cells": [
  {
   "cell_type": "code",
   "execution_count": 1,
   "metadata": {},
   "outputs": [],
   "source": [
    "import pandas as pd\n",
    "import numpy as np\n",
    "\n",
    "from numpy import average\n",
    "\n",
    "\n",
    "#import the csv to pandas\n",
    "file_path='/home/itay/salarySurvey/data/combined_survey_filtered_wout_outliers.xlsx'\n",
    "df =pd.read_excel(file_path)\n",
    "\n"
   ]
  },
  {
   "cell_type": "code",
   "execution_count": 2,
   "metadata": {},
   "outputs": [],
   "source": [
    "# enter the coulmns names as varibels:\n",
    "\n",
    "salary='שכר שעתי במשרת הסטודנט הראשונה (ש\"ח לשעה)'\n",
    "grade='ממוצע (נכון לתקופת חיפוש העבודה)'\n",
    "bargin='האם התמקחת אחרי קבלת ההצעה?'\n",
    "gender='מין'\n",
    "year='שנת הצעת העבודה'\n",
    "company='חברה (נא לכתוב באנגלית את שם החברה)'\n",
    "courses='קורסי מפתח שעשית לפני הצעת העבודה'\n",
    "exp='האם היה לך ניסיון לפני קבלת המשרה?'\n",
    "sem='באיזה סמסטר היית כשקיבלת את ההצעה?'\n",
    "\n",
    "ice_cream='טעם גלידה אהוב'\n",
    "\n",
    "rounding_density=2"
   ]
  },
  {
   "cell_type": "code",
   "execution_count": 3,
   "metadata": {},
   "outputs": [
    {
     "name": "stdout",
     "output_type": "stream",
     "text": [
      "avrg salary is 94.15186246418338, the len of the df is :349\n"
     ]
    }
   ],
   "source": [
    "av_df=df[salary].astype(float).sum()/len(df)\n",
    "av_df\n",
    "print(f\"avrg salary is {av_df}, the len of the df is :{len(df)}\")"
   ]
  },
  {
   "cell_type": "code",
   "execution_count": 47,
   "metadata": {},
   "outputs": [],
   "source": [
    "from scipy.stats import ttest_ind\n",
    "\n",
    "\n",
    "#calculate the average value of columnName column in df:\n",
    "def calculate_average(df,column_name):\n",
    "    num_of_rows=len(df)\n",
    "    sum_of_rows=df[column_name].astype(float).sum()\n",
    "    return sum_of_rows/num_of_rows # return the average value\n",
    "\n",
    "def calculate_precentage_of_binary_answer(df,column_name,binary_field_answer):\n",
    "    return len(df[df[column_name]==binary_field_answer])/ len(df)\n",
    "\n",
    "def create_sorted_average_dict(dict,field):\n",
    "    average_dict={}\n",
    "    sorted_dict={}\n",
    "    #calculate the average:\n",
    "    for name in dict:\n",
    "        average_dict[name]=calculate_average(dict[name],field)\n",
    "\n",
    "    #sort:\n",
    "    sorted_salary_list=sorted(average_dict.items(), key=lambda x: x[1])\n",
    "\n",
    "    for tup in sorted_salary_list:\n",
    "        average_rounded=round(tup[1],rounding_density)\n",
    "        new_key= tup[0]+\" \"+str(average_rounded)\n",
    "        sorted_dict[new_key]=tup[1] \n",
    "    return sorted_dict\n",
    "\n",
    "def create_ttest_for_pairs(dict,list):\n",
    "    for c_var in list:\n",
    "        for c_var2 in list:\n",
    "            # I want to print each pair just once, so print it only if the left bigger than the right one:            \n",
    "            if c_var < c_var2:\n",
    "                print(f\"ttest values for {str(c_var)} and {str(c_var2)} is f{ttest_ind(dict[c_var], dict[c_var2])}\")"
   ]
  },
  {
   "cell_type": "code",
   "execution_count": 5,
   "metadata": {},
   "outputs": [
    {
     "name": "stdout",
     "output_type": "stream",
     "text": [
      "95.03625954198473\n",
      "84.42404580152672\n",
      "92.46296296296296\n",
      "83.09876543209876\n",
      "num of mens:262\n",
      "num of females:81\n",
      "Ttest_indResult(statistic=1.0880802954064281, pvalue=0.2773280911762262)\n"
     ]
    }
   ],
   "source": [
    "#calculate average salary and grades:\n",
    "\n",
    "male_df= df.loc[df[gender]=='זכר']\n",
    "female_df= df.loc[df['מין']=='נקבה']\n",
    "\n",
    "average_salary_male = calculate_average(male_df,salary)\n",
    "average_grade_male = calculate_average(male_df,grade)\n",
    "\n",
    "average_salary_female = calculate_average(female_df,salary)\n",
    "average_grade_female = calculate_average(female_df,grade)\n",
    "\n",
    "print(average_salary_male)\n",
    "print(average_grade_male)\n",
    "print(average_salary_female)\n",
    "print(average_grade_female)\n",
    "\n",
    "print('num of mens:' +str(len(male_df)))\n",
    "print('num of females:' +str(len(female_df)))\n",
    "\n",
    "res = ttest_ind(male_df[salary], female_df[salary])\n",
    "\n",
    "print(res)\n"
   ]
  },
  {
   "cell_type": "code",
   "execution_count": 6,
   "metadata": {},
   "outputs": [
    {
     "name": "stdout",
     "output_type": "stream",
     "text": [
      "bargin man avreage salary: 94.12264150943396   Amount:53\n",
      "didn't bargin man avreage salary: 95.61463414634146   Amount:205\n",
      "bargin woman avreage salary: 85.71923076923076   Amount:26\n",
      "didn't bargin woman avreage salary: 95.39245283018869   Amount:53\n"
     ]
    }
   ],
   "source": [
    "#bargin presentage:\n",
    "\n",
    "precents_of_male_bargin=calculate_precentage_of_binary_answer(male_df,bargin,'כן')\n",
    "precents_of_female_bargin=calculate_precentage_of_binary_answer(female_df,bargin,'כן')\n",
    "\n",
    "bargin_m=male_df[male_df[bargin]=='כן']\n",
    "n_bargin_m=male_df[male_df[bargin]=='לא']\n",
    "bargin_f=female_df[female_df[bargin]=='כן']\n",
    "n_bargin_f=female_df[female_df[bargin]=='לא']\n",
    "\n",
    "\n",
    "print(\"bargin man avreage salary: \"+str(calculate_average( bargin_m,salary))+ '   Amount:'+str(len(bargin_m)))\n",
    "print(\"didn't bargin man avreage salary: \"+str(calculate_average( n_bargin_m,salary))+ '   Amount:'+str(len(n_bargin_m)))\n",
    "print(\"bargin woman avreage salary: \"+str(calculate_average( bargin_f,salary))+ '   Amount:'+str(len(bargin_f)))\n",
    "print(\"didn't bargin woman avreage salary: \"+ str(calculate_average( n_bargin_f,salary))+ '   Amount:'+str(len(n_bargin_f)))\n"
   ]
  },
  {
   "cell_type": "code",
   "execution_count": 7,
   "metadata": {},
   "outputs": [
    {
     "data": {
      "image/png": "[encoded data removed]",
      "text/plain": [
       "<Figure size 432x288 with 1 Axes>"
      ]
     },
     "metadata": {
      "needs_background": "light"
     },
     "output_type": "display_data"
    }
   ],
   "source": [
    "import matplotlib.pyplot as plt\n",
    "man_salarys=male_df[[salary]].astype(float)\n",
    "fman_salarys=female_df[[salary]].astype(float)\n",
    "\n",
    "# Set the figure size\n",
    "plt.rcParams[\"figure.figsize\"] = [7.50, 3.50]\n",
    "plt.rcParams[\"figure.autolayout\"] = True\n",
    "\n",
    "# Pandas dataframe\n",
    "combined_dfs = pd.DataFrame({\"men\\'s salary\": male_df[salary].astype(float), \"women\\'s salary\": female_df[salary].astype(float)})\n",
    "\n",
    "# Plot the dataframe\n",
    "ax = combined_dfs[['men\\'s salary', 'women\\'s salary']].plot(kind='box',grid=True, showmeans=True,title='Salary By Gender')\n",
    "\n",
    "# Display the plot\n",
    "plt.show()"
   ]
  },
  {
   "cell_type": "code",
   "execution_count": 8,
   "metadata": {},
   "outputs": [],
   "source": [
    "#get outliers cleaned for the scatter point:\n",
    "scatter_df=df\n",
    "scatter_df[scatter_df[salary]>160]\n",
    "scatter_df = scatter_df.drop(scatter_df[scatter_df[salary]>160].index)"
   ]
  },
  {
   "cell_type": "code",
   "execution_count": 9,
   "metadata": {},
   "outputs": [
    {
     "data": {
      "image/png": "[encoded data removed]",
      "text/plain": [
       "<Figure size 432x288 with 1 Axes>"
      ]
     },
     "metadata": {
      "needs_background": "light"
     },
     "output_type": "display_data"
    }
   ],
   "source": [
    "#prepare the scatter points:\n",
    "x=scatter_df[grade].astype(float)\n",
    "y=scatter_df[salary].astype(float)\n",
    "plt.scatter(x,y)\n",
    "plt.title(\"Salary By Average Grade\")\n",
    "plt.xlabel(\"Average grade\")\n",
    "plt.ylabel(\"Salary\")\n",
    "plt.show()"
   ]
  },
  {
   "cell_type": "code",
   "execution_count": 10,
   "metadata": {},
   "outputs": [],
   "source": [
    "#from scipy.stats import pearsonr\n",
    "#\n",
    "#pearsonr(scatter_df[grade].astype(float), scatter_df[salary].astype(float))"
   ]
  },
  {
   "cell_type": "code",
   "execution_count": 11,
   "metadata": {},
   "outputs": [
    {
     "name": "stdout",
     "output_type": "stream",
     "text": [
      "{'Intel': 81, 'Microsoft': 20, 'Amazon': 22, 'Google': 2, 'Facebook': 4, 'Apple': 12, 'IBM': 11, 'Rafael': 40, 'Elbit': 15, 'Plus500': 2, 'Nvidia': 13, 'Mobileye': 9}\n"
     ]
    }
   ],
   "source": [
    "#calculate num of exmples from each company:\n",
    "temp_df=df\n",
    "num_of_examples={}\n",
    "companies_names=['Intel','Microsoft','Amazon','Google','Facebook','Apple','IBM','Rafael','Elbit','Plus500','Nvidia','Mobileye']\n",
    "for company_name in companies_names:\n",
    "        num_of_examples[company_name]=len(temp_df[temp_df[company]==company_name])\n",
    "print(num_of_examples)\n"
   ]
  },
  {
   "cell_type": "code",
   "execution_count": 12,
   "metadata": {},
   "outputs": [],
   "source": [
    "#get the calculate companies average:\n",
    "\n",
    "from cmath import nan\n",
    "\n",
    "\n",
    "companies_dict={}\n",
    "companies_names=['Intel','Microsoft','Amazon','Apple','IBM','Rafael','Elbit','Nvidia','Mobileye']\n",
    "\n",
    "for company_name in companies_names:\n",
    "    companies_dict[company_name]=df[df[company]==company_name]"
   ]
  },
  {
   "cell_type": "code",
   "execution_count": 13,
   "metadata": {},
   "outputs": [],
   "source": [
    "\n",
    "sorted_salaries_companies=create_sorted_average_dict(companies_dict,salary)\n"
   ]
  },
  {
   "cell_type": "code",
   "execution_count": 14,
   "metadata": {},
   "outputs": [],
   "source": [
    "# bar plot - not neeeded:\n",
    "\n",
    "#fig=plt.figure(figsize=(15,5))\n",
    "#plt.bar(sorted_salaries_companies.keys(), sorted_salaries_companies.values(), color ='maroon',\n",
    "#        width = 0.4)\n",
    "# \n",
    "#plt.xlabel(\"Companies\")\n",
    "#plt.ylabel(\"Average Salary\")\n",
    "#plt.title(\"Companies average Salaries\")\n",
    "#plt.show()\n"
   ]
  },
  {
   "cell_type": "code",
   "execution_count": 15,
   "metadata": {},
   "outputs": [
    {
     "data": {
      "image/png": "[encoded data removed]",
      "text/plain": [
       "<Figure size 540x252 with 1 Axes>"
      ]
     },
     "metadata": {
      "needs_background": "light"
     },
     "output_type": "display_data"
    }
   ],
   "source": [
    "# box plot by company:\n",
    "\n",
    "import matplotlib.pyplot as plt\n",
    "\n",
    "for current_company in companies_dict:\n",
    "    current_df=companies_dict[current_company]\n",
    "    companies_dict[current_company]=(current_df[salary]).astype(float)\n",
    "\n",
    "# Set the figure size\n",
    "plt.rcParams[\"figure.figsize\"] = [7.50, 3.50]\n",
    "plt.rcParams[\"figure.autolayout\"] = True\n",
    "\n",
    "# Pandas dataframe\n",
    "combined_dfs=pd.DataFrame(companies_dict)\n",
    "# Plot the dataframe\n",
    "ax = combined_dfs.plot(kind='box',grid=True,showmeans=True,title='Salary By Company')\n",
    "\n",
    "# Display the plot\n",
    "plt.show()"
   ]
  },
  {
   "cell_type": "code",
   "execution_count": 16,
   "metadata": {},
   "outputs": [],
   "source": [
    "ice_cream_df_dict={}\n",
    "ice_ceam_names=['בייגלה מלוח - קרמל','פיסטוק','וניל עוגיות','בצק עוגיות','שוקולד בראוניס']\n",
    "\n",
    "for ice_cream_name in ice_ceam_names:\n",
    "    ice_cream_df_dict[ice_cream_name]=df[df[ice_cream]==ice_cream_name]    "
   ]
  },
  {
   "cell_type": "code",
   "execution_count": 17,
   "metadata": {},
   "outputs": [
    {
     "data": {
      "image/png": "[encoded data removed]",
      "text/plain": [
       "<Figure size 540x252 with 1 Axes>"
      ]
     },
     "metadata": {
      "needs_background": "light"
     },
     "output_type": "display_data"
    }
   ],
   "source": [
    "import matplotlib.pyplot as plt\n",
    "\n",
    "\n",
    "for flavor in ice_cream_df_dict:\n",
    "    c_df=ice_cream_df_dict[flavor]\n",
    "    ice_cream_df_dict[flavor]=(c_df[salary]).astype(float)\n",
    "\n",
    "# Set the figure size\n",
    "plt.rcParams[\"figure.figsize\"] = [7.50, 3.50]\n",
    "plt.rcParams[\"figure.autolayout\"] = True\n",
    "\n",
    "# Pandas dataframe\n",
    "combined_dfs=pd.DataFrame(ice_cream_df_dict)\n",
    "# Plot the dataframe\n",
    "ax = combined_dfs.plot(kind='box',grid=True, showmeans=True,title='Salary By Favorite Ice Cream Flavor')\n",
    "\n",
    "# Display the plot\n",
    "plt.show()"
   ]
  },
  {
   "cell_type": "code",
   "execution_count": 18,
   "metadata": {},
   "outputs": [],
   "source": [
    "#sorted_salaries_companies=create_sorted_average_dict(ice_cream_df_dict,salary)\n"
   ]
  },
  {
   "cell_type": "code",
   "execution_count": 19,
   "metadata": {},
   "outputs": [
    {
     "name": "stdout",
     "output_type": "stream",
     "text": [
      "{'Rafael 71.28': 71.275, 'Intel 88.76': 88.76172839506172, 'Elbit 91.47': 91.46666666666667, 'IBM 105.91': 105.9090909090909, 'Amazon 106.0': 106.0, 'Apple 107.5': 107.5, 'Mobileye 107.78': 107.77777777777777, 'Nvidia 110.0': 110.0, 'Microsoft 111.0': 111.0}\n"
     ]
    }
   ],
   "source": [
    "print(sorted_salaries_companies)"
   ]
  },
  {
   "cell_type": "code",
   "execution_count": 20,
   "metadata": {},
   "outputs": [],
   "source": [
    "mtm='מת\"מ'\n",
    "mivni='מבני נתונים'\n",
    "operation_s='הפעלה'\n",
    "algo='אלגו'\n",
    "\n",
    "df_by_courses={}\n",
    "courses_names=[mtm,mivni,operation_s,algo]\n",
    "\n",
    "for course in courses_names:\n",
    "    df_by_courses[course] = df.loc[df[courses].str.contains(course,na=False)]"
   ]
  },
  {
   "cell_type": "code",
   "execution_count": null,
   "metadata": {},
   "outputs": [],
   "source": [
    "\n"
   ]
  },
  {
   "cell_type": "code",
   "execution_count": 21,
   "metadata": {},
   "outputs": [
    {
     "data": {
      "image/png": "[encoded data removed]",
      "text/plain": [
       "<Figure size 540x252 with 1 Axes>"
      ]
     },
     "metadata": {
      "needs_background": "light"
     },
     "output_type": "display_data"
    }
   ],
   "source": [
    "courses_average_dict = create_sorted_average_dict(dict=df_by_courses,field= salary)\n",
    "\n",
    "courses_dict={}\n",
    "\n",
    "for course in courses_names:\n",
    "    courses_dict[course]=(df.loc[df[courses].str.contains(course,na=False)][salary]).astype(float)\n",
    "\n",
    "# Set the figure size\n",
    "plt.rcParams[\"figure.figsize\"] = [7.50, 3.50]\n",
    "plt.rcParams[\"figure.autolayout\"] = True\n",
    "\n",
    "# Pandas dataframe\n",
    "#combined_dfs = pd.DataFrame({\"Intel\": companies_dict[\"Intel\"].astype(float), \"Mobilay\": companies_dict[\"Mobileye\"].astype(float)})\n",
    "combined_dfs=pd.DataFrame(courses_dict)\n",
    "# Plot the dataframe\n",
    "ax = combined_dfs.plot(kind='box',grid=True, showmeans=True,title='Salary By Courses')\n",
    "\n",
    "# Display the plot\n",
    "plt.show()"
   ]
  },
  {
   "cell_type": "code",
   "execution_count": 22,
   "metadata": {},
   "outputs": [
    {
     "name": "stdout",
     "output_type": "stream",
     "text": [
      "{'מת\"מ 94.75': 94.74698795180723, 'אלגו 95.48': 95.47897727272726, 'מבני נתונים 95.5': 95.49668874172185, 'הפעלה 96.0': 96.00176470588235}\n"
     ]
    }
   ],
   "source": [
    "courses_average_dict = create_sorted_average_dict(dict=df_by_courses,field= salary)\n",
    "print(courses_average_dict)\n"
   ]
  },
  {
   "cell_type": "code",
   "execution_count": 23,
   "metadata": {},
   "outputs": [],
   "source": [
    "#no_exp='ללא ניסיון כלל'\n",
    "#no_exp_df=df[df[exp]==no_exp]\n",
    "#\n",
    "#no_exp_courses_dict={}\n",
    "#\n",
    "#for key in df_by_courses:\n",
    "#    current_course_df=df_by_courses[key]\n",
    "#    no_exp_courses_dict[key] = current_course_df[current_course_df[exp]==no_exp]\n",
    "#\n",
    "#\n",
    "#courses_noexp_average_dict = create_sorted_average_dict(dict=no_exp_courses_dict,field= salary)\n",
    "#print(courses_noexp_average_dict)\n",
    "#\n",
    "#for course in courses_names:\n",
    "#    courses_dict[course]=(no_exp_df.loc[no_exp_df[courses].str.contains(course,na=False)][salary]).astype(float)\n",
    "#\n",
    "## Set the figure size\n",
    "#plt.rcParams[\"figure.figsize\"] = [7.50, 3.50]\n",
    "#plt.rcParams[\"figure.autolayout\"] = True\n",
    "#\n",
    "## Pandas dataframe\n",
    "##combined_dfs = pd.DataFrame({\"Intel\": companies_dict[\"Intel\"].astype(float), \"Mobilay\": companies_dict[\"Mobileye\"].astype(float)})\n",
    "#combined_dfs=pd.DataFrame(courses_dict)\n",
    "## Plot the dataframe\n",
    "#ax = combined_dfs.plot(kind='box',grid=True, showmeans=True,title='Salary By Courses (only people without experience)')\n",
    "#\n",
    "## Display the plot\n",
    "#plt.show()"
   ]
  },
  {
   "cell_type": "code",
   "execution_count": 24,
   "metadata": {},
   "outputs": [
    {
     "name": "stdout",
     "output_type": "stream",
     "text": [
      "{'מת\"מ 93.96': 93.95977443609023, 'מבני נתונים 94.82': 94.81902834008096, 'אלגו 95.57': 95.57152777777777, 'הפעלה 95.99': 95.98768115942029}\n"
     ]
    },
    {
     "data": {
      "image/png": "[encoded data removed]",
      "text/plain": [
       "<Figure size 540x252 with 1 Axes>"
      ]
     },
     "metadata": {
      "needs_background": "light"
     },
     "output_type": "display_data"
    }
   ],
   "source": [
    "no_exp='ללא ניסיון כלל'\n",
    "no_exp_df=df[df[exp]==no_exp]\n",
    "\n",
    "no_exp_courses_dict={}\n",
    "\n",
    "for key in df_by_courses:\n",
    "    current_course_df=df_by_courses[key]\n",
    "    no_exp_courses_dict[key] = current_course_df[current_course_df[exp]==no_exp]\n",
    "\n",
    "\n",
    "courses_noexp_average_dict = create_sorted_average_dict(dict=no_exp_courses_dict,field= salary)\n",
    "print(courses_noexp_average_dict)\n",
    "\n",
    "for course in courses_names:\n",
    "    courses_dict[course]=(no_exp_df.loc[no_exp_df[courses].str.contains(course,na=False)][salary]).astype(float)\n",
    "\n",
    "# Set the figure size\n",
    "plt.rcParams[\"figure.figsize\"] = [7.50, 3.50]\n",
    "plt.rcParams[\"figure.autolayout\"] = True\n",
    "\n",
    "# Pandas dataframe\n",
    "#combined_dfs = pd.DataFrame({\"Intel\": companies_dict[\"Intel\"].astype(float), \"Mobilay\": companies_dict[\"Mobileye\"].astype(float)})\n",
    "combined_dfs=pd.DataFrame(courses_dict)\n",
    "# Plot the dataframe\n",
    "ax = combined_dfs.plot(kind='box',grid=True, showmeans=True,title='Salary By Courses (only people without experience)')\n",
    "\n",
    "# Display the plot\n",
    "plt.show()"
   ]
  },
  {
   "cell_type": "code",
   "execution_count": 25,
   "metadata": {},
   "outputs": [],
   "source": [
    "def checkBySemster(semester_num):\n",
    "    #sem5 no exp\n",
    "    semster=semester_num\n",
    "    sem_df=no_exp_df[no_exp_df[sem]==semster]\n",
    "\n",
    "    sem5_courses_dict={}\n",
    "\n",
    "    for key in df_by_courses:\n",
    "        current_course_df=df_by_courses[key]\n",
    "        sem5_courses_dict[key] = current_course_df[current_course_df[exp]==semster]\n",
    "\n",
    "\n",
    "    sem_average_dict = create_sorted_average_dict(dict=sem5_courses_dict,field= salary)\n",
    "    print(sem_average_dict)\n",
    "\n",
    "    for course in courses_names:\n",
    "        courses_dict[course]=(sem_df.loc[sem_df[courses].str.contains(course,na=False)][salary]).astype(float)\n",
    "\n",
    "    # Set the figure size\n",
    "    plt.rcParams[\"figure.figsize\"] = [7.50, 3.50]\n",
    "    plt.rcParams[\"figure.autolayout\"] = True\n",
    "\n",
    "    # Pandas dataframe\n",
    "    #combined_dfs = pd.DataFrame({\"Intel\": companies_dict[\"Intel\"].astype(float), \"Mobilay\": companies_dict[\"Mobileye\"].astype(float)})\n",
    "    combined_dfs=pd.DataFrame(courses_dict)\n",
    "    # Plot the dataframe\n",
    "    ax = combined_dfs.plot(kind='box',grid=True, showmeans=True,title='Salary By Courses (only people from semster '+str(semester_num)+' )')\n",
    "\n",
    "    # Display the plot\n",
    "    plt.show()"
   ]
  },
  {
   "cell_type": "code",
   "execution_count": 26,
   "metadata": {},
   "outputs": [
    {
     "name": "stdout",
     "output_type": "stream",
     "text": [
      "{'מת\"מ nan': nan, 'מבני נתונים nan': nan, 'הפעלה nan': nan, 'אלגו nan': nan}\n"
     ]
    },
    {
     "name": "stderr",
     "output_type": "stream",
     "text": [
      "/home/itay/miniconda3/envs/ml/lib/python3.7/site-packages/ipykernel_launcher.py:8: RuntimeWarning: invalid value encountered in double_scalars\n",
      "  \n"
     ]
    },
    {
     "data": {
      "image/png": "[encoded data removed]",
      "text/plain": [
       "<Figure size 540x252 with 1 Axes>"
      ]
     },
     "metadata": {
      "needs_background": "light"
     },
     "output_type": "display_data"
    }
   ],
   "source": [
    "#sem5 no exp\n",
    "checkBySemster(3)"
   ]
  },
  {
   "cell_type": "code",
   "execution_count": 27,
   "metadata": {},
   "outputs": [
    {
     "name": "stderr",
     "output_type": "stream",
     "text": [
      "/home/itay/miniconda3/envs/ml/lib/python3.7/site-packages/ipykernel_launcher.py:8: RuntimeWarning: invalid value encountered in double_scalars\n",
      "  \n"
     ]
    },
    {
     "name": "stdout",
     "output_type": "stream",
     "text": [
      "{'מת\"מ nan': nan, 'מבני נתונים nan': nan, 'הפעלה nan': nan, 'אלגו nan': nan}\n"
     ]
    },
    {
     "data": {
      "image/png": "[encoded data removed]",
      "text/plain": [
       "<Figure size 540x252 with 1 Axes>"
      ]
     },
     "metadata": {
      "needs_background": "light"
     },
     "output_type": "display_data"
    }
   ],
   "source": [
    "checkBySemster(4)"
   ]
  },
  {
   "cell_type": "code",
   "execution_count": 28,
   "metadata": {},
   "outputs": [
    {
     "name": "stderr",
     "output_type": "stream",
     "text": [
      "/home/itay/miniconda3/envs/ml/lib/python3.7/site-packages/ipykernel_launcher.py:8: RuntimeWarning: invalid value encountered in double_scalars\n",
      "  \n"
     ]
    },
    {
     "name": "stdout",
     "output_type": "stream",
     "text": [
      "{'מת\"מ nan': nan, 'מבני נתונים nan': nan, 'הפעלה nan': nan, 'אלגו nan': nan}\n"
     ]
    },
    {
     "data": {
      "image/png": "[encoded data removed]",
      "text/plain": [
       "<Figure size 540x252 with 1 Axes>"
      ]
     },
     "metadata": {
      "needs_background": "light"
     },
     "output_type": "display_data"
    }
   ],
   "source": [
    "checkBySemster(5)"
   ]
  },
  {
   "cell_type": "code",
   "execution_count": 29,
   "metadata": {},
   "outputs": [
    {
     "name": "stderr",
     "output_type": "stream",
     "text": [
      "/home/itay/miniconda3/envs/ml/lib/python3.7/site-packages/ipykernel_launcher.py:8: RuntimeWarning: invalid value encountered in double_scalars\n",
      "  \n"
     ]
    },
    {
     "name": "stdout",
     "output_type": "stream",
     "text": [
      "{'מת\"מ nan': nan, 'מבני נתונים nan': nan, 'הפעלה nan': nan, 'אלגו nan': nan}\n"
     ]
    },
    {
     "data": {
      "image/png": "[encoded data removed]",
      "text/plain": [
       "<Figure size 540x252 with 1 Axes>"
      ]
     },
     "metadata": {
      "needs_background": "light"
     },
     "output_type": "display_data"
    }
   ],
   "source": [
    "checkBySemster(6)"
   ]
  },
  {
   "cell_type": "code",
   "execution_count": null,
   "metadata": {},
   "outputs": [],
   "source": []
  },
  {
   "cell_type": "code",
   "execution_count": 30,
   "metadata": {},
   "outputs": [
    {
     "data": {
      "image/png": "[encoded data removed]",
      "text/plain": [
       "<Figure size 540x252 with 1 Axes>"
      ]
     },
     "metadata": {
      "needs_background": "light"
     },
     "output_type": "display_data"
    }
   ],
   "source": [
    "dict_df_years={}\n",
    "years=[2019,2020,2021,2022]\n",
    "\n",
    "for c_year in years:\n",
    "        dict_df_years[c_year]=(df[df[year]==c_year][salary]).astype(float)\n",
    "\n",
    "# Set the figure size\n",
    "plt.rcParams[\"figure.figsize\"] = [7.50, 3.50]\n",
    "plt.rcParams[\"figure.autolayout\"] = True\n",
    "\n",
    "# Pandas dataframe\n",
    "#combined_dfs = pd.DataFrame({\"Intel\": companies_dict[\"Intel\"].astype(float), \"Mobilay\": companies_dict[\"Mobileye\"].astype(float)})\n",
    "combined_dfs=pd.DataFrame(dict_df_years)\n",
    "# Plot the dataframe\n",
    "ax = combined_dfs.plot(kind='box', showmeans=True,grid=True,title='Salary By Year')\n",
    "\n",
    "# Display the plot\n",
    "plt.show()"
   ]
  },
  {
   "cell_type": "code",
   "execution_count": 46,
   "metadata": {},
   "outputs": [
    {
     "name": "stdout",
     "output_type": "stream",
     "text": [
      "len of 2019 is 26 and mean is 91.95384615384616\n",
      "len of 2020 is 49 and mean is 87.13673469387754\n",
      "len of 2021 is 105 and mean is 91.72380952380952\n",
      "len of 2022 is 167 and mean is 98.54790419161677\n"
     ]
    }
   ],
   "source": [
    "for c_year in years:\n",
    "    print(f\"len of {c_year} is {len(dict_df_years[c_year])} and mean is {dict_df_years[c_year].mean()}\")"
   ]
  },
  {
   "cell_type": "code",
   "execution_count": 49,
   "metadata": {},
   "outputs": [
    {
     "name": "stdout",
     "output_type": "stream",
     "text": [
      "ttest values for 2019 and 2020 is fTtest_indResult(statistic=1.0120426873694528, pvalue=0.31486038142974354)\n",
      "ttest values for 2019 and 2021 is fTtest_indResult(statistic=0.05463576456054496, pvalue=0.9565131707939825)\n",
      "ttest values for 2019 and 2022 is fTtest_indResult(statistic=-1.5411941391852693, pvalue=0.1249246572471263)\n",
      "ttest values for 2020 and 2021 is fTtest_indResult(statistic=-1.616972730639913, pvalue=0.10795764815582604)\n",
      "ttest values for 2020 and 2022 is fTtest_indResult(statistic=-3.832557868245613, pvalue=0.0001667127262516421)\n",
      "ttest values for 2021 and 2022 is fTtest_indResult(statistic=-2.9774278323806014, pvalue=0.0031706785629390705)\n"
     ]
    }
   ],
   "source": [
    "create_ttest_for_pairs(dict_df_years,years)"
   ]
  },
  {
   "cell_type": "code",
   "execution_count": 45,
   "metadata": {},
   "outputs": [
    {
     "name": "stdout",
     "output_type": "stream",
     "text": [
      "The average salary in 2022 is 98.54790419161677, and N of 2022 is : 167\n",
      "The average salary in 2022 without prior exp is 98.63953488372093, and N of 2022 is : 129\n"
     ]
    }
   ],
   "source": [
    "#General info for the doc:\n",
    "\n",
    "print(f\"The average salary in 2022 is {dict_df_years[2022].mean()}, and N of 2022 is : {len(dict_df_years[2022])}\")\n",
    "df22=df[df[year]==2022]\n",
    "df2022_n_prior_exp=df22[df22[exp]==no_exp]\n",
    "print(f\"The average salary in 2022 without prior exp is {df2022_n_prior_exp[salary].mean()}, and N of 2022 is : {len(df2022_n_prior_exp)}\")"
   ]
  },
  {
   "cell_type": "code",
   "execution_count": 44,
   "metadata": {},
   "outputs": [
    {
     "data": {
      "text/html": [
       "<div>\n",
       "<style scoped>\n",
       "    .dataframe tbody tr th:only-of-type {\n",
       "        vertical-align: middle;\n",
       "    }\n",
       "\n",
       "    .dataframe tbody tr th {\n",
       "        vertical-align: top;\n",
       "    }\n",
       "\n",
       "    .dataframe thead th {\n",
       "        text-align: right;\n",
       "    }\n",
       "</style>\n",
       "<table border=\"1\" class=\"dataframe\">\n",
       "  <thead>\n",
       "    <tr style=\"text-align: right;\">\n",
       "      <th></th>\n",
       "      <th>Timestamp</th>\n",
       "      <th>מסלול לימודים</th>\n",
       "      <th>באיזה סמסטר היית כשקיבלת את ההצעה?</th>\n",
       "      <th>ממוצע (נכון לתקופת חיפוש העבודה)</th>\n",
       "      <th>האם ביקשו גיליון ציונים?</th>\n",
       "      <th>קורסי מפתח שעשית לפני הצעת העבודה</th>\n",
       "      <th>האם היה לך ניסיון לפני קבלת המשרה?</th>\n",
       "      <th>שכר שעתי במשרת הסטודנט הראשונה (ש\"ח לשעה)</th>\n",
       "      <th>האם התמקחת אחרי קבלת ההצעה?</th>\n",
       "      <th>חברה (נא לכתוב באנגלית את שם החברה)</th>\n",
       "      <th>תחום המשרה</th>\n",
       "      <th>מין</th>\n",
       "      <th>טעם גלידה אהוב</th>\n",
       "      <th>שנת הצעת העבודה</th>\n",
       "    </tr>\n",
       "  </thead>\n",
       "  <tbody>\n",
       "    <tr>\n",
       "      <th>2</th>\n",
       "      <td>2022-08-16 16:52:11.865</td>\n",
       "      <td>מדמ\"ח</td>\n",
       "      <td>3.0</td>\n",
       "      <td>72.0</td>\n",
       "      <td>כן</td>\n",
       "      <td>מת\"מ, מבני נתונים</td>\n",
       "      <td>ללא ניסיון כלל</td>\n",
       "      <td>65.0</td>\n",
       "      <td>לא</td>\n",
       "      <td>Rafael</td>\n",
       "      <td>Software Development</td>\n",
       "      <td>זכר</td>\n",
       "      <td>בייגלה מלוח - קרמל</td>\n",
       "      <td>2022.0</td>\n",
       "    </tr>\n",
       "    <tr>\n",
       "      <th>9</th>\n",
       "      <td>2022-08-16 13:46:51.099</td>\n",
       "      <td>מדמ\"ח</td>\n",
       "      <td>6.0</td>\n",
       "      <td>74.0</td>\n",
       "      <td>לא</td>\n",
       "      <td>מת\"מ, מבני נתונים, הפעלה, אלגו</td>\n",
       "      <td>ללא ניסיון כלל</td>\n",
       "      <td>70.0</td>\n",
       "      <td>כן</td>\n",
       "      <td>Devlion</td>\n",
       "      <td>Software Development</td>\n",
       "      <td>זכר</td>\n",
       "      <td>פיסטוק</td>\n",
       "      <td>2022.0</td>\n",
       "    </tr>\n",
       "    <tr>\n",
       "      <th>11</th>\n",
       "      <td>2022-08-16 13:56:27.861</td>\n",
       "      <td>מדמ\"ח</td>\n",
       "      <td>4.0</td>\n",
       "      <td>74.0</td>\n",
       "      <td>כן</td>\n",
       "      <td>מת\"מ, מבני נתונים</td>\n",
       "      <td>ללא ניסיון כלל</td>\n",
       "      <td>88.0</td>\n",
       "      <td>כן</td>\n",
       "      <td>Elbit</td>\n",
       "      <td>Software Development</td>\n",
       "      <td>זכר</td>\n",
       "      <td>וניל עוגיות</td>\n",
       "      <td>2022.0</td>\n",
       "    </tr>\n",
       "    <tr>\n",
       "      <th>14</th>\n",
       "      <td>2022-08-16 12:41:55.154</td>\n",
       "      <td>הנדסת מחשבים</td>\n",
       "      <td>6.0</td>\n",
       "      <td>75.0</td>\n",
       "      <td>לא</td>\n",
       "      <td>מת\"מ, מבני נתונים, הפעלה, אלגו, קורס בחירה הקש...</td>\n",
       "      <td>ללא ניסיון כלל</td>\n",
       "      <td>70.0</td>\n",
       "      <td>לא</td>\n",
       "      <td>NaN</td>\n",
       "      <td>Backend</td>\n",
       "      <td>NaN</td>\n",
       "      <td>פיסטוק</td>\n",
       "      <td>2022.0</td>\n",
       "    </tr>\n",
       "    <tr>\n",
       "      <th>18</th>\n",
       "      <td>2022-08-17 00:46:01.247</td>\n",
       "      <td>הנדסת מחשבים</td>\n",
       "      <td>6.0</td>\n",
       "      <td>75.0</td>\n",
       "      <td>כן</td>\n",
       "      <td>מת\"מ, מבני נתונים, הפעלה, אלגו</td>\n",
       "      <td>ללא ניסיון כלל</td>\n",
       "      <td>85.0</td>\n",
       "      <td>לא</td>\n",
       "      <td>Intel</td>\n",
       "      <td>Software Development</td>\n",
       "      <td>זכר</td>\n",
       "      <td>בייגלה מלוח - קרמל</td>\n",
       "      <td>2022.0</td>\n",
       "    </tr>\n",
       "    <tr>\n",
       "      <th>...</th>\n",
       "      <td>...</td>\n",
       "      <td>...</td>\n",
       "      <td>...</td>\n",
       "      <td>...</td>\n",
       "      <td>...</td>\n",
       "      <td>...</td>\n",
       "      <td>...</td>\n",
       "      <td>...</td>\n",
       "      <td>...</td>\n",
       "      <td>...</td>\n",
       "      <td>...</td>\n",
       "      <td>...</td>\n",
       "      <td>...</td>\n",
       "      <td>...</td>\n",
       "    </tr>\n",
       "    <tr>\n",
       "      <th>331</th>\n",
       "      <td>2022-08-16 23:47:38.101</td>\n",
       "      <td>מדמ\"ח</td>\n",
       "      <td>4.0</td>\n",
       "      <td>95.0</td>\n",
       "      <td>כן</td>\n",
       "      <td>מת\"מ</td>\n",
       "      <td>ללא ניסיון כלל</td>\n",
       "      <td>140.0</td>\n",
       "      <td>לא</td>\n",
       "      <td>Small Start Up</td>\n",
       "      <td>Software Development</td>\n",
       "      <td>זכר</td>\n",
       "      <td>פיסטוק</td>\n",
       "      <td>2022.0</td>\n",
       "    </tr>\n",
       "    <tr>\n",
       "      <th>336</th>\n",
       "      <td>2022-08-16 17:28:55.389</td>\n",
       "      <td>מדמ\"ח - מתמטיקה</td>\n",
       "      <td>4.0</td>\n",
       "      <td>96.0</td>\n",
       "      <td>כן</td>\n",
       "      <td>מבני נתונים, אלגו</td>\n",
       "      <td>ללא ניסיון כלל</td>\n",
       "      <td>100.0</td>\n",
       "      <td>לא</td>\n",
       "      <td>StarkWare</td>\n",
       "      <td>Software Development</td>\n",
       "      <td>זכר</td>\n",
       "      <td>פיסטוק</td>\n",
       "      <td>2022.0</td>\n",
       "    </tr>\n",
       "    <tr>\n",
       "      <th>340</th>\n",
       "      <td>2022-08-17 00:54:42.117</td>\n",
       "      <td>מדמ\"ח</td>\n",
       "      <td>3.0</td>\n",
       "      <td>98.5</td>\n",
       "      <td>כן</td>\n",
       "      <td>מת\"מ</td>\n",
       "      <td>ללא ניסיון כלל</td>\n",
       "      <td>110.0</td>\n",
       "      <td>לא</td>\n",
       "      <td>NaN</td>\n",
       "      <td>NaN</td>\n",
       "      <td>זכר</td>\n",
       "      <td>בייגלה מלוח - קרמל</td>\n",
       "      <td>2022.0</td>\n",
       "    </tr>\n",
       "    <tr>\n",
       "      <th>344</th>\n",
       "      <td>2022-08-16 14:05:53.886</td>\n",
       "      <td>מדמ\"ח</td>\n",
       "      <td>6.0</td>\n",
       "      <td>NaN</td>\n",
       "      <td>כן</td>\n",
       "      <td>מת\"מ, מבני נתונים, הפעלה, אלגו</td>\n",
       "      <td>ללא ניסיון כלל</td>\n",
       "      <td>95.0</td>\n",
       "      <td>לא</td>\n",
       "      <td>NaN</td>\n",
       "      <td>Software Development</td>\n",
       "      <td>זכר</td>\n",
       "      <td>בייגלה מלוח - קרמל</td>\n",
       "      <td>2022.0</td>\n",
       "    </tr>\n",
       "    <tr>\n",
       "      <th>345</th>\n",
       "      <td>2022-08-16 13:47:38.872</td>\n",
       "      <td>מדמ\"ח</td>\n",
       "      <td>6.0</td>\n",
       "      <td>NaN</td>\n",
       "      <td>כן</td>\n",
       "      <td>מת\"מ, מבני נתונים, הפעלה, אלגו</td>\n",
       "      <td>ללא ניסיון כלל</td>\n",
       "      <td>100.0</td>\n",
       "      <td>כן</td>\n",
       "      <td>Microsoft</td>\n",
       "      <td>Full Stack</td>\n",
       "      <td>זכר</td>\n",
       "      <td>וניל עוגיות</td>\n",
       "      <td>2022.0</td>\n",
       "    </tr>\n",
       "  </tbody>\n",
       "</table>\n",
       "<p>129 rows × 14 columns</p>\n",
       "</div>"
      ],
      "text/plain": [
       "                  Timestamp    מסלול לימודים  \\\n",
       "2   2022-08-16 16:52:11.865            מדמ\"ח   \n",
       "9   2022-08-16 13:46:51.099            מדמ\"ח   \n",
       "11  2022-08-16 13:56:27.861            מדמ\"ח   \n",
       "14  2022-08-16 12:41:55.154     הנדסת מחשבים   \n",
       "18  2022-08-17 00:46:01.247     הנדסת מחשבים   \n",
       "..                      ...              ...   \n",
       "331 2022-08-16 23:47:38.101            מדמ\"ח   \n",
       "336 2022-08-16 17:28:55.389  מדמ\"ח - מתמטיקה   \n",
       "340 2022-08-17 00:54:42.117            מדמ\"ח   \n",
       "344 2022-08-16 14:05:53.886            מדמ\"ח   \n",
       "345 2022-08-16 13:47:38.872            מדמ\"ח   \n",
       "\n",
       "     באיזה סמסטר היית כשקיבלת את ההצעה?  ממוצע (נכון לתקופת חיפוש העבודה)  \\\n",
       "2                                   3.0                              72.0   \n",
       "9                                   6.0                              74.0   \n",
       "11                                  4.0                              74.0   \n",
       "14                                  6.0                              75.0   \n",
       "18                                  6.0                              75.0   \n",
       "..                                  ...                               ...   \n",
       "331                                 4.0                              95.0   \n",
       "336                                 4.0                              96.0   \n",
       "340                                 3.0                              98.5   \n",
       "344                                 6.0                               NaN   \n",
       "345                                 6.0                               NaN   \n",
       "\n",
       "    האם ביקשו גיליון ציונים?  \\\n",
       "2                         כן   \n",
       "9                         לא   \n",
       "11                        כן   \n",
       "14                        לא   \n",
       "18                        כן   \n",
       "..                       ...   \n",
       "331                       כן   \n",
       "336                       כן   \n",
       "340                       כן   \n",
       "344                       כן   \n",
       "345                       כן   \n",
       "\n",
       "                     קורסי מפתח שעשית לפני הצעת העבודה  \\\n",
       "2                                    מת\"מ, מבני נתונים   \n",
       "9                       מת\"מ, מבני נתונים, הפעלה, אלגו   \n",
       "11                                   מת\"מ, מבני נתונים   \n",
       "14   מת\"מ, מבני נתונים, הפעלה, אלגו, קורס בחירה הקש...   \n",
       "18                      מת\"מ, מבני נתונים, הפעלה, אלגו   \n",
       "..                                                 ...   \n",
       "331                                               מת\"מ   \n",
       "336                                  מבני נתונים, אלגו   \n",
       "340                                               מת\"מ   \n",
       "344                     מת\"מ, מבני נתונים, הפעלה, אלגו   \n",
       "345                     מת\"מ, מבני נתונים, הפעלה, אלגו   \n",
       "\n",
       "    האם היה לך ניסיון לפני קבלת המשרה?  \\\n",
       "2                       ללא ניסיון כלל   \n",
       "9                       ללא ניסיון כלל   \n",
       "11                      ללא ניסיון כלל   \n",
       "14                      ללא ניסיון כלל   \n",
       "18                      ללא ניסיון כלל   \n",
       "..                                 ...   \n",
       "331                     ללא ניסיון כלל   \n",
       "336                     ללא ניסיון כלל   \n",
       "340                     ללא ניסיון כלל   \n",
       "344                     ללא ניסיון כלל   \n",
       "345                     ללא ניסיון כלל   \n",
       "\n",
       "     שכר שעתי במשרת הסטודנט הראשונה (ש\"ח לשעה) האם התמקחת אחרי קבלת ההצעה?  \\\n",
       "2                                         65.0                          לא   \n",
       "9                                         70.0                          כן   \n",
       "11                                        88.0                          כן   \n",
       "14                                        70.0                          לא   \n",
       "18                                        85.0                          לא   \n",
       "..                                         ...                         ...   \n",
       "331                                      140.0                          לא   \n",
       "336                                      100.0                          לא   \n",
       "340                                      110.0                          לא   \n",
       "344                                       95.0                          לא   \n",
       "345                                      100.0                          כן   \n",
       "\n",
       "    חברה (נא לכתוב באנגלית את שם החברה)            תחום המשרה  מין  \\\n",
       "2                                Rafael  Software Development  זכר   \n",
       "9                               Devlion  Software Development  זכר   \n",
       "11                                Elbit  Software Development  זכר   \n",
       "14                                  NaN               Backend  NaN   \n",
       "18                                Intel  Software Development  זכר   \n",
       "..                                  ...                   ...  ...   \n",
       "331                      Small Start Up  Software Development  זכר   \n",
       "336                           StarkWare  Software Development  זכר   \n",
       "340                                 NaN                   NaN  זכר   \n",
       "344                                 NaN  Software Development  זכר   \n",
       "345                           Microsoft            Full Stack  זכר   \n",
       "\n",
       "         טעם גלידה אהוב  שנת הצעת העבודה  \n",
       "2    בייגלה מלוח - קרמל           2022.0  \n",
       "9                פיסטוק           2022.0  \n",
       "11          וניל עוגיות           2022.0  \n",
       "14               פיסטוק           2022.0  \n",
       "18   בייגלה מלוח - קרמל           2022.0  \n",
       "..                  ...              ...  \n",
       "331              פיסטוק           2022.0  \n",
       "336              פיסטוק           2022.0  \n",
       "340  בייגלה מלוח - קרמל           2022.0  \n",
       "344  בייגלה מלוח - קרמל           2022.0  \n",
       "345         וניל עוגיות           2022.0  \n",
       "\n",
       "[129 rows x 14 columns]"
      ]
     },
     "execution_count": 44,
     "metadata": {},
     "output_type": "execute_result"
    }
   ],
   "source": []
  },
  {
   "cell_type": "code",
   "execution_count": null,
   "metadata": {},
   "outputs": [],
   "source": []
  }
 ],
 "metadata": {
  "kernelspec": {
   "display_name": "Python 3.7.13 ('ml')",
   "language": "python",
   "name": "python3"
  },
  "language_info": {
   "codemirror_mode": {
    "name": "ipython",
    "version": 3
   },
   "file_extension": ".py",
   "mimetype": "text/x-python",
   "name": "python",
   "nbconvert_exporter": "python",
   "pygments_lexer": "ipython3",
   "version": "3.7.13"
  },
  "orig_nbformat": 4,
  "vscode": {
   "interpreter": {
    "hash": "d406985a3116061fb1a038b1a39c04dacc79322f4d6b686ec924c4b564262bd8"
   }
  }
 },
 "nbformat": 4,
 "nbformat_minor": 2
}
