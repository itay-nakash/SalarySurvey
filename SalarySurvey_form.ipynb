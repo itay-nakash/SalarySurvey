{
 "cells": [
  {
   "cell_type": "code",
   "execution_count": 8,
   "metadata": {},
   "outputs": [],
   "source": [
    "import pandas as pd\n",
    "import numpy as np\n",
    "\n",
    "from numpy import average\n",
    "\n",
    "\n",
    "#import the csv to pandas\n",
    "file_path='/home/itay/salarySurvey/data/form_result.csv'\n",
    "df =pd.read_csv(file_path)\n",
    "\n"
   ]
  },
  {
   "cell_type": "code",
   "execution_count": 9,
   "metadata": {},
   "outputs": [],
   "source": [
    "# enter the coulmns names as varibels:\n",
    "\n",
    "salary='שכר שעתי במשרת הסטודנט הראשונה (ש\"ח לשעה)'\n",
    "grade='ממוצע (נכון לתקופת חיפוש העבודה)'\n",
    "bargin='האם התמקחת אחרי קבלת ההצעה?'\n",
    "gender='מין'\n",
    "company='חברה (נא לכתוב באנגלית את שם החברה)'\n",
    "\n"
   ]
  },
  {
   "cell_type": "code",
   "execution_count": 10,
   "metadata": {},
   "outputs": [],
   "source": [
    "#cleanup to the data, you should add your own cleanup to the data:\n",
    "df=df.drop(65)\n",
    "df=df.drop(82)\n",
    "df=df.drop(104)\n",
    "df=df.drop(117)\n",
    "\n",
    "df[df[salary].str.contains(\"50K\",na=False)]\n",
    "df=df.drop(102)\n",
    "\n",
    "df[df[salary]=='20']\n",
    "df=df.drop(148)\n",
    "\n",
    "df[df[grade].str.contains(\" תואר ראשון\",na=False)]\n",
    "df=df.drop(115)\n",
    "\n"
   ]
  },
  {
   "cell_type": "code",
   "execution_count": 11,
   "metadata": {},
   "outputs": [
    {
     "data": {
      "text/plain": [
       "96.12264150943396"
      ]
     },
     "execution_count": 11,
     "metadata": {},
     "output_type": "execute_result"
    }
   ],
   "source": [
    "av_df=df[salary].astype(float).sum()/len(df)\n",
    "av_df"
   ]
  },
  {
   "cell_type": "code",
   "execution_count": 31,
   "metadata": {},
   "outputs": [],
   "source": [
    "#calculate the average value of columnName column in df:\n",
    "def calculate_average(df,column_name):\n",
    "    num_of_rows=len(df)\n",
    "    sum_of_rows=df[column_name].astype(float).sum()\n",
    "    return sum_of_rows/num_of_rows # return the average value\n",
    "\n",
    "def calculate_precentage_of_binary_answer(df,column_name,binary_field_answer):\n",
    "    return len(df[df[column_name]==binary_field_answer])/ len(df)"
   ]
  },
  {
   "cell_type": "code",
   "execution_count": 37,
   "metadata": {},
   "outputs": [],
   "source": [
    "#calculate average salary and grades:\n",
    "\n",
    "male_df= df.loc[df[gender]=='זכר']\n",
    "female_df= df.loc[df['מין']=='נקבה']\n",
    "\n",
    "average_salary_male = calculate_average(male_df,salary)\n",
    "average_grade_male = calculate_average(male_df,grade)\n",
    "\n",
    "average_salary_female = calculate_average(female_df,salary)\n",
    "average_grade_female = calculate_average(female_df,grade)\n"
   ]
  },
  {
   "cell_type": "code",
   "execution_count": 38,
   "metadata": {},
   "outputs": [],
   "source": [
    "#bargin presentage:\n",
    "\n",
    "precents_of_male_bargin=calculate_precentage_of_binary_answer(male_df,bargin,'כן')\n",
    "precents_of_female_bargin=calculate_precentage_of_binary_answer(female_df,bargin,'כן')\n"
   ]
  },
  {
   "cell_type": "code",
   "execution_count": 41,
   "metadata": {},
   "outputs": [
    {
     "data": {
      "image/png": "[encoded data removed]",
      "text/plain": [
       "<Figure size 540x252 with 1 Axes>"
      ]
     },
     "metadata": {
      "needs_background": "light"
     },
     "output_type": "display_data"
    }
   ],
   "source": [
    "import matplotlib.pyplot as plt\n",
    "man_salarys=male_df[[salary]].astype(float)\n",
    "fman_salarys=female_df[[salary]].astype(float)\n",
    "\n",
    "# Set the figure size\n",
    "plt.rcParams[\"figure.figsize\"] = [7.50, 3.50]\n",
    "plt.rcParams[\"figure.autolayout\"] = True\n",
    "\n",
    "# Pandas dataframe\n",
    "combined_dfs = pd.DataFrame({\"Mens Salary\": male_df[salary].astype(float), \"Woamns salary\": female_df[salary].astype(float)})\n",
    "\n",
    "# Plot the dataframe\n",
    "ax = combined_dfs[['Mens Salary', 'Woamns salary']].plot(kind='box',grid=True,title='Salary compared by gender')\n",
    "\n",
    "# Display the plot\n",
    "plt.show()"
   ]
  },
  {
   "cell_type": "code",
   "execution_count": 49,
   "metadata": {},
   "outputs": [],
   "source": [
    "#scatter plot preperation:\n",
    "#Remove outliers for more comftarble scatterPoint graph:\n",
    "\n",
    "scatter_df=df\n",
    "scatter_df[scatter_df[salary]=='180']\n",
    "scatter_df=scatter_df.drop(146)"
   ]
  },
  {
   "cell_type": "code",
   "execution_count": 51,
   "metadata": {},
   "outputs": [
    {
     "ename": "ValueError",
     "evalue": "array must not contain infs or NaNs",
     "output_type": "error",
     "traceback": [
      "\u001b[0;31m---------------------------------------------------------------------------\u001b[0m",
      "\u001b[0;31mValueError\u001b[0m                                Traceback (most recent call last)",
      "\u001b[0;32m<ipython-input-51-30213c07fb66>\u001b[0m in \u001b[0;36m<module>\u001b[0;34m\u001b[0m\n\u001b[1;32m      6\u001b[0m \u001b[0;34m\u001b[0m\u001b[0m\n\u001b[1;32m      7\u001b[0m \u001b[0mxy\u001b[0m \u001b[0;34m=\u001b[0m \u001b[0mnp\u001b[0m\u001b[0;34m.\u001b[0m\u001b[0mvstack\u001b[0m\u001b[0;34m(\u001b[0m\u001b[0;34m[\u001b[0m\u001b[0mx\u001b[0m\u001b[0;34m,\u001b[0m\u001b[0my\u001b[0m\u001b[0;34m]\u001b[0m\u001b[0;34m)\u001b[0m\u001b[0;34m\u001b[0m\u001b[0;34m\u001b[0m\u001b[0m\n\u001b[0;32m----> 8\u001b[0;31m \u001b[0mz\u001b[0m \u001b[0;34m=\u001b[0m \u001b[0mgaussian_kde\u001b[0m\u001b[0;34m(\u001b[0m\u001b[0mxy\u001b[0m\u001b[0;34m)\u001b[0m\u001b[0;34m(\u001b[0m\u001b[0mxy\u001b[0m\u001b[0;34m)\u001b[0m\u001b[0;34m\u001b[0m\u001b[0;34m\u001b[0m\u001b[0m\n\u001b[0m\u001b[1;32m      9\u001b[0m \u001b[0;34m\u001b[0m\u001b[0m\n\u001b[1;32m     10\u001b[0m \u001b[0;34m\u001b[0m\u001b[0m\n",
      "\u001b[0;32m~/.local/lib/python3.8/site-packages/scipy/stats/_kde.py\u001b[0m in \u001b[0;36m__init__\u001b[0;34m(self, dataset, bw_method, weights)\u001b[0m\n\u001b[1;32m    205\u001b[0m             \u001b[0mself\u001b[0m\u001b[0;34m.\u001b[0m\u001b[0m_neff\u001b[0m \u001b[0;34m=\u001b[0m \u001b[0;36m1\u001b[0m\u001b[0;34m/\u001b[0m\u001b[0msum\u001b[0m\u001b[0;34m(\u001b[0m\u001b[0mself\u001b[0m\u001b[0;34m.\u001b[0m\u001b[0m_weights\u001b[0m\u001b[0;34m**\u001b[0m\u001b[0;36m2\u001b[0m\u001b[0;34m)\u001b[0m\u001b[0;34m\u001b[0m\u001b[0;34m\u001b[0m\u001b[0m\n\u001b[1;32m    206\u001b[0m \u001b[0;34m\u001b[0m\u001b[0m\n\u001b[0;32m--> 207\u001b[0;31m         \u001b[0mself\u001b[0m\u001b[0;34m.\u001b[0m\u001b[0mset_bandwidth\u001b[0m\u001b[0;34m(\u001b[0m\u001b[0mbw_method\u001b[0m\u001b[0;34m=\u001b[0m\u001b[0mbw_method\u001b[0m\u001b[0;34m)\u001b[0m\u001b[0;34m\u001b[0m\u001b[0;34m\u001b[0m\u001b[0m\n\u001b[0m\u001b[1;32m    208\u001b[0m \u001b[0;34m\u001b[0m\u001b[0m\n\u001b[1;32m    209\u001b[0m     \u001b[0;32mdef\u001b[0m \u001b[0mevaluate\u001b[0m\u001b[0;34m(\u001b[0m\u001b[0mself\u001b[0m\u001b[0;34m,\u001b[0m \u001b[0mpoints\u001b[0m\u001b[0;34m)\u001b[0m\u001b[0;34m:\u001b[0m\u001b[0;34m\u001b[0m\u001b[0;34m\u001b[0m\u001b[0m\n",
      "\u001b[0;32m~/.local/lib/python3.8/site-packages/scipy/stats/_kde.py\u001b[0m in \u001b[0;36mset_bandwidth\u001b[0;34m(self, bw_method)\u001b[0m\n\u001b[1;32m    553\u001b[0m             \u001b[0;32mraise\u001b[0m \u001b[0mValueError\u001b[0m\u001b[0;34m(\u001b[0m\u001b[0mmsg\u001b[0m\u001b[0;34m)\u001b[0m\u001b[0;34m\u001b[0m\u001b[0;34m\u001b[0m\u001b[0m\n\u001b[1;32m    554\u001b[0m \u001b[0;34m\u001b[0m\u001b[0m\n\u001b[0;32m--> 555\u001b[0;31m         \u001b[0mself\u001b[0m\u001b[0;34m.\u001b[0m\u001b[0m_compute_covariance\u001b[0m\u001b[0;34m(\u001b[0m\u001b[0;34m)\u001b[0m\u001b[0;34m\u001b[0m\u001b[0;34m\u001b[0m\u001b[0m\n\u001b[0m\u001b[1;32m    556\u001b[0m \u001b[0;34m\u001b[0m\u001b[0m\n\u001b[1;32m    557\u001b[0m     \u001b[0;32mdef\u001b[0m \u001b[0m_compute_covariance\u001b[0m\u001b[0;34m(\u001b[0m\u001b[0mself\u001b[0m\u001b[0;34m)\u001b[0m\u001b[0;34m:\u001b[0m\u001b[0;34m\u001b[0m\u001b[0;34m\u001b[0m\u001b[0m\n",
      "\u001b[0;32m~/.local/lib/python3.8/site-packages/scipy/stats/_kde.py\u001b[0m in \u001b[0;36m_compute_covariance\u001b[0;34m(self)\u001b[0m\n\u001b[1;32m    565\u001b[0m                                                \u001b[0mbias\u001b[0m\u001b[0;34m=\u001b[0m\u001b[0;32mFalse\u001b[0m\u001b[0;34m,\u001b[0m\u001b[0;34m\u001b[0m\u001b[0;34m\u001b[0m\u001b[0m\n\u001b[1;32m    566\u001b[0m                                                aweights=self.weights))\n\u001b[0;32m--> 567\u001b[0;31m             \u001b[0mself\u001b[0m\u001b[0;34m.\u001b[0m\u001b[0m_data_inv_cov\u001b[0m \u001b[0;34m=\u001b[0m \u001b[0mlinalg\u001b[0m\u001b[0;34m.\u001b[0m\u001b[0minv\u001b[0m\u001b[0;34m(\u001b[0m\u001b[0mself\u001b[0m\u001b[0;34m.\u001b[0m\u001b[0m_data_covariance\u001b[0m\u001b[0;34m)\u001b[0m\u001b[0;34m\u001b[0m\u001b[0;34m\u001b[0m\u001b[0m\n\u001b[0m\u001b[1;32m    568\u001b[0m \u001b[0;34m\u001b[0m\u001b[0m\n\u001b[1;32m    569\u001b[0m         \u001b[0mself\u001b[0m\u001b[0;34m.\u001b[0m\u001b[0mcovariance\u001b[0m \u001b[0;34m=\u001b[0m \u001b[0mself\u001b[0m\u001b[0;34m.\u001b[0m\u001b[0m_data_covariance\u001b[0m \u001b[0;34m*\u001b[0m \u001b[0mself\u001b[0m\u001b[0;34m.\u001b[0m\u001b[0mfactor\u001b[0m\u001b[0;34m**\u001b[0m\u001b[0;36m2\u001b[0m\u001b[0;34m\u001b[0m\u001b[0;34m\u001b[0m\u001b[0m\n",
      "\u001b[0;32m~/.local/lib/python3.8/site-packages/scipy/linalg/_basic.py\u001b[0m in \u001b[0;36minv\u001b[0;34m(a, overwrite_a, check_finite)\u001b[0m\n\u001b[1;32m    925\u001b[0m \u001b[0;34m\u001b[0m\u001b[0m\n\u001b[1;32m    926\u001b[0m     \"\"\"\n\u001b[0;32m--> 927\u001b[0;31m     \u001b[0ma1\u001b[0m \u001b[0;34m=\u001b[0m \u001b[0m_asarray_validated\u001b[0m\u001b[0;34m(\u001b[0m\u001b[0ma\u001b[0m\u001b[0;34m,\u001b[0m \u001b[0mcheck_finite\u001b[0m\u001b[0;34m=\u001b[0m\u001b[0mcheck_finite\u001b[0m\u001b[0;34m)\u001b[0m\u001b[0;34m\u001b[0m\u001b[0;34m\u001b[0m\u001b[0m\n\u001b[0m\u001b[1;32m    928\u001b[0m     \u001b[0;32mif\u001b[0m \u001b[0mlen\u001b[0m\u001b[0;34m(\u001b[0m\u001b[0ma1\u001b[0m\u001b[0;34m.\u001b[0m\u001b[0mshape\u001b[0m\u001b[0;34m)\u001b[0m \u001b[0;34m!=\u001b[0m \u001b[0;36m2\u001b[0m \u001b[0;32mor\u001b[0m \u001b[0ma1\u001b[0m\u001b[0;34m.\u001b[0m\u001b[0mshape\u001b[0m\u001b[0;34m[\u001b[0m\u001b[0;36m0\u001b[0m\u001b[0;34m]\u001b[0m \u001b[0;34m!=\u001b[0m \u001b[0ma1\u001b[0m\u001b[0;34m.\u001b[0m\u001b[0mshape\u001b[0m\u001b[0;34m[\u001b[0m\u001b[0;36m1\u001b[0m\u001b[0;34m]\u001b[0m\u001b[0;34m:\u001b[0m\u001b[0;34m\u001b[0m\u001b[0;34m\u001b[0m\u001b[0m\n\u001b[1;32m    929\u001b[0m         \u001b[0;32mraise\u001b[0m \u001b[0mValueError\u001b[0m\u001b[0;34m(\u001b[0m\u001b[0;34m'expected square matrix'\u001b[0m\u001b[0;34m)\u001b[0m\u001b[0;34m\u001b[0m\u001b[0;34m\u001b[0m\u001b[0m\n",
      "\u001b[0;32m~/.local/lib/python3.8/site-packages/scipy/_lib/_util.py\u001b[0m in \u001b[0;36m_asarray_validated\u001b[0;34m(a, check_finite, sparse_ok, objects_ok, mask_ok, as_inexact)\u001b[0m\n\u001b[1;32m    285\u001b[0m             \u001b[0;32mraise\u001b[0m \u001b[0mValueError\u001b[0m\u001b[0;34m(\u001b[0m\u001b[0;34m'masked arrays are not supported'\u001b[0m\u001b[0;34m)\u001b[0m\u001b[0;34m\u001b[0m\u001b[0;34m\u001b[0m\u001b[0m\n\u001b[1;32m    286\u001b[0m     \u001b[0mtoarray\u001b[0m \u001b[0;34m=\u001b[0m \u001b[0mnp\u001b[0m\u001b[0;34m.\u001b[0m\u001b[0masarray_chkfinite\u001b[0m \u001b[0;32mif\u001b[0m \u001b[0mcheck_finite\u001b[0m \u001b[0;32melse\u001b[0m \u001b[0mnp\u001b[0m\u001b[0;34m.\u001b[0m\u001b[0masarray\u001b[0m\u001b[0;34m\u001b[0m\u001b[0;34m\u001b[0m\u001b[0m\n\u001b[0;32m--> 287\u001b[0;31m     \u001b[0ma\u001b[0m \u001b[0;34m=\u001b[0m \u001b[0mtoarray\u001b[0m\u001b[0;34m(\u001b[0m\u001b[0ma\u001b[0m\u001b[0;34m)\u001b[0m\u001b[0;34m\u001b[0m\u001b[0;34m\u001b[0m\u001b[0m\n\u001b[0m\u001b[1;32m    288\u001b[0m     \u001b[0;32mif\u001b[0m \u001b[0;32mnot\u001b[0m \u001b[0mobjects_ok\u001b[0m\u001b[0;34m:\u001b[0m\u001b[0;34m\u001b[0m\u001b[0;34m\u001b[0m\u001b[0m\n\u001b[1;32m    289\u001b[0m         \u001b[0;32mif\u001b[0m \u001b[0ma\u001b[0m\u001b[0;34m.\u001b[0m\u001b[0mdtype\u001b[0m \u001b[0;32mis\u001b[0m \u001b[0mnp\u001b[0m\u001b[0;34m.\u001b[0m\u001b[0mdtype\u001b[0m\u001b[0;34m(\u001b[0m\u001b[0;34m'O'\u001b[0m\u001b[0;34m)\u001b[0m\u001b[0;34m:\u001b[0m\u001b[0;34m\u001b[0m\u001b[0;34m\u001b[0m\u001b[0m\n",
      "\u001b[0;32m~/.local/lib/python3.8/site-packages/numpy/lib/function_base.py\u001b[0m in \u001b[0;36masarray_chkfinite\u001b[0;34m(a, dtype, order)\u001b[0m\n\u001b[1;32m    625\u001b[0m     \u001b[0ma\u001b[0m \u001b[0;34m=\u001b[0m \u001b[0masarray\u001b[0m\u001b[0;34m(\u001b[0m\u001b[0ma\u001b[0m\u001b[0;34m,\u001b[0m \u001b[0mdtype\u001b[0m\u001b[0;34m=\u001b[0m\u001b[0mdtype\u001b[0m\u001b[0;34m,\u001b[0m \u001b[0morder\u001b[0m\u001b[0;34m=\u001b[0m\u001b[0morder\u001b[0m\u001b[0;34m)\u001b[0m\u001b[0;34m\u001b[0m\u001b[0;34m\u001b[0m\u001b[0m\n\u001b[1;32m    626\u001b[0m     \u001b[0;32mif\u001b[0m \u001b[0ma\u001b[0m\u001b[0;34m.\u001b[0m\u001b[0mdtype\u001b[0m\u001b[0;34m.\u001b[0m\u001b[0mchar\u001b[0m \u001b[0;32min\u001b[0m \u001b[0mtypecodes\u001b[0m\u001b[0;34m[\u001b[0m\u001b[0;34m'AllFloat'\u001b[0m\u001b[0;34m]\u001b[0m \u001b[0;32mand\u001b[0m \u001b[0;32mnot\u001b[0m \u001b[0mnp\u001b[0m\u001b[0;34m.\u001b[0m\u001b[0misfinite\u001b[0m\u001b[0;34m(\u001b[0m\u001b[0ma\u001b[0m\u001b[0;34m)\u001b[0m\u001b[0;34m.\u001b[0m\u001b[0mall\u001b[0m\u001b[0;34m(\u001b[0m\u001b[0;34m)\u001b[0m\u001b[0;34m:\u001b[0m\u001b[0;34m\u001b[0m\u001b[0;34m\u001b[0m\u001b[0m\n\u001b[0;32m--> 627\u001b[0;31m         raise ValueError(\n\u001b[0m\u001b[1;32m    628\u001b[0m             \"array must not contain infs or NaNs\")\n\u001b[1;32m    629\u001b[0m     \u001b[0;32mreturn\u001b[0m \u001b[0ma\u001b[0m\u001b[0;34m\u001b[0m\u001b[0;34m\u001b[0m\u001b[0m\n",
      "\u001b[0;31mValueError\u001b[0m: array must not contain infs or NaNs"
     ]
    }
   ],
   "source": [
    "from scipy.stats import gaussian_kde\n",
    "\n",
    "\n",
    "x=scatter_df[grade].astype(float)\n",
    "y=scatter_df[salary].astype(float)\n",
    "\n",
    "xy = np.vstack([x,y])\n",
    "z = gaussian_kde(xy)(xy)\n",
    "\n",
    "\n",
    "plt.scatter(x,y)\n",
    "plt.title(\"Average grade - Salary plot\")\n",
    "plt.xlabel(\"Average grade\")\n",
    "plt.ylabel(\"Salary\")\n",
    "plt.show()"
   ]
  },
  {
   "cell_type": "code",
   "execution_count": 19,
   "metadata": {},
   "outputs": [],
   "source": [
    "df_intel = df[df[company]=='Intel']\n",
    "df_microsoft = df[df[company]=='Microsoft']\n",
    "df_Amazon = df[df[company]=='Amazon']\n",
    "df_Google = df[df[company]=='Google']\n",
    "df_Facebook = df[df[company]=='Facebook']\n",
    "df_Apple = df[df[company]=='Apple']\n",
    "df_IBM = df[df[company]=='IBM']\n",
    "df_Rafael = df[df[company]=='Rafael']\n",
    "df_Elbit = df[df[company]=='Elbit']\n",
    "df_Plus500 = df[df[company]=='Plus500']\n",
    "df_Nvidia = df[df[company]=='Nvidia']\n",
    "df_Mobileye = df[df[company]=='Mobileye']\n",
    "\n",
    "av_intel=df_intel[salary].astype(float).sum() / len(df_intel)\n",
    "av_mic=df_microsoft[salary].astype(float).sum() / len(df_microsoft)\n",
    "av_ama=df_Amazon[salary].astype(float).sum() / len(df_Amazon)\n",
    "av_google=df_Google[salary].astype(float).sum() / len(df_Google)\n",
    "av_facebook=df_Facebook[salary].astype(float).sum() / len(df_Facebook)\n",
    "av_apple=df_Apple[salary].astype(float).sum() / len(df_Apple)\n",
    "av_ibm=df_IBM[salary].astype(float).sum() / len(df_IBM)\n",
    "av_rafael=df_Rafael[salary].astype(float).sum() / len(df_Rafael)\n",
    "av_elbit=df_Elbit[salary].astype(float).sum() / len(df_Elbit)\n",
    "av_plus500=df_Plus500[salary].astype(float).sum() / len(df_Plus500)\n",
    "av_ncidia=df_Nvidia[salary].astype(float).sum() / len(df_Nvidia)\n",
    "av_mobileye=df_Mobileye[salary].astype(float).sum() / len(df_Mobileye)"
   ]
  },
  {
   "cell_type": "code",
   "execution_count": 20,
   "metadata": {},
   "outputs": [
    {
     "data": {
      "image/png": "[encoded data removed]",
      "text/plain": [
       "<Figure size 1080x360 with 1 Axes>"
      ]
     },
     "metadata": {
      "needs_background": "light"
     },
     "output_type": "display_data"
    }
   ],
   "source": [
    "companys=['Rafael (75.7)','Intel (93.1)','Elbit (94.8)','Microsoft (108.7)','Apple (109)','Nvidia (110)','IBM (110)','Amazon(112.4)',' Mobileye (117.5)','Plus500 (125)']\n",
    "salarys=[av_rafael,av_intel,av_elbit,av_mic,av_apple,av_ncidia,av_ibm,av_ama,av_mobileye,av_plus500]\n",
    "fig=plt.figure(figsize=(15,5))\n",
    "plt.bar(companys, salarys, color ='maroon',\n",
    "        width = 0.4)\n",
    " \n",
    "plt.xlabel(\"Companies\")\n",
    "plt.ylabel(\"Average Salary\")\n",
    "plt.title(\"Companies average Salaries\")\n",
    "plt.show()\n"
   ]
  },
  {
   "cell_type": "code",
   "execution_count": 21,
   "metadata": {},
   "outputs": [
    {
     "data": {
      "text/plain": [
       "110.0"
      ]
     },
     "execution_count": 21,
     "metadata": {},
     "output_type": "execute_result"
    }
   ],
   "source": [
    "av_ncidia"
   ]
  },
  {
   "cell_type": "code",
   "execution_count": 22,
   "metadata": {},
   "outputs": [
    {
     "data": {
      "text/html": [
       "<div>\n",
       "<style scoped>\n",
       "    .dataframe tbody tr th:only-of-type {\n",
       "        vertical-align: middle;\n",
       "    }\n",
       "\n",
       "    .dataframe tbody tr th {\n",
       "        vertical-align: top;\n",
       "    }\n",
       "\n",
       "    .dataframe thead th {\n",
       "        text-align: right;\n",
       "    }\n",
       "</style>\n",
       "<table border=\"1\" class=\"dataframe\">\n",
       "  <thead>\n",
       "    <tr style=\"text-align: right;\">\n",
       "      <th></th>\n",
       "      <th>Timestamp</th>\n",
       "      <th>מסלול לימודים</th>\n",
       "      <th>באיזה סמסטר היית כשקיבלת את ההצעה?</th>\n",
       "      <th>ממוצע (נכון לתקופת חיפוש העבודה)</th>\n",
       "      <th>האם ביקשו גיליון ציונים?</th>\n",
       "      <th>קורסי מפתח שעשית לפני הצעת העבודה</th>\n",
       "      <th>האם היה לך ניסיון לפני קבלת המשרה?</th>\n",
       "      <th>שכר שעתי במשרת הסטודנט הראשונה (ש\"ח לשעה)</th>\n",
       "      <th>האם התמקחת אחרי קבלת ההצעה?</th>\n",
       "      <th>חברה (נא לכתוב באנגלית את שם החברה)</th>\n",
       "      <th>תחום המשרה</th>\n",
       "      <th>מין</th>\n",
       "      <th>טעם גלידה אהוב</th>\n",
       "    </tr>\n",
       "  </thead>\n",
       "  <tbody>\n",
       "    <tr>\n",
       "      <th>0</th>\n",
       "      <td>16/08/2022 12:35:22</td>\n",
       "      <td>הנדסת מחשבים</td>\n",
       "      <td>5.0</td>\n",
       "      <td>88</td>\n",
       "      <td>כן</td>\n",
       "      <td>מת\"מ</td>\n",
       "      <td>ללא ניסיון כלל</td>\n",
       "      <td>100</td>\n",
       "      <td>לא</td>\n",
       "      <td>Intel</td>\n",
       "      <td>Embedded</td>\n",
       "      <td>זכר</td>\n",
       "      <td>בייגלה מלוח - קרמל</td>\n",
       "    </tr>\n",
       "    <tr>\n",
       "      <th>1</th>\n",
       "      <td>16/08/2022 12:36:57</td>\n",
       "      <td>מדמ\"ח</td>\n",
       "      <td>4.0</td>\n",
       "      <td>80</td>\n",
       "      <td>כן</td>\n",
       "      <td>מת\"מ, מבני נתונים</td>\n",
       "      <td>ללא ניסיון כלל</td>\n",
       "      <td>85</td>\n",
       "      <td>לא</td>\n",
       "      <td>Philips</td>\n",
       "      <td>Software Development</td>\n",
       "      <td>נקבה</td>\n",
       "      <td>פיסטוק</td>\n",
       "    </tr>\n",
       "    <tr>\n",
       "      <th>2</th>\n",
       "      <td>16/08/2022 12:37:34</td>\n",
       "      <td>מדמ\"ח</td>\n",
       "      <td>4.0</td>\n",
       "      <td>86</td>\n",
       "      <td>כן</td>\n",
       "      <td>מת\"מ, מבני נתונים, הפעלה</td>\n",
       "      <td>ללא ניסיון כלל</td>\n",
       "      <td>110</td>\n",
       "      <td>לא</td>\n",
       "      <td>Apple</td>\n",
       "      <td>Embedded</td>\n",
       "      <td>נקבה</td>\n",
       "      <td>פיסטוק</td>\n",
       "    </tr>\n",
       "    <tr>\n",
       "      <th>3</th>\n",
       "      <td>16/08/2022 12:39:02</td>\n",
       "      <td>מדמ\"ח</td>\n",
       "      <td>3.0</td>\n",
       "      <td>85</td>\n",
       "      <td>כן</td>\n",
       "      <td>מת\"מ</td>\n",
       "      <td>ללא ניסיון כלל</td>\n",
       "      <td>93</td>\n",
       "      <td>לא</td>\n",
       "      <td>Intel</td>\n",
       "      <td>Backend</td>\n",
       "      <td>זכר</td>\n",
       "      <td>שוקולד בראוניס</td>\n",
       "    </tr>\n",
       "    <tr>\n",
       "      <th>4</th>\n",
       "      <td>16/08/2022 12:41:55</td>\n",
       "      <td>הנדסת מחשבים</td>\n",
       "      <td>6.0</td>\n",
       "      <td>75</td>\n",
       "      <td>לא</td>\n",
       "      <td>מת\"מ, מבני נתונים, הפעלה, אלגו, קורס בחירה הקש...</td>\n",
       "      <td>ללא ניסיון כלל</td>\n",
       "      <td>70</td>\n",
       "      <td>לא</td>\n",
       "      <td>NaN</td>\n",
       "      <td>Backend</td>\n",
       "      <td>NaN</td>\n",
       "      <td>פיסטוק</td>\n",
       "    </tr>\n",
       "    <tr>\n",
       "      <th>...</th>\n",
       "      <td>...</td>\n",
       "      <td>...</td>\n",
       "      <td>...</td>\n",
       "      <td>...</td>\n",
       "      <td>...</td>\n",
       "      <td>...</td>\n",
       "      <td>...</td>\n",
       "      <td>...</td>\n",
       "      <td>...</td>\n",
       "      <td>...</td>\n",
       "      <td>...</td>\n",
       "      <td>...</td>\n",
       "      <td>...</td>\n",
       "    </tr>\n",
       "    <tr>\n",
       "      <th>161</th>\n",
       "      <td>17/08/2022 09:59:56</td>\n",
       "      <td>מדמ\"ח</td>\n",
       "      <td>5.0</td>\n",
       "      <td>84</td>\n",
       "      <td>כן</td>\n",
       "      <td>מת\"מ, מבני נתונים</td>\n",
       "      <td>ללא ניסיון כלל</td>\n",
       "      <td>105</td>\n",
       "      <td>NaN</td>\n",
       "      <td>Nvidia</td>\n",
       "      <td>Validation/Testing</td>\n",
       "      <td>נקבה</td>\n",
       "      <td>וניל עוגיות</td>\n",
       "    </tr>\n",
       "    <tr>\n",
       "      <th>162</th>\n",
       "      <td>17/08/2022 10:12:19</td>\n",
       "      <td>מדמ\"ח</td>\n",
       "      <td>3.0</td>\n",
       "      <td>94</td>\n",
       "      <td>כן</td>\n",
       "      <td>מת\"מ, מבני נתונים</td>\n",
       "      <td>ללא ניסיון כלל</td>\n",
       "      <td>170</td>\n",
       "      <td>לא</td>\n",
       "      <td>Facebook</td>\n",
       "      <td>Full Stack</td>\n",
       "      <td>זכר</td>\n",
       "      <td>בצק עוגיות</td>\n",
       "    </tr>\n",
       "    <tr>\n",
       "      <th>163</th>\n",
       "      <td>17/08/2022 12:27:11</td>\n",
       "      <td>מדמ\"ח</td>\n",
       "      <td>3.0</td>\n",
       "      <td>84</td>\n",
       "      <td>כן</td>\n",
       "      <td>מת\"מ</td>\n",
       "      <td>פרויקטים אישיים משמעותיים</td>\n",
       "      <td>73</td>\n",
       "      <td>לא</td>\n",
       "      <td>Intel</td>\n",
       "      <td>Software Development</td>\n",
       "      <td>זכר</td>\n",
       "      <td>NaN</td>\n",
       "    </tr>\n",
       "    <tr>\n",
       "      <th>164</th>\n",
       "      <td>17/08/2022 12:39:58</td>\n",
       "      <td>מדמ\"ח</td>\n",
       "      <td>3.0</td>\n",
       "      <td>76</td>\n",
       "      <td>לא</td>\n",
       "      <td>מת\"מ</td>\n",
       "      <td>פרויקטים אישיים משמעותיים</td>\n",
       "      <td>75</td>\n",
       "      <td>לא</td>\n",
       "      <td>NaN</td>\n",
       "      <td>Backend</td>\n",
       "      <td>זכר</td>\n",
       "      <td>שוקולד בראוניס</td>\n",
       "    </tr>\n",
       "    <tr>\n",
       "      <th>165</th>\n",
       "      <td>17/08/2022 13:24:46</td>\n",
       "      <td>מדמ\"ח</td>\n",
       "      <td>5.0</td>\n",
       "      <td>85</td>\n",
       "      <td>כן</td>\n",
       "      <td>מת\"מ</td>\n",
       "      <td>ללא ניסיון כלל</td>\n",
       "      <td>75</td>\n",
       "      <td>כן</td>\n",
       "      <td>Rafael</td>\n",
       "      <td>firmware</td>\n",
       "      <td>זכר</td>\n",
       "      <td>בייגלה מלוח - קרמל</td>\n",
       "    </tr>\n",
       "  </tbody>\n",
       "</table>\n",
       "<p>159 rows × 13 columns</p>\n",
       "</div>"
      ],
      "text/plain": [
       "               Timestamp מסלול לימודים  באיזה סמסטר היית כשקיבלת את ההצעה?  \\\n",
       "0    16/08/2022 12:35:22  הנדסת מחשבים                                 5.0   \n",
       "1    16/08/2022 12:36:57         מדמ\"ח                                 4.0   \n",
       "2    16/08/2022 12:37:34         מדמ\"ח                                 4.0   \n",
       "3    16/08/2022 12:39:02         מדמ\"ח                                 3.0   \n",
       "4    16/08/2022 12:41:55  הנדסת מחשבים                                 6.0   \n",
       "..                   ...           ...                                 ...   \n",
       "161  17/08/2022 09:59:56         מדמ\"ח                                 5.0   \n",
       "162  17/08/2022 10:12:19         מדמ\"ח                                 3.0   \n",
       "163  17/08/2022 12:27:11         מדמ\"ח                                 3.0   \n",
       "164  17/08/2022 12:39:58         מדמ\"ח                                 3.0   \n",
       "165  17/08/2022 13:24:46         מדמ\"ח                                 5.0   \n",
       "\n",
       "    ממוצע (נכון לתקופת חיפוש העבודה) האם ביקשו גיליון ציונים?  \\\n",
       "0                                 88                       כן   \n",
       "1                                 80                       כן   \n",
       "2                                 86                       כן   \n",
       "3                                 85                       כן   \n",
       "4                                 75                       לא   \n",
       "..                               ...                      ...   \n",
       "161                               84                       כן   \n",
       "162                               94                       כן   \n",
       "163                               84                       כן   \n",
       "164                               76                       לא   \n",
       "165                               85                       כן   \n",
       "\n",
       "                     קורסי מפתח שעשית לפני הצעת העבודה  \\\n",
       "0                                                 מת\"מ   \n",
       "1                                    מת\"מ, מבני נתונים   \n",
       "2                             מת\"מ, מבני נתונים, הפעלה   \n",
       "3                                                 מת\"מ   \n",
       "4    מת\"מ, מבני נתונים, הפעלה, אלגו, קורס בחירה הקש...   \n",
       "..                                                 ...   \n",
       "161                                  מת\"מ, מבני נתונים   \n",
       "162                                  מת\"מ, מבני נתונים   \n",
       "163                                               מת\"מ   \n",
       "164                                               מת\"מ   \n",
       "165                                               מת\"מ   \n",
       "\n",
       "    האם היה לך ניסיון לפני קבלת המשרה?  \\\n",
       "0                       ללא ניסיון כלל   \n",
       "1                       ללא ניסיון כלל   \n",
       "2                       ללא ניסיון כלל   \n",
       "3                       ללא ניסיון כלל   \n",
       "4                       ללא ניסיון כלל   \n",
       "..                                 ...   \n",
       "161                     ללא ניסיון כלל   \n",
       "162                     ללא ניסיון כלל   \n",
       "163          פרויקטים אישיים משמעותיים   \n",
       "164          פרויקטים אישיים משמעותיים   \n",
       "165                     ללא ניסיון כלל   \n",
       "\n",
       "    שכר שעתי במשרת הסטודנט הראשונה (ש\"ח לשעה) האם התמקחת אחרי קבלת ההצעה?  \\\n",
       "0                                         100                          לא   \n",
       "1                                          85                          לא   \n",
       "2                                         110                          לא   \n",
       "3                                          93                          לא   \n",
       "4                                          70                          לא   \n",
       "..                                        ...                         ...   \n",
       "161                                       105                         NaN   \n",
       "162                                       170                          לא   \n",
       "163                                        73                          לא   \n",
       "164                                        75                          לא   \n",
       "165                                        75                          כן   \n",
       "\n",
       "    חברה (נא לכתוב באנגלית את שם החברה)            תחום המשרה   מין  \\\n",
       "0                                 Intel              Embedded   זכר   \n",
       "1                               Philips  Software Development  נקבה   \n",
       "2                                 Apple              Embedded  נקבה   \n",
       "3                                 Intel               Backend   זכר   \n",
       "4                                   NaN               Backend   NaN   \n",
       "..                                  ...                   ...   ...   \n",
       "161                              Nvidia    Validation/Testing  נקבה   \n",
       "162                            Facebook            Full Stack   זכר   \n",
       "163                               Intel  Software Development   זכר   \n",
       "164                                 NaN               Backend   זכר   \n",
       "165                              Rafael              firmware   זכר   \n",
       "\n",
       "         טעם גלידה אהוב  \n",
       "0    בייגלה מלוח - קרמל  \n",
       "1                פיסטוק  \n",
       "2                פיסטוק  \n",
       "3        שוקולד בראוניס  \n",
       "4                פיסטוק  \n",
       "..                  ...  \n",
       "161         וניל עוגיות  \n",
       "162          בצק עוגיות  \n",
       "163                 NaN  \n",
       "164      שוקולד בראוניס  \n",
       "165  בייגלה מלוח - קרמל  \n",
       "\n",
       "[159 rows x 13 columns]"
      ]
     },
     "execution_count": 22,
     "metadata": {},
     "output_type": "execute_result"
    }
   ],
   "source": [
    "df"
   ]
  },
  {
   "cell_type": "code",
   "execution_count": 23,
   "metadata": {},
   "outputs": [],
   "source": [
    "ice='טעם גלידה אהוב'\n",
    "df_caramel=df[df[ice]=='בייגלה מלוח - קרמל']\n",
    "df_pishtok=df[df[ice]=='פיסטוק']\n",
    "df_vanilcokie=df[df[ice]=='וניל עוגיות']\n",
    "df_cookie_dough=df[df[ice]=='בצק עוגיות']\n",
    "df_brownies=df[df[ice]=='שוקולד בראוניס']"
   ]
  },
  {
   "cell_type": "code",
   "execution_count": 24,
   "metadata": {},
   "outputs": [],
   "source": [
    "avrg_salary={}\n",
    "avrg_salary['Vanilla cookie (90.65) '] = df_vanilcokie[salary].astype(float).sum()/len(df_vanilcokie)\n",
    "avrg_salary['Salted Caramel (95.88) '] = df_caramel[salary].astype(float).sum()/len(df_caramel)\n",
    "avrg_salary['cookie dough (98.94) '] = df_cookie_dough[salary].astype(float).sum()/len(df_cookie_dough)\n",
    "avrg_salary['Pistachio (100.92) '] = df_pishtok[salary].astype(float).sum()/len(df_pishtok)\n",
    "avrg_salary['Brownies (103.91) '] = df_brownies[salary].astype(float).sum()/len(df_brownies)\n"
   ]
  },
  {
   "cell_type": "code",
   "execution_count": 25,
   "metadata": {},
   "outputs": [
    {
     "name": "stdout",
     "output_type": "stream",
     "text": [
      "{'Vanilla cookie (90.65) ': 90.65217391304348, 'Salted Caramel (95.88) ': 95.88571428571429, 'cookie dough (98.94) ': 98.94, 'Pistachio (100.92) ': 100.92857142857143, 'Brownies (103.91) ': 103.91666666666667}\n"
     ]
    }
   ],
   "source": [
    "print(avrg_salary)"
   ]
  },
  {
   "cell_type": "code",
   "execution_count": 26,
   "metadata": {},
   "outputs": [
    {
     "ename": "KeyError",
     "evalue": "'Pistachio'",
     "output_type": "error",
     "traceback": [
      "\u001b[0;31m---------------------------------------------------------------------------\u001b[0m",
      "\u001b[0;31mKeyError\u001b[0m                                  Traceback (most recent call last)",
      "\u001b[0;32m<ipython-input-26-8114e0b905e9>\u001b[0m in \u001b[0;36m<module>\u001b[0;34m\u001b[0m\n\u001b[0;32m----> 1\u001b[0;31m \u001b[0mavrg_salary\u001b[0m\u001b[0;34m[\u001b[0m\u001b[0;34m'Pistachio'\u001b[0m\u001b[0;34m]\u001b[0m\u001b[0;34m\u001b[0m\u001b[0;34m\u001b[0m\u001b[0m\n\u001b[0m",
      "\u001b[0;31mKeyError\u001b[0m: 'Pistachio'"
     ]
    }
   ],
   "source": [
    "avrg_salary['Pistachio']"
   ]
  },
  {
   "cell_type": "code",
   "execution_count": 27,
   "metadata": {},
   "outputs": [
    {
     "data": {
      "image/png": "[encoded data removed]",
      "text/plain": [
       "<Figure size 1080x360 with 1 Axes>"
      ]
     },
     "metadata": {
      "needs_background": "light"
     },
     "output_type": "display_data"
    }
   ],
   "source": [
    "data = avrg_salary\n",
    "names = list(data.keys())\n",
    "values = list(data.values())\n",
    "fig=plt.figure(figsize=(15,5))\n",
    "\n",
    "\n",
    "\n",
    "plt.xlabel(\"Favorite ice Cream flavor\")\n",
    "plt.ylabel(\"Average Salary\")\n",
    "plt.title(\"Average salaries according to favorite ice-cream flavor\")\n",
    "plt.bar(range(len(data)), values, tick_label=names)\n",
    "plt.show()"
   ]
  },
  {
   "cell_type": "code",
   "execution_count": null,
   "metadata": {},
   "outputs": [],
   "source": []
  },
  {
   "cell_type": "code",
   "execution_count": null,
   "metadata": {},
   "outputs": [],
   "source": []
  },
  {
   "cell_type": "code",
   "execution_count": null,
   "metadata": {},
   "outputs": [],
   "source": []
  }
 ],
 "metadata": {
  "kernelspec": {
   "display_name": "Python 3.8.2 64-bit",
   "language": "python",
   "name": "python3"
  },
  "language_info": {
   "codemirror_mode": {
    "name": "ipython",
    "version": 3
   },
   "file_extension": ".py",
   "mimetype": "text/x-python",
   "name": "python",
   "nbconvert_exporter": "python",
   "pygments_lexer": "ipython3",
   "version": "3.8.10"
  },
  "orig_nbformat": 4,
  "vscode": {
   "interpreter": {
    "hash": "916dbcbb3f70747c44a77c7bcd40155683ae19c65e1c03b4aa3499c5328201f1"
   }
  }
 },
 "nbformat": 4,
 "nbformat_minor": 2
}
