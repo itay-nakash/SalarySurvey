{
 "cells": [
  {
   "cell_type": "code",
   "execution_count": 1,
   "metadata": {},
   "outputs": [],
   "source": [
    "import pandas as pd\n",
    "import numpy as np\n",
    "\n",
    "from numpy import average\n",
    "\n",
    "\n",
    "#import the csv to pandas\n",
    "file_path='/home/itay/salarySurvey/data/combined_survey_filtered_wout_outliers.xlsx'\n",
    "df =pd.read_excel(file_path)\n",
    "\n"
   ]
  },
  {
   "cell_type": "code",
   "execution_count": 2,
   "metadata": {},
   "outputs": [],
   "source": [
    "# enter the coulmns names as varibels:\n",
    "\n",
    "salary='שכר שעתי במשרת הסטודנט הראשונה (ש\"ח לשעה)'\n",
    "grade='ממוצע (נכון לתקופת חיפוש העבודה)'\n",
    "bargin='האם התמקחת אחרי קבלת ההצעה?'\n",
    "gender='מין'\n",
    "year='שנת הצעת העבודה'\n",
    "company='חברה (נא לכתוב באנגלית את שם החברה)'\n",
    "courses='קורסי מפתח שעשית לפני הצעת העבודה'\n",
    "exp='האם היה לך ניסיון לפני קבלת המשרה?'\n",
    "sem='באיזה סמסטר היית כשקיבלת את ההצעה?'\n",
    "\n",
    "ice_cream='טעם גלידה אהוב'\n",
    "\n",
    "rounding_density=2"
   ]
  },
  {
   "cell_type": "code",
   "execution_count": 3,
   "metadata": {},
   "outputs": [],
   "source": [
    "#cleanup to the data, you should add your own cleanup to the data:\n",
    "#df=df.drop(65)\n",
    "#df=df.drop(82)\n",
    "#df=df.drop(104)\n",
    "#df=df.drop(117)\n",
    "#\n",
    "#df[df[salary].str.contains(\"50K\",na=False)]\n",
    "#df=df.drop(102)\n",
    "#\n",
    "#df[df[salary]=='20']\n",
    "#df=df.drop(148)\n",
    "#\n",
    "#df[df[grade].str.contains(\" תואר ראשון\",na=False)]\n",
    "#df=df.drop(115)\n",
    "\n"
   ]
  },
  {
   "cell_type": "code",
   "execution_count": 4,
   "metadata": {},
   "outputs": [
    {
     "data": {
      "text/plain": [
       "94.15186246418338"
      ]
     },
     "execution_count": 4,
     "metadata": {},
     "output_type": "execute_result"
    }
   ],
   "source": [
    "av_df=df[salary].astype(float).sum()/len(df)\n",
    "av_df"
   ]
  },
  {
   "cell_type": "code",
   "execution_count": 5,
   "metadata": {},
   "outputs": [],
   "source": [
    "#calculate the average value of columnName column in df:\n",
    "def calculate_average(df,column_name):\n",
    "    num_of_rows=len(df)\n",
    "    sum_of_rows=df[column_name].astype(float).sum()\n",
    "    return sum_of_rows/num_of_rows # return the average value\n",
    "\n",
    "def calculate_precentage_of_binary_answer(df,column_name,binary_field_answer):\n",
    "    return len(df[df[column_name]==binary_field_answer])/ len(df)\n",
    "\n",
    "def create_sorted_average_dict(dict,field):\n",
    "    average_dict={}\n",
    "    sorted_dict={}\n",
    "    #calculate the average:\n",
    "    for name in dict:\n",
    "        average_dict[name]=calculate_average(dict[name],field)\n",
    "\n",
    "    #sort:\n",
    "    sorted_salary_list=sorted(average_dict.items(), key=lambda x: x[1])\n",
    "\n",
    "    for tup in sorted_salary_list:\n",
    "        average_rounded=round(tup[1],rounding_density)\n",
    "        new_key= tup[0]+\" \"+str(average_rounded)\n",
    "        sorted_dict[new_key]=tup[1] \n",
    "    return sorted_dict"
   ]
  },
  {
   "cell_type": "code",
   "execution_count": 23,
   "metadata": {},
   "outputs": [
    {
     "name": "stdout",
     "output_type": "stream",
     "text": [
      "95.03625954198473\n",
      "84.42404580152672\n",
      "92.46296296296296\n",
      "83.09876543209876\n",
      "num of mens:262\n",
      "num of females:81\n"
     ]
    }
   ],
   "source": [
    "#calculate average salary and grades:\n",
    "from scipy.stats import ttest_ind\n",
    "\n",
    "male_df= df.loc[df[gender]=='זכר']\n",
    "female_df= df.loc[df['מין']=='נקבה']\n",
    "\n",
    "average_salary_male = calculate_average(male_df,salary)\n",
    "average_grade_male = calculate_average(male_df,grade)\n",
    "\n",
    "average_salary_female = calculate_average(female_df,salary)\n",
    "average_grade_female = calculate_average(female_df,grade)\n",
    "\n",
    "print(average_salary_male)\n",
    "print(average_grade_male)\n",
    "print(average_salary_female)\n",
    "print(average_grade_female)\n",
    "\n",
    "print('num of mens:' +str(len(male_df)))\n",
    "print('num of females:' +str(len(female_df)))\n",
    "\n",
    "res = ttest_ind(male_df[salary], female_df[salary])\n",
    "\n",
    "print(res)\n",
    "\n"
   ]
  },
  {
   "cell_type": "code",
   "execution_count": 30,
   "metadata": {},
   "outputs": [
    {
     "name": "stdout",
     "output_type": "stream",
     "text": [
      "bargin man avreage salary: 94.12264150943396   Amount:53\n",
      "didn't bargin man avreage salary: 95.61463414634146   Amount:205\n",
      "bargin woman avreage salary: 85.71923076923076   Amount:26\n",
      "didn't bargin woman avreage salary: 95.39245283018869   Amount:53\n"
     ]
    }
   ],
   "source": [
    "#bargin presentage:\n",
    "\n",
    "precents_of_male_bargin=calculate_precentage_of_binary_answer(male_df,bargin,'כן')\n",
    "precents_of_female_bargin=calculate_precentage_of_binary_answer(female_df,bargin,'כן')\n",
    "\n",
    "bargin_m=male_df[male_df[bargin]=='כן']\n",
    "n_bargin_m=male_df[male_df[bargin]=='לא']\n",
    "bargin_f=female_df[female_df[bargin]=='כן']\n",
    "n_bargin_f=female_df[female_df[bargin]=='לא']\n",
    "\n",
    "\n",
    "print(\"bargin man avreage salary: \"+str(calculate_average( bargin_m,salary))+ '   Amount:'+str(len(bargin_m)))\n",
    "print(\"didn't bargin man avreage salary: \"+str(calculate_average( n_bargin_m,salary))+ '   Amount:'+str(len(n_bargin_m)))\n",
    "print(\"bargin woman avreage salary: \"+str(calculate_average( bargin_f,salary))+ '   Amount:'+str(len(bargin_f)))\n",
    "print(\"didn't bargin woman avreage salary: \"+ str(calculate_average( n_bargin_f,salary))+ '   Amount:'+str(len(n_bargin_f)))\n"
   ]
  },
  {
   "cell_type": "code",
   "execution_count": 8,
   "metadata": {},
   "outputs": [
    {
     "data": {
      "image/png": "[encoded data removed]",
      "text/plain": [
       "<Figure size 432x288 with 1 Axes>"
      ]
     },
     "metadata": {
      "needs_background": "light"
     },
     "output_type": "display_data"
    }
   ],
   "source": [
    "import matplotlib.pyplot as plt\n",
    "man_salarys=male_df[[salary]].astype(float)\n",
    "fman_salarys=female_df[[salary]].astype(float)\n",
    "\n",
    "# Set the figure size\n",
    "plt.rcParams[\"figure.figsize\"] = [7.50, 3.50]\n",
    "plt.rcParams[\"figure.autolayout\"] = True\n",
    "\n",
    "# Pandas dataframe\n",
    "combined_dfs = pd.DataFrame({\"Mens Salary\": male_df[salary].astype(float), \"Woamns salary\": female_df[salary].astype(float)})\n",
    "\n",
    "# Plot the dataframe\n",
    "ax = combined_dfs[['Mens Salary', 'Woamns salary']].plot(kind='box',grid=True,title='Salary compared by gender')\n",
    "\n",
    "# Display the plot\n",
    "plt.show()"
   ]
  },
  {
   "cell_type": "code",
   "execution_count": 9,
   "metadata": {},
   "outputs": [
    {
     "data": {
      "text/html": [
       "<div>\n",
       "<style scoped>\n",
       "    .dataframe tbody tr th:only-of-type {\n",
       "        vertical-align: middle;\n",
       "    }\n",
       "\n",
       "    .dataframe tbody tr th {\n",
       "        vertical-align: top;\n",
       "    }\n",
       "\n",
       "    .dataframe thead th {\n",
       "        text-align: right;\n",
       "    }\n",
       "</style>\n",
       "<table border=\"1\" class=\"dataframe\">\n",
       "  <thead>\n",
       "    <tr style=\"text-align: right;\">\n",
       "      <th></th>\n",
       "      <th>Timestamp</th>\n",
       "      <th>מסלול לימודים</th>\n",
       "      <th>באיזה סמסטר היית כשקיבלת את ההצעה?</th>\n",
       "      <th>ממוצע (נכון לתקופת חיפוש העבודה)</th>\n",
       "      <th>האם ביקשו גיליון ציונים?</th>\n",
       "      <th>קורסי מפתח שעשית לפני הצעת העבודה</th>\n",
       "      <th>האם היה לך ניסיון לפני קבלת המשרה?</th>\n",
       "      <th>שכר שעתי במשרת הסטודנט הראשונה (ש\"ח לשעה)</th>\n",
       "      <th>האם התמקחת אחרי קבלת ההצעה?</th>\n",
       "      <th>חברה (נא לכתוב באנגלית את שם החברה)</th>\n",
       "      <th>תחום המשרה</th>\n",
       "      <th>מין</th>\n",
       "      <th>טעם גלידה אהוב</th>\n",
       "      <th>שנת הצעת העבודה</th>\n",
       "    </tr>\n",
       "  </thead>\n",
       "  <tbody>\n",
       "  </tbody>\n",
       "</table>\n",
       "</div>"
      ],
      "text/plain": [
       "Empty DataFrame\n",
       "Columns: [Timestamp, מסלול לימודים, באיזה סמסטר היית כשקיבלת את ההצעה?, ממוצע (נכון לתקופת חיפוש העבודה), האם ביקשו גיליון ציונים?, קורסי מפתח שעשית לפני הצעת העבודה, האם היה לך ניסיון לפני קבלת המשרה?, שכר שעתי במשרת הסטודנט הראשונה (ש\"ח לשעה), האם התמקחת אחרי קבלת ההצעה?, חברה (נא לכתוב באנגלית את שם החברה), תחום המשרה, מין, טעם גלידה אהוב, שנת הצעת העבודה]\n",
       "Index: []"
      ]
     },
     "execution_count": 9,
     "metadata": {},
     "output_type": "execute_result"
    }
   ],
   "source": [
    "#get outliers cleaned for the scatter point:\n",
    "scatter_df=df\n",
    "scatter_df[scatter_df[salary]>160]\n",
    "scatter_df=scatter_df.drop(344)\n",
    "scatter_df=scatter_df.drop(345)\n",
    "scatter_df=scatter_df.drop(346)\n",
    "scatter_df=scatter_df.drop(347)\n",
    "scatter_df[scatter_df[salary]<59]\n",
    "#scatter_df=scatter_df.drop(0)\n",
    "#scatter_df=scatter_df.drop(1)"
   ]
  },
  {
   "cell_type": "code",
   "execution_count": 10,
   "metadata": {},
   "outputs": [
    {
     "data": {
      "image/png": "[encoded data removed]",
      "text/plain": [
       "<Figure size 432x288 with 1 Axes>"
      ]
     },
     "metadata": {
      "needs_background": "light"
     },
     "output_type": "display_data"
    }
   ],
   "source": [
    "#prepare the scatter points:\n",
    "x=scatter_df[grade].astype(float)\n",
    "y=scatter_df[salary].astype(float)\n",
    "plt.scatter(x,y)\n",
    "plt.title(\"Average grade - Salary plot\")\n",
    "plt.xlabel(\"Average grade\")\n",
    "plt.ylabel(\"Salary\")\n",
    "plt.show()"
   ]
  },
  {
   "cell_type": "code",
   "execution_count": 11,
   "metadata": {},
   "outputs": [
    {
     "name": "stdout",
     "output_type": "stream",
     "text": [
      "{'Intel': 81, 'Microsoft': 20, 'Amazon': 22, 'Google': 2, 'Facebook': 4, 'Apple': 12, 'IBM': 11, 'Rafael': 40, 'Elbit': 15, 'Plus500': 2, 'Nvidia': 13, 'Mobileye': 9}\n"
     ]
    }
   ],
   "source": [
    "#calculate num of exmples from each company:\n",
    "temp_df=df\n",
    "num_of_examples={}\n",
    "companies_names=['Intel','Microsoft','Amazon','Google','Facebook','Apple','IBM','Rafael','Elbit','Plus500','Nvidia','Mobileye']\n",
    "for company_name in companies_names:\n",
    "        num_of_examples[company_name]=len(temp_df[temp_df[company]==company_name])\n",
    "print(num_of_examples)\n"
   ]
  },
  {
   "cell_type": "code",
   "execution_count": 12,
   "metadata": {},
   "outputs": [],
   "source": [
    "#get the calculate companies average:\n",
    "\n",
    "from cmath import nan\n",
    "\n",
    "\n",
    "companies_dict={}\n",
    "companies_names=['Intel','Microsoft','Amazon','Facebook','Apple','IBM','Rafael','Elbit','Nvidia','Mobileye']\n",
    "\n",
    "for company_name in companies_names:\n",
    "    companies_dict[company_name]=df[df[company]==company_name]"
   ]
  },
  {
   "cell_type": "code",
   "execution_count": 13,
   "metadata": {},
   "outputs": [],
   "source": [
    "\n",
    "sorted_salaries_companies=create_sorted_average_dict(companies_dict,salary)\n"
   ]
  },
  {
   "cell_type": "code",
   "execution_count": 14,
   "metadata": {},
   "outputs": [
    {
     "data": {
      "image/png": "[encoded data removed]",
      "text/plain": [
       "<Figure size 1080x360 with 1 Axes>"
      ]
     },
     "metadata": {
      "needs_background": "light"
     },
     "output_type": "display_data"
    }
   ],
   "source": [
    "fig=plt.figure(figsize=(15,5))\n",
    "plt.bar(sorted_salaries_companies.keys(), sorted_salaries_companies.values(), color ='maroon',\n",
    "        width = 0.4)\n",
    " \n",
    "plt.xlabel(\"Companies\")\n",
    "plt.ylabel(\"Average Salary\")\n",
    "plt.title(\"Companies average Salaries\")\n",
    "plt.show()\n"
   ]
  },
  {
   "cell_type": "code",
   "execution_count": 15,
   "metadata": {},
   "outputs": [
    {
     "data": {
      "image/png": "[encoded data removed]",
      "text/plain": [
       "<Figure size 540x252 with 1 Axes>"
      ]
     },
     "metadata": {
      "needs_background": "light"
     },
     "output_type": "display_data"
    }
   ],
   "source": [
    "# box plot by company:\n",
    "\n",
    "import matplotlib.pyplot as plt\n",
    "\n",
    "for current_company in companies_dict:\n",
    "    current_df=companies_dict[current_company]\n",
    "    companies_dict[current_company]=(current_df[salary]).astype(float)\n",
    "\n",
    "# Set the figure size\n",
    "plt.rcParams[\"figure.figsize\"] = [7.50, 3.50]\n",
    "plt.rcParams[\"figure.autolayout\"] = True\n",
    "\n",
    "# Pandas dataframe\n",
    "#combined_dfs = pd.DataFrame({\"Intel\": companies_dict[\"Intel\"].astype(float), \"Mobilay\": companies_dict[\"Mobileye\"].astype(float)})\n",
    "combined_dfs=pd.DataFrame(companies_dict)\n",
    "# Plot the dataframe\n",
    "ax = combined_dfs.plot(kind='box',grid=True,title='Salary compared by company')\n",
    "\n",
    "# Display the plot\n",
    "plt.show()"
   ]
  },
  {
   "cell_type": "code",
   "execution_count": 16,
   "metadata": {},
   "outputs": [],
   "source": [
    "ice_cream_df_dict={}\n",
    "ice_ceam_names=['בייגלה מלוח - קרמל','פיסטוק','וניל עוגיות','בצק עוגיות','שוקולד בראוניס']\n",
    "\n",
    "for ice_cream_name in ice_ceam_names:\n",
    "    ice_cream_df_dict[ice_cream_name]=df[df[ice_cream]==ice_cream_name]    "
   ]
  },
  {
   "cell_type": "code",
   "execution_count": null,
   "metadata": {},
   "outputs": [],
   "source": []
  },
  {
   "cell_type": "code",
   "execution_count": 17,
   "metadata": {},
   "outputs": [
    {
     "data": {
      "image/png": "[encoded data removed]",
      "text/plain": [
       "<Figure size 540x252 with 1 Axes>"
      ]
     },
     "metadata": {
      "needs_background": "light"
     },
     "output_type": "display_data"
    }
   ],
   "source": [
    "import matplotlib.pyplot as plt\n",
    "\n",
    "\n",
    "for flavor in ice_cream_df_dict:\n",
    "    c_df=ice_cream_df_dict[flavor]\n",
    "    ice_cream_df_dict[flavor]=(c_df[salary]).astype(float)\n",
    "\n",
    "# Set the figure size\n",
    "plt.rcParams[\"figure.figsize\"] = [7.50, 3.50]\n",
    "plt.rcParams[\"figure.autolayout\"] = True\n",
    "\n",
    "# Pandas dataframe\n",
    "#combined_dfs = pd.DataFrame({\"Intel\": companies_dict[\"Intel\"].astype(float), \"Mobilay\": companies_dict[\"Mobileye\"].astype(float)})\n",
    "combined_dfs=pd.DataFrame(ice_cream_df_dict)\n",
    "# Plot the dataframe\n",
    "ax = combined_dfs.plot(kind='box',grid=True,title='Salary compared by favorite ice cream flavor')\n",
    "\n",
    "# Display the plot\n",
    "plt.show()"
   ]
  },
  {
   "cell_type": "code",
   "execution_count": 18,
   "metadata": {},
   "outputs": [
    {
     "ename": "KeyError",
     "evalue": "'שכר שעתי במשרת הסטודנט הראשונה (ש\"ח לשעה)'",
     "output_type": "error",
     "traceback": [
      "\u001b[0;31m---------------------------------------------------------------------------\u001b[0m",
      "\u001b[0;31mKeyError\u001b[0m                                  Traceback (most recent call last)",
      "\u001b[0;32m~/miniconda3/envs/ml/lib/python3.7/site-packages/pandas/core/indexes/base.py\u001b[0m in \u001b[0;36mget_loc\u001b[0;34m(self, key, method, tolerance)\u001b[0m\n\u001b[1;32m   3360\u001b[0m             \u001b[0;32mtry\u001b[0m\u001b[0;34m:\u001b[0m\u001b[0;34m\u001b[0m\u001b[0;34m\u001b[0m\u001b[0m\n\u001b[0;32m-> 3361\u001b[0;31m                 \u001b[0;32mreturn\u001b[0m \u001b[0mself\u001b[0m\u001b[0;34m.\u001b[0m\u001b[0m_engine\u001b[0m\u001b[0;34m.\u001b[0m\u001b[0mget_loc\u001b[0m\u001b[0;34m(\u001b[0m\u001b[0mcasted_key\u001b[0m\u001b[0;34m)\u001b[0m\u001b[0;34m\u001b[0m\u001b[0;34m\u001b[0m\u001b[0m\n\u001b[0m\u001b[1;32m   3362\u001b[0m             \u001b[0;32mexcept\u001b[0m \u001b[0mKeyError\u001b[0m \u001b[0;32mas\u001b[0m \u001b[0merr\u001b[0m\u001b[0;34m:\u001b[0m\u001b[0;34m\u001b[0m\u001b[0;34m\u001b[0m\u001b[0m\n",
      "\u001b[0;32m~/miniconda3/envs/ml/lib/python3.7/site-packages/pandas/_libs/index.pyx\u001b[0m in \u001b[0;36mpandas._libs.index.IndexEngine.get_loc\u001b[0;34m()\u001b[0m\n",
      "\u001b[0;32mpandas/_libs/index_class_helper.pxi\u001b[0m in \u001b[0;36mpandas._libs.index.Int64Engine._check_type\u001b[0;34m()\u001b[0m\n",
      "\u001b[0;32mpandas/_libs/index_class_helper.pxi\u001b[0m in \u001b[0;36mpandas._libs.index.Int64Engine._check_type\u001b[0;34m()\u001b[0m\n",
      "\u001b[0;31mKeyError\u001b[0m: 'שכר שעתי במשרת הסטודנט הראשונה (ש\"ח לשעה)'",
      "\nThe above exception was the direct cause of the following exception:\n",
      "\u001b[0;31mKeyError\u001b[0m                                  Traceback (most recent call last)",
      "\u001b[0;32m/tmp/ipykernel_10865/1260643915.py\u001b[0m in \u001b[0;36m<module>\u001b[0;34m\u001b[0m\n\u001b[0;32m----> 1\u001b[0;31m \u001b[0msorted_salaries_companies\u001b[0m\u001b[0;34m=\u001b[0m\u001b[0mcreate_sorted_average_dict\u001b[0m\u001b[0;34m(\u001b[0m\u001b[0mice_cream_df_dict\u001b[0m\u001b[0;34m,\u001b[0m\u001b[0msalary\u001b[0m\u001b[0;34m)\u001b[0m\u001b[0;34m\u001b[0m\u001b[0;34m\u001b[0m\u001b[0m\n\u001b[0m",
      "\u001b[0;32m/tmp/ipykernel_10865/4011431527.py\u001b[0m in \u001b[0;36mcreate_sorted_average_dict\u001b[0;34m(dict, field)\u001b[0m\n\u001b[1;32m     13\u001b[0m     \u001b[0;31m#calculate the average:\u001b[0m\u001b[0;34m\u001b[0m\u001b[0;34m\u001b[0m\u001b[0;34m\u001b[0m\u001b[0m\n\u001b[1;32m     14\u001b[0m     \u001b[0;32mfor\u001b[0m \u001b[0mname\u001b[0m \u001b[0;32min\u001b[0m \u001b[0mdict\u001b[0m\u001b[0;34m:\u001b[0m\u001b[0;34m\u001b[0m\u001b[0;34m\u001b[0m\u001b[0m\n\u001b[0;32m---> 15\u001b[0;31m         \u001b[0maverage_dict\u001b[0m\u001b[0;34m[\u001b[0m\u001b[0mname\u001b[0m\u001b[0;34m]\u001b[0m\u001b[0;34m=\u001b[0m\u001b[0mcalculate_average\u001b[0m\u001b[0;34m(\u001b[0m\u001b[0mdict\u001b[0m\u001b[0;34m[\u001b[0m\u001b[0mname\u001b[0m\u001b[0;34m]\u001b[0m\u001b[0;34m,\u001b[0m\u001b[0mfield\u001b[0m\u001b[0;34m)\u001b[0m\u001b[0;34m\u001b[0m\u001b[0;34m\u001b[0m\u001b[0m\n\u001b[0m\u001b[1;32m     16\u001b[0m \u001b[0;34m\u001b[0m\u001b[0m\n\u001b[1;32m     17\u001b[0m     \u001b[0;31m#sort:\u001b[0m\u001b[0;34m\u001b[0m\u001b[0;34m\u001b[0m\u001b[0;34m\u001b[0m\u001b[0m\n",
      "\u001b[0;32m/tmp/ipykernel_10865/4011431527.py\u001b[0m in \u001b[0;36mcalculate_average\u001b[0;34m(df, column_name)\u001b[0m\n\u001b[1;32m      2\u001b[0m \u001b[0;32mdef\u001b[0m \u001b[0mcalculate_average\u001b[0m\u001b[0;34m(\u001b[0m\u001b[0mdf\u001b[0m\u001b[0;34m,\u001b[0m\u001b[0mcolumn_name\u001b[0m\u001b[0;34m)\u001b[0m\u001b[0;34m:\u001b[0m\u001b[0;34m\u001b[0m\u001b[0;34m\u001b[0m\u001b[0m\n\u001b[1;32m      3\u001b[0m     \u001b[0mnum_of_rows\u001b[0m\u001b[0;34m=\u001b[0m\u001b[0mlen\u001b[0m\u001b[0;34m(\u001b[0m\u001b[0mdf\u001b[0m\u001b[0;34m)\u001b[0m\u001b[0;34m\u001b[0m\u001b[0;34m\u001b[0m\u001b[0m\n\u001b[0;32m----> 4\u001b[0;31m     \u001b[0msum_of_rows\u001b[0m\u001b[0;34m=\u001b[0m\u001b[0mdf\u001b[0m\u001b[0;34m[\u001b[0m\u001b[0mcolumn_name\u001b[0m\u001b[0;34m]\u001b[0m\u001b[0;34m.\u001b[0m\u001b[0mastype\u001b[0m\u001b[0;34m(\u001b[0m\u001b[0mfloat\u001b[0m\u001b[0;34m)\u001b[0m\u001b[0;34m.\u001b[0m\u001b[0msum\u001b[0m\u001b[0;34m(\u001b[0m\u001b[0;34m)\u001b[0m\u001b[0;34m\u001b[0m\u001b[0;34m\u001b[0m\u001b[0m\n\u001b[0m\u001b[1;32m      5\u001b[0m     \u001b[0;32mreturn\u001b[0m \u001b[0msum_of_rows\u001b[0m\u001b[0;34m/\u001b[0m\u001b[0mnum_of_rows\u001b[0m \u001b[0;31m# return the average value\u001b[0m\u001b[0;34m\u001b[0m\u001b[0;34m\u001b[0m\u001b[0m\n\u001b[1;32m      6\u001b[0m \u001b[0;34m\u001b[0m\u001b[0m\n",
      "\u001b[0;32m~/miniconda3/envs/ml/lib/python3.7/site-packages/pandas/core/series.py\u001b[0m in \u001b[0;36m__getitem__\u001b[0;34m(self, key)\u001b[0m\n\u001b[1;32m    940\u001b[0m \u001b[0;34m\u001b[0m\u001b[0m\n\u001b[1;32m    941\u001b[0m         \u001b[0;32melif\u001b[0m \u001b[0mkey_is_scalar\u001b[0m\u001b[0;34m:\u001b[0m\u001b[0;34m\u001b[0m\u001b[0;34m\u001b[0m\u001b[0m\n\u001b[0;32m--> 942\u001b[0;31m             \u001b[0;32mreturn\u001b[0m \u001b[0mself\u001b[0m\u001b[0;34m.\u001b[0m\u001b[0m_get_value\u001b[0m\u001b[0;34m(\u001b[0m\u001b[0mkey\u001b[0m\u001b[0;34m)\u001b[0m\u001b[0;34m\u001b[0m\u001b[0;34m\u001b[0m\u001b[0m\n\u001b[0m\u001b[1;32m    943\u001b[0m \u001b[0;34m\u001b[0m\u001b[0m\n\u001b[1;32m    944\u001b[0m         \u001b[0;32mif\u001b[0m \u001b[0mis_hashable\u001b[0m\u001b[0;34m(\u001b[0m\u001b[0mkey\u001b[0m\u001b[0;34m)\u001b[0m\u001b[0;34m:\u001b[0m\u001b[0;34m\u001b[0m\u001b[0;34m\u001b[0m\u001b[0m\n",
      "\u001b[0;32m~/miniconda3/envs/ml/lib/python3.7/site-packages/pandas/core/series.py\u001b[0m in \u001b[0;36m_get_value\u001b[0;34m(self, label, takeable)\u001b[0m\n\u001b[1;32m   1049\u001b[0m \u001b[0;34m\u001b[0m\u001b[0m\n\u001b[1;32m   1050\u001b[0m         \u001b[0;31m# Similar to Index.get_value, but we do not fall back to positional\u001b[0m\u001b[0;34m\u001b[0m\u001b[0;34m\u001b[0m\u001b[0;34m\u001b[0m\u001b[0m\n\u001b[0;32m-> 1051\u001b[0;31m         \u001b[0mloc\u001b[0m \u001b[0;34m=\u001b[0m \u001b[0mself\u001b[0m\u001b[0;34m.\u001b[0m\u001b[0mindex\u001b[0m\u001b[0;34m.\u001b[0m\u001b[0mget_loc\u001b[0m\u001b[0;34m(\u001b[0m\u001b[0mlabel\u001b[0m\u001b[0;34m)\u001b[0m\u001b[0;34m\u001b[0m\u001b[0;34m\u001b[0m\u001b[0m\n\u001b[0m\u001b[1;32m   1052\u001b[0m         \u001b[0;32mreturn\u001b[0m \u001b[0mself\u001b[0m\u001b[0;34m.\u001b[0m\u001b[0mindex\u001b[0m\u001b[0;34m.\u001b[0m\u001b[0m_get_values_for_loc\u001b[0m\u001b[0;34m(\u001b[0m\u001b[0mself\u001b[0m\u001b[0;34m,\u001b[0m \u001b[0mloc\u001b[0m\u001b[0;34m,\u001b[0m \u001b[0mlabel\u001b[0m\u001b[0;34m)\u001b[0m\u001b[0;34m\u001b[0m\u001b[0;34m\u001b[0m\u001b[0m\n\u001b[1;32m   1053\u001b[0m \u001b[0;34m\u001b[0m\u001b[0m\n",
      "\u001b[0;32m~/miniconda3/envs/ml/lib/python3.7/site-packages/pandas/core/indexes/base.py\u001b[0m in \u001b[0;36mget_loc\u001b[0;34m(self, key, method, tolerance)\u001b[0m\n\u001b[1;32m   3361\u001b[0m                 \u001b[0;32mreturn\u001b[0m \u001b[0mself\u001b[0m\u001b[0;34m.\u001b[0m\u001b[0m_engine\u001b[0m\u001b[0;34m.\u001b[0m\u001b[0mget_loc\u001b[0m\u001b[0;34m(\u001b[0m\u001b[0mcasted_key\u001b[0m\u001b[0;34m)\u001b[0m\u001b[0;34m\u001b[0m\u001b[0;34m\u001b[0m\u001b[0m\n\u001b[1;32m   3362\u001b[0m             \u001b[0;32mexcept\u001b[0m \u001b[0mKeyError\u001b[0m \u001b[0;32mas\u001b[0m \u001b[0merr\u001b[0m\u001b[0;34m:\u001b[0m\u001b[0;34m\u001b[0m\u001b[0;34m\u001b[0m\u001b[0m\n\u001b[0;32m-> 3363\u001b[0;31m                 \u001b[0;32mraise\u001b[0m \u001b[0mKeyError\u001b[0m\u001b[0;34m(\u001b[0m\u001b[0mkey\u001b[0m\u001b[0;34m)\u001b[0m \u001b[0;32mfrom\u001b[0m \u001b[0merr\u001b[0m\u001b[0;34m\u001b[0m\u001b[0;34m\u001b[0m\u001b[0m\n\u001b[0m\u001b[1;32m   3364\u001b[0m \u001b[0;34m\u001b[0m\u001b[0m\n\u001b[1;32m   3365\u001b[0m         \u001b[0;32mif\u001b[0m \u001b[0mis_scalar\u001b[0m\u001b[0;34m(\u001b[0m\u001b[0mkey\u001b[0m\u001b[0;34m)\u001b[0m \u001b[0;32mand\u001b[0m \u001b[0misna\u001b[0m\u001b[0;34m(\u001b[0m\u001b[0mkey\u001b[0m\u001b[0;34m)\u001b[0m \u001b[0;32mand\u001b[0m \u001b[0;32mnot\u001b[0m \u001b[0mself\u001b[0m\u001b[0;34m.\u001b[0m\u001b[0mhasnans\u001b[0m\u001b[0;34m:\u001b[0m\u001b[0;34m\u001b[0m\u001b[0;34m\u001b[0m\u001b[0m\n",
      "\u001b[0;31mKeyError\u001b[0m: 'שכר שעתי במשרת הסטודנט הראשונה (ש\"ח לשעה)'"
     ]
    }
   ],
   "source": [
    "sorted_salaries_companies=create_sorted_average_dict(ice_cream_df_dict,salary)\n"
   ]
  },
  {
   "cell_type": "code",
   "execution_count": null,
   "metadata": {},
   "outputs": [
    {
     "name": "stdout",
     "output_type": "stream",
     "text": [
      "{'למרק - חולמ הלגייבnan': nan, 'פיסטוק73.76': 73.76190476190476, 'וניל עוגיות77.85': 77.84782608695652, 'שוקולד בראוניס78.79': 78.79310344827586, 'בצק עוגיות83.37': 83.37307692307692}\n"
     ]
    }
   ],
   "source": [
    "print(sorted_salaries_companies)"
   ]
  },
  {
   "cell_type": "code",
   "execution_count": null,
   "metadata": {},
   "outputs": [],
   "source": [
    "mtm='מת\"מ'\n",
    "mivni='מבני נתונים'\n",
    "operation_s='הפעלה'\n",
    "algo='אלגו'\n",
    "\n",
    "df_by_courses={}\n",
    "courses_names=[mtm,mivni,operation_s,algo]\n",
    "\n",
    "for course in courses_names:\n",
    "    df_by_courses[course] = df.loc[df[courses].str.contains(course,na=False)]"
   ]
  },
  {
   "cell_type": "code",
   "execution_count": null,
   "metadata": {},
   "outputs": [
    {
     "name": "stderr",
     "output_type": "stream",
     "text": [
      "/home/itay/miniconda3/envs/ml/lib/python3.7/site-packages/ipykernel_launcher.py:5: RuntimeWarning: invalid value encountered in double_scalars\n",
      "  \"\"\"\n"
     ]
    },
    {
     "data": {
      "text/plain": [
       "{'מת\"מ 93.22': 93.21943573667711,\n",
       " 'מבני נתונים 93.77': 93.76975945017182,\n",
       " 'הפעלה 94.03': 94.03132530120483,\n",
       " 'אלגו 94.08': 94.07674418604651,\n",
       " 'קורס בחירה הקשור לתחום (מבוא ללומדות / הגנה ברשתות ..) nan': nan}"
      ]
     },
     "execution_count": 21,
     "metadata": {},
     "output_type": "execute_result"
    }
   ],
   "source": [
    "\n"
   ]
  },
  {
   "cell_type": "code",
   "execution_count": null,
   "metadata": {},
   "outputs": [
    {
     "data": {
      "image/png": "[encoded data removed]",
      "text/plain": [
       "<Figure size 540x252 with 1 Axes>"
      ]
     },
     "metadata": {
      "needs_background": "light"
     },
     "output_type": "display_data"
    }
   ],
   "source": [
    "courses_average_dict = create_sorted_average_dict(dict=df_by_courses,field= salary)\n",
    "\n",
    "courses_dict={}\n",
    "\n",
    "for course in courses_names:\n",
    "    courses_dict[course]=(df.loc[df[courses].str.contains(course,na=False)][salary]).astype(float)\n",
    "\n",
    "# Set the figure size\n",
    "plt.rcParams[\"figure.figsize\"] = [7.50, 3.50]\n",
    "plt.rcParams[\"figure.autolayout\"] = True\n",
    "\n",
    "# Pandas dataframe\n",
    "#combined_dfs = pd.DataFrame({\"Intel\": companies_dict[\"Intel\"].astype(float), \"Mobilay\": companies_dict[\"Mobileye\"].astype(float)})\n",
    "combined_dfs=pd.DataFrame(courses_dict)\n",
    "# Plot the dataframe\n",
    "ax = combined_dfs.plot(kind='box',grid=True,title='Salary compared by courses')\n",
    "\n",
    "# Display the plot\n",
    "plt.show()"
   ]
  },
  {
   "cell_type": "code",
   "execution_count": null,
   "metadata": {},
   "outputs": [
    {
     "name": "stdout",
     "output_type": "stream",
     "text": [
      "{'מת\"מ 94.75': 94.74698795180723, 'אלגו 95.48': 95.47897727272726, 'מבני נתונים 95.5': 95.49668874172185, 'הפעלה 96.0': 96.00176470588235}\n"
     ]
    }
   ],
   "source": [
    "courses_average_dict = create_sorted_average_dict(dict=df_by_courses,field= salary)\n",
    "print(courses_average_dict)\n"
   ]
  },
  {
   "cell_type": "code",
   "execution_count": null,
   "metadata": {},
   "outputs": [
    {
     "name": "stdout",
     "output_type": "stream",
     "text": [
      "{'מת\"מ 93.96': 93.95977443609023, 'מבני נתונים 94.82': 94.81902834008096, 'אלגו 95.57': 95.57152777777777, 'הפעלה 95.99': 95.98768115942029}\n"
     ]
    },
    {
     "data": {
      "image/png": "[encoded data removed]",
      "text/plain": [
       "<Figure size 540x252 with 1 Axes>"
      ]
     },
     "metadata": {
      "needs_background": "light"
     },
     "output_type": "display_data"
    }
   ],
   "source": [
    "no_exp='ללא ניסיון כלל'\n",
    "no_exp_df=df[df[exp]==no_exp]\n",
    "\n",
    "no_exp_courses_dict={}\n",
    "\n",
    "for key in df_by_courses:\n",
    "    current_course_df=df_by_courses[key]\n",
    "    no_exp_courses_dict[key] = current_course_df[current_course_df[exp]==no_exp]\n",
    "\n",
    "\n",
    "courses_noexp_average_dict = create_sorted_average_dict(dict=no_exp_courses_dict,field= salary)\n",
    "print(courses_noexp_average_dict)\n",
    "\n",
    "for course in courses_names:\n",
    "    courses_dict[course]=(no_exp_df.loc[no_exp_df[courses].str.contains(course,na=False)][salary]).astype(float)\n",
    "\n",
    "# Set the figure size\n",
    "plt.rcParams[\"figure.figsize\"] = [7.50, 3.50]\n",
    "plt.rcParams[\"figure.autolayout\"] = True\n",
    "\n",
    "# Pandas dataframe\n",
    "#combined_dfs = pd.DataFrame({\"Intel\": companies_dict[\"Intel\"].astype(float), \"Mobilay\": companies_dict[\"Mobileye\"].astype(float)})\n",
    "combined_dfs=pd.DataFrame(courses_dict)\n",
    "# Plot the dataframe\n",
    "ax = combined_dfs.plot(kind='box',grid=True,title='Salary compared by courses (only people without experience)')\n",
    "\n",
    "# Display the plot\n",
    "plt.show()"
   ]
  },
  {
   "cell_type": "code",
   "execution_count": null,
   "metadata": {},
   "outputs": [
    {
     "name": "stdout",
     "output_type": "stream",
     "text": [
      "{'מת\"מ 93.96': 93.95977443609023, 'מבני נתונים 94.82': 94.81902834008096, 'אלגו 95.57': 95.57152777777777, 'הפעלה 95.99': 95.98768115942029}\n"
     ]
    },
    {
     "data": {
      "image/png": "[encoded data removed]",
      "text/plain": [
       "<Figure size 540x252 with 1 Axes>"
      ]
     },
     "metadata": {
      "needs_background": "light"
     },
     "output_type": "display_data"
    }
   ],
   "source": [
    "no_exp='ללא ניסיון כלל'\n",
    "no_exp_df=df[df[exp]==no_exp]\n",
    "\n",
    "no_exp_courses_dict={}\n",
    "\n",
    "for key in df_by_courses:\n",
    "    current_course_df=df_by_courses[key]\n",
    "    no_exp_courses_dict[key] = current_course_df[current_course_df[exp]==no_exp]\n",
    "\n",
    "\n",
    "courses_noexp_average_dict = create_sorted_average_dict(dict=no_exp_courses_dict,field= salary)\n",
    "print(courses_noexp_average_dict)\n",
    "\n",
    "for course in courses_names:\n",
    "    courses_dict[course]=(no_exp_df.loc[no_exp_df[courses].str.contains(course,na=False)][salary]).astype(float)\n",
    "\n",
    "# Set the figure size\n",
    "plt.rcParams[\"figure.figsize\"] = [7.50, 3.50]\n",
    "plt.rcParams[\"figure.autolayout\"] = True\n",
    "\n",
    "# Pandas dataframe\n",
    "#combined_dfs = pd.DataFrame({\"Intel\": companies_dict[\"Intel\"].astype(float), \"Mobilay\": companies_dict[\"Mobileye\"].astype(float)})\n",
    "combined_dfs=pd.DataFrame(courses_dict)\n",
    "# Plot the dataframe\n",
    "ax = combined_dfs.plot(kind='box',grid=True,title='Salary compared by courses (only people without experience)')\n",
    "\n",
    "# Display the plot\n",
    "plt.show()"
   ]
  },
  {
   "cell_type": "code",
   "execution_count": null,
   "metadata": {},
   "outputs": [],
   "source": [
    "def checkBySemster(semester_num):\n",
    "    #sem5 no exp\n",
    "    semster=semester_num\n",
    "    sem_df=no_exp_df[no_exp_df[sem]==semster]\n",
    "\n",
    "    sem5_courses_dict={}\n",
    "\n",
    "    for key in df_by_courses:\n",
    "        current_course_df=df_by_courses[key]\n",
    "        sem5_courses_dict[key] = current_course_df[current_course_df[exp]==semster]\n",
    "\n",
    "\n",
    "    sem_average_dict = create_sorted_average_dict(dict=sem5_courses_dict,field= salary)\n",
    "    print(sem_average_dict)\n",
    "\n",
    "    for course in courses_names:\n",
    "        courses_dict[course]=(sem_df.loc[sem_df[courses].str.contains(course,na=False)][salary]).astype(float)\n",
    "\n",
    "    # Set the figure size\n",
    "    plt.rcParams[\"figure.figsize\"] = [7.50, 3.50]\n",
    "    plt.rcParams[\"figure.autolayout\"] = True\n",
    "\n",
    "    # Pandas dataframe\n",
    "    #combined_dfs = pd.DataFrame({\"Intel\": companies_dict[\"Intel\"].astype(float), \"Mobilay\": companies_dict[\"Mobileye\"].astype(float)})\n",
    "    combined_dfs=pd.DataFrame(courses_dict)\n",
    "    # Plot the dataframe\n",
    "    ax = combined_dfs.plot(kind='box',grid=True,title='Salary compared by courses (only people from semster '+str(semester_num)+' )')\n",
    "\n",
    "    # Display the plot\n",
    "    plt.show()"
   ]
  },
  {
   "cell_type": "code",
   "execution_count": null,
   "metadata": {},
   "outputs": [
    {
     "name": "stderr",
     "output_type": "stream",
     "text": [
      "/home/itay/miniconda3/envs/ml/lib/python3.7/site-packages/ipykernel_launcher.py:5: RuntimeWarning: invalid value encountered in double_scalars\n",
      "  \"\"\"\n"
     ]
    },
    {
     "name": "stdout",
     "output_type": "stream",
     "text": [
      "{'מת\"מ nan': nan, 'מבני נתונים nan': nan, 'הפעלה nan': nan, 'אלגו nan': nan}\n"
     ]
    },
    {
     "data": {
      "image/png": "[encoded data removed]",
      "text/plain": [
       "<Figure size 540x252 with 1 Axes>"
      ]
     },
     "metadata": {
      "needs_background": "light"
     },
     "output_type": "display_data"
    }
   ],
   "source": [
    "#sem5 no exp\n",
    "checkBySemster(3)"
   ]
  },
  {
   "cell_type": "code",
   "execution_count": null,
   "metadata": {},
   "outputs": [
    {
     "name": "stderr",
     "output_type": "stream",
     "text": [
      "/home/itay/miniconda3/envs/ml/lib/python3.7/site-packages/ipykernel_launcher.py:5: RuntimeWarning: invalid value encountered in double_scalars\n",
      "  \"\"\"\n"
     ]
    },
    {
     "name": "stdout",
     "output_type": "stream",
     "text": [
      "{'מת\"מ nan': nan, 'מבני נתונים nan': nan, 'הפעלה nan': nan, 'אלגו nan': nan}\n"
     ]
    },
    {
     "data": {
      "image/png": "[encoded data removed]",
      "text/plain": [
       "<Figure size 540x252 with 1 Axes>"
      ]
     },
     "metadata": {
      "needs_background": "light"
     },
     "output_type": "display_data"
    }
   ],
   "source": [
    "checkBySemster(4)"
   ]
  },
  {
   "cell_type": "code",
   "execution_count": null,
   "metadata": {},
   "outputs": [
    {
     "name": "stderr",
     "output_type": "stream",
     "text": [
      "/home/itay/miniconda3/envs/ml/lib/python3.7/site-packages/ipykernel_launcher.py:5: RuntimeWarning: invalid value encountered in double_scalars\n",
      "  \"\"\"\n"
     ]
    },
    {
     "name": "stdout",
     "output_type": "stream",
     "text": [
      "{'מת\"מ nan': nan, 'מבני נתונים nan': nan, 'הפעלה nan': nan, 'אלגו nan': nan}\n"
     ]
    },
    {
     "data": {
      "image/png": "[encoded data removed]",
      "text/plain": [
       "<Figure size 540x252 with 1 Axes>"
      ]
     },
     "metadata": {
      "needs_background": "light"
     },
     "output_type": "display_data"
    }
   ],
   "source": [
    "checkBySemster(5)"
   ]
  },
  {
   "cell_type": "code",
   "execution_count": null,
   "metadata": {},
   "outputs": [
    {
     "name": "stdout",
     "output_type": "stream",
     "text": [
      "{'מת\"מ nan': nan, 'מבני נתונים nan': nan, 'הפעלה nan': nan, 'אלגו nan': nan}\n"
     ]
    },
    {
     "name": "stderr",
     "output_type": "stream",
     "text": [
      "/home/itay/miniconda3/envs/ml/lib/python3.7/site-packages/ipykernel_launcher.py:5: RuntimeWarning: invalid value encountered in double_scalars\n",
      "  \"\"\"\n"
     ]
    },
    {
     "data": {
      "image/png": "[encoded data removed]",
      "text/plain": [
       "<Figure size 540x252 with 1 Axes>"
      ]
     },
     "metadata": {
      "needs_background": "light"
     },
     "output_type": "display_data"
    }
   ],
   "source": [
    "checkBySemster(6)"
   ]
  },
  {
   "cell_type": "code",
   "execution_count": null,
   "metadata": {},
   "outputs": [],
   "source": []
  },
  {
   "cell_type": "code",
   "execution_count": null,
   "metadata": {},
   "outputs": [
    {
     "data": {
      "image/png": "[encoded data removed]",
      "text/plain": [
       "<Figure size 540x252 with 1 Axes>"
      ]
     },
     "metadata": {
      "needs_background": "light"
     },
     "output_type": "display_data"
    }
   ],
   "source": [
    "dict_df_years={}\n",
    "years=[2019,2020,2021,2022]\n",
    "\n",
    "for c_year in years:\n",
    "        dict_df_years[c_year]=(df[df[year]==c_year][salary]).astype(float)\n",
    "\n",
    "# Set the figure size\n",
    "plt.rcParams[\"figure.figsize\"] = [7.50, 3.50]\n",
    "plt.rcParams[\"figure.autolayout\"] = True\n",
    "\n",
    "# Pandas dataframe\n",
    "#combined_dfs = pd.DataFrame({\"Intel\": companies_dict[\"Intel\"].astype(float), \"Mobilay\": companies_dict[\"Mobileye\"].astype(float)})\n",
    "combined_dfs=pd.DataFrame(dict_df_years)\n",
    "# Plot the dataframe\n",
    "ax = combined_dfs.plot(kind='box',grid=True,title='Salary compared by year')\n",
    "\n",
    "# Display the plot\n",
    "plt.show()"
   ]
  }
 ],
 "metadata": {
  "kernelspec": {
   "display_name": "Python 3.7.13 ('ml')",
   "language": "python",
   "name": "python3"
  },
  "language_info": {
   "codemirror_mode": {
    "name": "ipython",
    "version": 3
   },
   "file_extension": ".py",
   "mimetype": "text/x-python",
   "name": "python",
   "nbconvert_exporter": "python",
   "pygments_lexer": "ipython3",
   "version": "3.7.13"
  },
  "orig_nbformat": 4,
  "vscode": {
   "interpreter": {
    "hash": "d406985a3116061fb1a038b1a39c04dacc79322f4d6b686ec924c4b564262bd8"
   }
  }
 },
 "nbformat": 4,
 "nbformat_minor": 2
}
